{
 "cells": [
  {
   "cell_type": "markdown",
   "id": "03b7299e-436e-47b1-8cd0-5cb74014a200",
   "metadata": {},
   "source": [
    "# Data Types in Python "
   ]
  },
  {
   "cell_type": "markdown",
   "id": "bece55f8-86df-4934-9153-1ec25f092b4a",
   "metadata": {},
   "source": [
    "### List"
   ]
  },
  {
   "cell_type": "code",
   "execution_count": 1,
   "id": "41749dd8-2124-4e35-be24-ca3225007b8f",
   "metadata": {},
   "outputs": [],
   "source": [
    "lst = [1, 2, 3]"
   ]
  },
  {
   "cell_type": "markdown",
   "id": "db7942f1-5f7f-4595-bebe-da6c240b1c4e",
   "metadata": {
    "jp-MarkdownHeadingCollapsed": true
   },
   "source": [
    "### Create"
   ]
  },
  {
   "cell_type": "code",
   "execution_count": 3,
   "id": "577e0b29-1dfc-4328-aae7-79878a813422",
   "metadata": {},
   "outputs": [
    {
     "data": {
      "text/plain": [
       "list"
      ]
     },
     "execution_count": 3,
     "metadata": {},
     "output_type": "execute_result"
    }
   ],
   "source": [
    "# Empty list\n",
    "lst = []\n",
    "type(lst)"
   ]
  },
  {
   "cell_type": "code",
   "execution_count": 4,
   "id": "80efcf4a-fe37-4b24-96d8-7dd6cb9401d2",
   "metadata": {},
   "outputs": [
    {
     "data": {
      "text/plain": [
       "[1, 2, 3]"
      ]
     },
     "execution_count": 4,
     "metadata": {},
     "output_type": "execute_result"
    }
   ],
   "source": [
    "# 1D list\n",
    "lst1 = [1,2,3]\n",
    "lst1"
   ]
  },
  {
   "cell_type": "code",
   "execution_count": 5,
   "id": "e4347d14-6b14-4d2c-832f-83cf146ce60b",
   "metadata": {},
   "outputs": [
    {
     "data": {
      "text/plain": [
       "[1, 2, 3, [4, 5]]"
      ]
     },
     "execution_count": 5,
     "metadata": {},
     "output_type": "execute_result"
    }
   ],
   "source": [
    "# 2D list\n",
    "lst2 = [1,2,3,[4,5]]\n",
    "lst2"
   ]
  },
  {
   "cell_type": "code",
   "execution_count": 6,
   "id": "1b426572-0b6c-4eb8-802d-c3f5959cda6c",
   "metadata": {},
   "outputs": [
    {
     "data": {
      "text/plain": [
       "[[[1, 2], [3, 4]], [[5, 6], [7, 8]]]"
      ]
     },
     "execution_count": 6,
     "metadata": {},
     "output_type": "execute_result"
    }
   ],
   "source": [
    "# 3D list\n",
    "lst3 = [[[1,2],[3,4]],[[5,6],[7,8]]]\n",
    "lst3"
   ]
  },
  {
   "cell_type": "code",
   "execution_count": 9,
   "id": "8cf1af7c-042c-44a9-87cc-2b8f49b30160",
   "metadata": {},
   "outputs": [
    {
     "name": "stdout",
     "output_type": "stream",
     "text": [
      "['h', 'e', 'l', 'l', 'o']\n"
     ]
    }
   ],
   "source": [
    "# convert into list using list()\n",
    "print(list('hello'))"
   ]
  },
  {
   "cell_type": "markdown",
   "id": "8c3652bf-f88b-49b8-bb2c-c300b7a42055",
   "metadata": {
    "jp-MarkdownHeadingCollapsed": true
   },
   "source": [
    "### Accessing items from a list"
   ]
  },
  {
   "cell_type": "code",
   "execution_count": 10,
   "id": "a8c45cb1-5748-4c64-a0c4-2a6ba57b24b0",
   "metadata": {},
   "outputs": [
    {
     "data": {
      "text/plain": [
       "1"
      ]
     },
     "execution_count": 10,
     "metadata": {},
     "output_type": "execute_result"
    }
   ],
   "source": [
    "# indexing\n",
    "lst = [1,2,3,4,5]\n",
    "lst[0]"
   ]
  },
  {
   "cell_type": "code",
   "execution_count": 11,
   "id": "f2d3eeb9-b117-469b-a70a-86ef4d0a9b1c",
   "metadata": {},
   "outputs": [
    {
     "data": {
      "text/plain": [
       "5"
      ]
     },
     "execution_count": 11,
     "metadata": {},
     "output_type": "execute_result"
    }
   ],
   "source": [
    "lst[-1]"
   ]
  },
  {
   "cell_type": "code",
   "execution_count": 12,
   "id": "5fa088c7-db9b-445b-8efd-638b0c7577ab",
   "metadata": {},
   "outputs": [
    {
     "data": {
      "text/plain": [
       "[3, 4]"
      ]
     },
     "execution_count": 12,
     "metadata": {},
     "output_type": "execute_result"
    }
   ],
   "source": [
    "lst[2:4]"
   ]
  },
  {
   "cell_type": "code",
   "execution_count": 13,
   "id": "651d02b3-a4bd-45b9-aa4a-468264b40299",
   "metadata": {},
   "outputs": [
    {
     "data": {
      "text/plain": [
       "[2, 4]"
      ]
     },
     "execution_count": 13,
     "metadata": {},
     "output_type": "execute_result"
    }
   ],
   "source": [
    "lst[1:4:2]"
   ]
  },
  {
   "cell_type": "code",
   "execution_count": 15,
   "id": "635136c0-1072-4188-9eab-13c8c0eb89fe",
   "metadata": {},
   "outputs": [
    {
     "data": {
      "text/plain": [
       "4"
      ]
     },
     "execution_count": 15,
     "metadata": {},
     "output_type": "execute_result"
    }
   ],
   "source": [
    "lst2[-1][0]"
   ]
  },
  {
   "cell_type": "code",
   "execution_count": 19,
   "id": "bd08570c-0a28-42f3-85d1-00b5cfbe2269",
   "metadata": {},
   "outputs": [
    {
     "data": {
      "text/plain": [
       "8"
      ]
     },
     "execution_count": 19,
     "metadata": {},
     "output_type": "execute_result"
    }
   ],
   "source": [
    "lst3[-1][1][-1]"
   ]
  },
  {
   "cell_type": "code",
   "execution_count": 22,
   "id": "eab530d6-59ef-4c08-885f-cb1510a112f2",
   "metadata": {},
   "outputs": [
    {
     "data": {
      "text/plain": [
       "2"
      ]
     },
     "execution_count": 22,
     "metadata": {},
     "output_type": "execute_result"
    }
   ],
   "source": [
    "lst3[0][0][1]"
   ]
  },
  {
   "cell_type": "code",
   "execution_count": 23,
   "id": "fa6f0168-f48e-4f6f-a2e7-cb0908c78687",
   "metadata": {},
   "outputs": [
    {
     "data": {
      "text/plain": [
       "[3, 2, 1]"
      ]
     },
     "execution_count": 23,
     "metadata": {},
     "output_type": "execute_result"
    }
   ],
   "source": [
    "lst1[::-1]"
   ]
  },
  {
   "cell_type": "markdown",
   "id": "fe0402a9-8892-44bd-aaea-c94160fe3669",
   "metadata": {},
   "source": [
    "### Adding Items to a List: append(), extend() & insert()"
   ]
  },
  {
   "cell_type": "code",
   "execution_count": 26,
   "id": "06af8431-2f97-4b07-b413-e386c3dec03e",
   "metadata": {},
   "outputs": [
    {
     "data": {
      "text/plain": [
       "[1, 2, 3, 4, 5, 6, 6]"
      ]
     },
     "execution_count": 26,
     "metadata": {},
     "output_type": "execute_result"
    }
   ],
   "source": [
    "lst.append(6) #single item add or when you add more item they ad as a list\n",
    "lst"
   ]
  },
  {
   "cell_type": "code",
   "execution_count": 27,
   "id": "5a1f24d6-979c-4f86-9fbc-885ea4ab917b",
   "metadata": {},
   "outputs": [
    {
     "data": {
      "text/plain": [
       "[1, 2, 3, 4, 5, 6, 6, 7, 8, 9]"
      ]
     },
     "execution_count": 27,
     "metadata": {},
     "output_type": "execute_result"
    }
   ],
   "source": [
    "lst.extend([7, 8, 9]) # add more than one items at a time\n",
    "lst"
   ]
  },
  {
   "cell_type": "code",
   "execution_count": 28,
   "id": "456c6283-3714-4173-a8ac-a84a50a2b2df",
   "metadata": {},
   "outputs": [],
   "source": [
    "lst.extend('nashik')"
   ]
  },
  {
   "cell_type": "code",
   "execution_count": 29,
   "id": "2849e633-55a3-4575-b33d-7c85ac052833",
   "metadata": {},
   "outputs": [
    {
     "data": {
      "text/plain": [
       "[1, 2, 3, 4, 5, 6, 6, 7, 8, 9, 'n', 'a', 's', 'h', 'i', 'k']"
      ]
     },
     "execution_count": 29,
     "metadata": {},
     "output_type": "execute_result"
    }
   ],
   "source": [
    "lst"
   ]
  },
  {
   "cell_type": "code",
   "execution_count": 31,
   "id": "4a8a54ab-1e8b-4cca-ba5d-d9237991c476",
   "metadata": {},
   "outputs": [
    {
     "data": {
      "text/plain": [
       "[1, 2, 3, 4, 5, 6, 6, 7, 8, 9, 10, 10, 'n', 'a', 's', 'h', 'i', 'k']"
      ]
     },
     "execution_count": 31,
     "metadata": {},
     "output_type": "execute_result"
    }
   ],
   "source": [
    "# insert - where you need to add (index, value)\n",
    "lst.insert(10, 10)\n",
    "lst"
   ]
  },
  {
   "cell_type": "markdown",
   "id": "c8c1ae23-ec12-440c-8509-e4f8e1893f54",
   "metadata": {},
   "source": [
    "### Edit in list"
   ]
  },
  {
   "cell_type": "code",
   "execution_count": 32,
   "id": "ce443fe0-132f-4249-a720-ca352f010b04",
   "metadata": {},
   "outputs": [
    {
     "data": {
      "text/plain": [
       "[1, 2, 3, 4, 5, 6, 600, 700, 800, 900, 10, 10, 'n', 'a', 's', 'h', 'i', 'k']"
      ]
     },
     "execution_count": 32,
     "metadata": {},
     "output_type": "execute_result"
    }
   ],
   "source": [
    "# edit in list \n",
    "lst[6:10] = [600, 700, 800, 900] # slice\n",
    "lst"
   ]
  },
  {
   "cell_type": "code",
   "execution_count": 33,
   "id": "45ed7c31-372c-4575-84d8-47159235f7f6",
   "metadata": {},
   "outputs": [
    {
     "data": {
      "text/plain": [
       "[1, 2, 3, 4, 5, 6, 600, 700, 800, 900, 1000, 10, 'n', 'a', 's', 'h', 'i', 'k']"
      ]
     },
     "execution_count": 33,
     "metadata": {},
     "output_type": "execute_result"
    }
   ],
   "source": [
    "lst[10] = 1000\n",
    "lst"
   ]
  },
  {
   "cell_type": "markdown",
   "id": "e125c741-d316-49c8-af64-407ada14db48",
   "metadata": {},
   "source": [
    "### Deleting items from a list: del, remove(), pop() & clear()"
   ]
  },
  {
   "cell_type": "code",
   "execution_count": 34,
   "id": "540141d6-36d0-466d-9a4e-2f4d9f2fe20f",
   "metadata": {},
   "outputs": [
    {
     "data": {
      "text/plain": [
       "[1, 2, 3, 4, 5, 6, 600, 700, 800, 900, 1000, 10, 'n', 'a', 's', 'h', 'i', 'k']"
      ]
     },
     "execution_count": 34,
     "metadata": {},
     "output_type": "execute_result"
    }
   ],
   "source": [
    "lst"
   ]
  },
  {
   "cell_type": "code",
   "execution_count": 35,
   "id": "752fe178-ee82-4763-82b5-c07c70d170d6",
   "metadata": {},
   "outputs": [
    {
     "data": {
      "text/plain": [
       "[1, 2, 3, 4, 5, 6, 600, 700, 800, 900, 1000, 10, 'n', 'a', 's', 'h', 'i']"
      ]
     },
     "execution_count": 35,
     "metadata": {},
     "output_type": "execute_result"
    }
   ],
   "source": [
    "# single itme\n",
    "del lst[-1]\n",
    "lst"
   ]
  },
  {
   "cell_type": "code",
   "execution_count": 36,
   "id": "792a3715-05f3-4e48-bafa-a0344b67a2ba",
   "metadata": {},
   "outputs": [
    {
     "data": {
      "text/plain": [
       "[1, 2, 3, 4, 5]"
      ]
     },
     "execution_count": 36,
     "metadata": {},
     "output_type": "execute_result"
    }
   ],
   "source": [
    "# del with slice\n",
    "del lst[5:]\n",
    "lst"
   ]
  },
  {
   "cell_type": "code",
   "execution_count": 37,
   "id": "dd1ca7dc-011a-41fa-97ce-2fd1e399364d",
   "metadata": {},
   "outputs": [
    {
     "ename": "NameError",
     "evalue": "name 'lst' is not defined",
     "output_type": "error",
     "traceback": [
      "\u001b[0;31m---------------------------------------------------------------------------\u001b[0m",
      "\u001b[0;31mNameError\u001b[0m                                 Traceback (most recent call last)",
      "Cell \u001b[0;32mIn[37], line 2\u001b[0m\n\u001b[1;32m      1\u001b[0m \u001b[38;5;28;01mdel\u001b[39;00m lst\n\u001b[0;32m----> 2\u001b[0m lst\n",
      "\u001b[0;31mNameError\u001b[0m: name 'lst' is not defined"
     ]
    }
   ],
   "source": [
    "del lst\n",
    "lst"
   ]
  },
  {
   "cell_type": "code",
   "execution_count": 39,
   "id": "1a3145f4-890d-4c63-b49f-b124fa4b417f",
   "metadata": {},
   "outputs": [
    {
     "data": {
      "text/plain": [
       "[1, 2, 4, 5]"
      ]
     },
     "execution_count": 39,
     "metadata": {},
     "output_type": "execute_result"
    }
   ],
   "source": [
    "# remove - delete throw by value\n",
    "\n",
    "lst = [1,2,3,4,5]\n",
    "\n",
    "lst.remove(3)\n",
    "lst"
   ]
  },
  {
   "cell_type": "code",
   "execution_count": 40,
   "id": "6abe1909-4fdb-4954-b111-16fd7f97f907",
   "metadata": {},
   "outputs": [
    {
     "data": {
      "text/plain": [
       "5"
      ]
     },
     "execution_count": 40,
     "metadata": {},
     "output_type": "execute_result"
    }
   ],
   "source": [
    "# pop index or default del from last\n",
    "lst.pop()"
   ]
  },
  {
   "cell_type": "code",
   "execution_count": 41,
   "id": "a6a3a2f4-222c-4674-90cd-ebfa36921327",
   "metadata": {},
   "outputs": [],
   "source": [
    "lst.clear()"
   ]
  },
  {
   "cell_type": "code",
   "execution_count": 42,
   "id": "4c150735-6726-4687-bb9b-89a5d955bb49",
   "metadata": {},
   "outputs": [
    {
     "data": {
      "text/plain": [
       "[]"
      ]
     },
     "execution_count": 42,
     "metadata": {},
     "output_type": "execute_result"
    }
   ],
   "source": [
    "lst"
   ]
  },
  {
   "cell_type": "markdown",
   "id": "ada91251-74d6-4ea1-9f79-76d09dfffb93",
   "metadata": {},
   "source": [
    "### Operations"
   ]
  },
  {
   "cell_type": "code",
   "execution_count": 43,
   "id": "84c16ea1-5a19-447a-b6b8-bb901fbaa267",
   "metadata": {},
   "outputs": [
    {
     "data": {
      "text/plain": [
       "[1, 2, 3, 4, 5, 6]"
      ]
     },
     "execution_count": 43,
     "metadata": {},
     "output_type": "execute_result"
    }
   ],
   "source": [
    "# arithmetic (+, *)\n",
    "\n",
    "l1 = [1,2,3]\n",
    "l2 = [4,5,6]\n",
    "\n",
    "l3 = l1 + l2 # merge, concatenation\n",
    "l3"
   ]
  },
  {
   "cell_type": "code",
   "execution_count": 44,
   "id": "5a98bee9-fbb8-4443-8d6f-fe0a10a5c333",
   "metadata": {},
   "outputs": [
    {
     "data": {
      "text/plain": [
       "[1, 2, 3, 1, 2, 3, 1, 2, 3]"
      ]
     },
     "execution_count": 44,
     "metadata": {},
     "output_type": "execute_result"
    }
   ],
   "source": [
    "l1*3"
   ]
  },
  {
   "cell_type": "code",
   "execution_count": 45,
   "id": "4bac91f9-1f65-4ccd-9028-a795453a1d89",
   "metadata": {},
   "outputs": [
    {
     "data": {
      "text/plain": [
       "False"
      ]
     },
     "execution_count": 45,
     "metadata": {},
     "output_type": "execute_result"
    }
   ],
   "source": [
    "# membership (in, not in)\n",
    "\n",
    "5 in lst"
   ]
  },
  {
   "cell_type": "code",
   "execution_count": 46,
   "id": "dde5c778-ee96-4ca8-9711-ff3353f38670",
   "metadata": {},
   "outputs": [
    {
     "data": {
      "text/plain": [
       "True"
      ]
     },
     "execution_count": 46,
     "metadata": {},
     "output_type": "execute_result"
    }
   ],
   "source": [
    "5 not in lst"
   ]
  },
  {
   "cell_type": "markdown",
   "id": "75f4e9d4-d351-48f3-94d2-196a1ec11915",
   "metadata": {},
   "source": [
    "### Loops"
   ]
  },
  {
   "cell_type": "code",
   "execution_count": 47,
   "id": "fc323478-1a4d-4a46-93f0-3fe932fa964e",
   "metadata": {},
   "outputs": [
    {
     "name": "stdout",
     "output_type": "stream",
     "text": [
      "1\n",
      "2\n",
      "3\n",
      "4\n",
      "5\n",
      "6\n",
      "7\n"
     ]
    }
   ],
   "source": [
    "l = [1,2,3,4,5,6,7]\n",
    "for i in l:\n",
    "    print(i)"
   ]
  },
  {
   "cell_type": "code",
   "execution_count": 48,
   "id": "7d44274e-1618-43ff-b27f-15dca7a31876",
   "metadata": {},
   "outputs": [
    {
     "name": "stdout",
     "output_type": "stream",
     "text": [
      "1\n",
      "2\n",
      "3\n",
      "4\n",
      "5\n",
      "6\n",
      "[7, 8, 9]\n"
     ]
    }
   ],
   "source": [
    "l2 = [1,2,3,4,5,6,[7,8,9]]\n",
    "for i in l2:\n",
    "    print(i)"
   ]
  },
  {
   "cell_type": "markdown",
   "id": "cbf5da3e-877a-4879-a69e-3428a73a9e16",
   "metadata": {},
   "source": [
    "### Functions"
   ]
  },
  {
   "cell_type": "code",
   "execution_count": 49,
   "id": "9e2a10bb-ab09-47df-b66b-46bb94d1329a",
   "metadata": {},
   "outputs": [
    {
     "data": {
      "text/plain": [
       "7"
      ]
     },
     "execution_count": 49,
     "metadata": {},
     "output_type": "execute_result"
    }
   ],
   "source": [
    "# len \n",
    "len(l2)"
   ]
  },
  {
   "cell_type": "code",
   "execution_count": 51,
   "id": "f150e8f7-94a4-46f0-a56c-e90dcf81e0a2",
   "metadata": {},
   "outputs": [
    {
     "data": {
      "text/plain": [
       "1"
      ]
     },
     "execution_count": 51,
     "metadata": {},
     "output_type": "execute_result"
    }
   ],
   "source": [
    "min(l)"
   ]
  },
  {
   "cell_type": "code",
   "execution_count": 52,
   "id": "3bef6d38-7e34-4bbc-b2e9-c490c30d3d95",
   "metadata": {},
   "outputs": [
    {
     "data": {
      "text/plain": [
       "7"
      ]
     },
     "execution_count": 52,
     "metadata": {},
     "output_type": "execute_result"
    }
   ],
   "source": [
    "max(l)"
   ]
  },
  {
   "cell_type": "code",
   "execution_count": 55,
   "id": "8e5a1202-4255-4577-bb0c-ed127637db56",
   "metadata": {},
   "outputs": [
    {
     "name": "stdout",
     "output_type": "stream",
     "text": [
      "[1, 2, 3, 4, 5, 6, 7]\n",
      "[7, 6, 5, 4, 3, 2, 1]\n"
     ]
    }
   ],
   "source": [
    "print(l)\n",
    "print(sorted(l, reverse=True))"
   ]
  },
  {
   "cell_type": "code",
   "execution_count": 57,
   "id": "00ff0233-8857-4422-b0b0-7fb1a9e3e490",
   "metadata": {},
   "outputs": [
    {
     "data": {
      "text/plain": [
       "2"
      ]
     },
     "execution_count": 57,
     "metadata": {},
     "output_type": "execute_result"
    }
   ],
   "source": [
    "# count - return the how many time occure\n",
    "lst = [1,2,3,3,4,5,6,1]\n",
    "lst.count(1)"
   ]
  },
  {
   "cell_type": "code",
   "execution_count": 59,
   "id": "effdd650-571c-4efe-9f44-8c21dd07a83d",
   "metadata": {},
   "outputs": [
    {
     "data": {
      "text/plain": [
       "1"
      ]
     },
     "execution_count": 59,
     "metadata": {},
     "output_type": "execute_result"
    }
   ],
   "source": [
    "# index - put value return index\n",
    "lst.index(2)"
   ]
  },
  {
   "cell_type": "code",
   "execution_count": 60,
   "id": "12a37753-efd1-4a42-946d-38e9f5c10446",
   "metadata": {},
   "outputs": [],
   "source": [
    "# permanently reserve \n",
    "lst.reverse()"
   ]
  },
  {
   "cell_type": "code",
   "execution_count": 61,
   "id": "595ff19d-e9bd-4d3d-9487-2a674acee5ac",
   "metadata": {},
   "outputs": [
    {
     "data": {
      "text/plain": [
       "[1, 6, 5, 4, 3, 3, 2, 1]"
      ]
     },
     "execution_count": 61,
     "metadata": {},
     "output_type": "execute_result"
    }
   ],
   "source": [
    "lst"
   ]
  },
  {
   "cell_type": "code",
   "execution_count": 62,
   "id": "a314b8bb-4f09-4b06-bc92-8b6753dbf7ce",
   "metadata": {},
   "outputs": [],
   "source": [
    "# sort() - permanently sort the list\n",
    "# sorted() - temporary sort"
   ]
  },
  {
   "cell_type": "code",
   "execution_count": 63,
   "id": "6342a58c-8344-48a2-98ca-76408bf77848",
   "metadata": {},
   "outputs": [
    {
     "data": {
      "text/plain": [
       "[1, 6, 5, 4, 3, 3, 2, 1]"
      ]
     },
     "execution_count": 63,
     "metadata": {},
     "output_type": "execute_result"
    }
   ],
   "source": [
    "# copy\n",
    "l2 = lst.copy()\n",
    "l2"
   ]
  },
  {
   "cell_type": "code",
   "execution_count": 64,
   "id": "4ff19d55-71bc-4456-946a-2894c7f7bf34",
   "metadata": {},
   "outputs": [
    {
     "name": "stdout",
     "output_type": "stream",
     "text": [
      "4446651520\n",
      "4446189440\n"
     ]
    }
   ],
   "source": [
    "print(id(lst))\n",
    "print(id(l2))"
   ]
  },
  {
   "cell_type": "markdown",
   "id": "016e39ab-a70f-4c30-86f9-e95a60e7b0f0",
   "metadata": {},
   "source": [
    "### List comprehension\n",
    "List comprehension provides a concise way of creating lists. <br />\n",
    "newlist = [expression for item in iterable if condiotion == True]"
   ]
  },
  {
   "cell_type": "code",
   "execution_count": 66,
   "id": "b25b19da-da22-4a28-a1a7-a1cd97f2b307",
   "metadata": {},
   "outputs": [
    {
     "data": {
      "text/plain": [
       "[1,\n",
       " 2,\n",
       " 3,\n",
       " 4,\n",
       " 5,\n",
       " 6,\n",
       " 7,\n",
       " 8,\n",
       " 9,\n",
       " 10,\n",
       " 11,\n",
       " 12,\n",
       " 13,\n",
       " 14,\n",
       " 15,\n",
       " 16,\n",
       " 17,\n",
       " 18,\n",
       " 19,\n",
       " 20,\n",
       " 21,\n",
       " 22,\n",
       " 23,\n",
       " 24,\n",
       " 25,\n",
       " 26,\n",
       " 27,\n",
       " 28,\n",
       " 29,\n",
       " 30,\n",
       " 31,\n",
       " 32,\n",
       " 33,\n",
       " 34,\n",
       " 35,\n",
       " 36,\n",
       " 37,\n",
       " 38,\n",
       " 39,\n",
       " 40,\n",
       " 41,\n",
       " 42,\n",
       " 43,\n",
       " 44,\n",
       " 45,\n",
       " 46,\n",
       " 47,\n",
       " 48,\n",
       " 49,\n",
       " 50]"
      ]
     },
     "execution_count": 66,
     "metadata": {},
     "output_type": "execute_result"
    }
   ],
   "source": [
    "# print 1 to 50 \n",
    "[i for i in range(1, 51)]"
   ]
  },
  {
   "cell_type": "code",
   "execution_count": 67,
   "id": "4704bf48-a20a-49da-a538-f7ffbaab4d4a",
   "metadata": {},
   "outputs": [
    {
     "data": {
      "text/plain": [
       "[5, 10, 15, 20, 25, 30, 35, 40, 45, 50]"
      ]
     },
     "execution_count": 67,
     "metadata": {},
     "output_type": "execute_result"
    }
   ],
   "source": [
    "# wap all numbers divisible by 5 in the range 1 to 50 \n",
    "[i for i in range(1, 51) if i % 5 == 0]"
   ]
  },
  {
   "cell_type": "code",
   "execution_count": 69,
   "id": "a6a172b1-664c-457e-a40f-4e549d0f67d8",
   "metadata": {},
   "outputs": [
    {
     "data": {
      "text/plain": [
       "['Ravi', 'Radhe', 'Ras malai', 'Ras gulla']"
      ]
     },
     "execution_count": 69,
     "metadata": {},
     "output_type": "execute_result"
    }
   ],
   "source": [
    "# name start with 'R'\n",
    "names = ['Ravi', 'Radhe', 'Shweta', 'Yash', 'Veer', 'Ras malai', 'Ras gulla', 'Nitesh', 'Aman', 'Kishor', 'Adarsh', 'Shardha']\n",
    "\n",
    "[name for name in names if name.startswith('R')]"
   ]
  },
  {
   "cell_type": "code",
   "execution_count": 71,
   "id": "b5adb48a-9c4d-49e8-ae41-10e2808cdff5",
   "metadata": {},
   "outputs": [
    {
     "data": {
      "text/plain": [
       "['apple']"
      ]
     },
     "execution_count": 71,
     "metadata": {},
     "output_type": "execute_result"
    }
   ],
   "source": [
    "# nested if with list comprehension\n",
    "basket = ['apple', 'banana', 'kiwi', 'chiku', 'guawa', 'pinapple', 'mango']\n",
    "fav_fruits = ['apple', 'banana', 'guawa', 'mango']\n",
    "\n",
    "[fruit for fruit in fav_fruits if fruit in basket if fruit.startswith('a')]"
   ]
  },
  {
   "cell_type": "code",
   "execution_count": 72,
   "id": "4560bd32-9d3f-44ec-affb-aecb704878ec",
   "metadata": {},
   "outputs": [
    {
     "data": {
      "text/plain": [
       "[[1, 2, 3], [2, 4, 6], [3, 6, 9]]"
      ]
     },
     "execution_count": 72,
     "metadata": {},
     "output_type": "execute_result"
    }
   ],
   "source": [
    "# print (3,3) matrix using list comprehension -> nested\n",
    "[[i*j for i in range(1,4)] for j in range(1,4)]"
   ]
  },
  {
   "cell_type": "code",
   "execution_count": 77,
   "id": "2f4ccc38-c7c2-4c6a-a8f8-5340a32bbacd",
   "metadata": {},
   "outputs": [
    {
     "data": {
      "text/plain": [
       "[[1, 2, 3], [1, 2, 3], [1, 2, 3]]"
      ]
     },
     "execution_count": 77,
     "metadata": {},
     "output_type": "execute_result"
    }
   ],
   "source": [
    "[[ i for i in range(1,4)] for j in range(1,4)]"
   ]
  },
  {
   "cell_type": "markdown",
   "id": "64d9f108-8271-4cc4-b0f4-c7cc86abc3dd",
   "metadata": {},
   "source": [
    "### 2 ways to traverse a list"
   ]
  },
  {
   "cell_type": "code",
   "execution_count": 78,
   "id": "28b84fcd-f0da-4e1c-b1b5-6ca9b6ce0db9",
   "metadata": {},
   "outputs": [
    {
     "name": "stdout",
     "output_type": "stream",
     "text": [
      "1\n",
      "2\n",
      "3\n",
      "4\n"
     ]
    }
   ],
   "source": [
    "# itemwise\n",
    "l = [1,2,3,4]\n",
    "for i in l:\n",
    "    print(i)"
   ]
  },
  {
   "cell_type": "code",
   "execution_count": 80,
   "id": "b9da685b-88a1-461c-9921-cc3e0e649412",
   "metadata": {},
   "outputs": [
    {
     "name": "stdout",
     "output_type": "stream",
     "text": [
      "0\n",
      "1\n",
      "2\n",
      "3\n"
     ]
    }
   ],
   "source": [
    "# indexwise\n",
    "for i in range(0, len(l)):\n",
    "    print(i) # index "
   ]
  },
  {
   "cell_type": "code",
   "execution_count": 81,
   "id": "fdaf463a-fa69-4b59-b055-5fe97a7200ca",
   "metadata": {},
   "outputs": [
    {
     "name": "stdout",
     "output_type": "stream",
     "text": [
      "1\n",
      "2\n",
      "3\n",
      "4\n"
     ]
    }
   ],
   "source": [
    "for i in range(0, len(l)):\n",
    "    print(l[i]) # value"
   ]
  },
  {
   "cell_type": "markdown",
   "id": "39845dcf-e408-4ddd-a948-daaad288e866",
   "metadata": {},
   "source": [
    "### Zip \n"
   ]
  },
  {
   "cell_type": "code",
   "execution_count": 82,
   "id": "88dd7d1c-e14b-4679-8300-5177add7e939",
   "metadata": {},
   "outputs": [
    {
     "data": {
      "text/plain": [
       "[(1, -1), (2, 2), (3, -3), (4, 4), (5, 5)]"
      ]
     },
     "execution_count": 82,
     "metadata": {},
     "output_type": "execute_result"
    }
   ],
   "source": [
    "# wap to add items of 2 list indexwise\n",
    "\n",
    "l1 = [1,2,3,4,5]\n",
    "l2 = [-1,2,-3,4,5]\n",
    "\n",
    "list(zip(l1,l2))"
   ]
  },
  {
   "cell_type": "code",
   "execution_count": 83,
   "id": "73096754-b667-4ff0-afcf-f210f07b2ecd",
   "metadata": {},
   "outputs": [
    {
     "data": {
      "text/plain": [
       "[0, 4, 0, 8, 10]"
      ]
     },
     "execution_count": 83,
     "metadata": {},
     "output_type": "execute_result"
    }
   ],
   "source": [
    "[i+j for i,j in zip(l1,l2)]"
   ]
  },
  {
   "cell_type": "code",
   "execution_count": null,
   "id": "ffe48b35-2d8f-4703-964c-f22693b80ad5",
   "metadata": {},
   "outputs": [],
   "source": []
  }
 ],
 "metadata": {
  "kernelspec": {
   "display_name": "Python 3 (ipykernel)",
   "language": "python",
   "name": "python3"
  },
  "language_info": {
   "codemirror_mode": {
    "name": "ipython",
    "version": 3
   },
   "file_extension": ".py",
   "mimetype": "text/x-python",
   "name": "python",
   "nbconvert_exporter": "python",
   "pygments_lexer": "ipython3",
   "version": "3.11.7"
  },
  "widgets": {
   "application/vnd.jupyter.widget-state+json": {
    "state": {},
    "version_major": 2,
    "version_minor": 0
   }
  }
 },
 "nbformat": 4,
 "nbformat_minor": 5
}
