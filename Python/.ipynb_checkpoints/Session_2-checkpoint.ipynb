{
 "cells": [
  {
   "cell_type": "markdown",
   "id": "ce0d2ef4-e957-4cc8-b7e0-9f4ddefd4fd3",
   "metadata": {
    "jp-MarkdownHeadingCollapsed": true
   },
   "source": [
    "### Operators"
   ]
  },
  {
   "cell_type": "code",
   "execution_count": 4,
   "id": "3c8ea7e9-7600-49e8-b031-f9647f7871d6",
   "metadata": {},
   "outputs": [
    {
     "name": "stdout",
     "output_type": "stream",
     "text": [
      "11\n",
      "1\n",
      "30\n",
      "1.2\n",
      "1\n",
      "1\n",
      "7776\n"
     ]
    }
   ],
   "source": [
    "# arithmetric\n",
    "print(6+5)\n",
    "\n",
    "print(6-5)\n",
    "\n",
    "print(6*5)\n",
    "\n",
    "print(6/5)\n",
    "\n",
    "print(6//5) # integer div ans store in int() format\n",
    "\n",
    "print(6%5)\n",
    "\n",
    "print(6**5) #power off "
   ]
  },
  {
   "cell_type": "code",
   "execution_count": 5,
   "id": "52d63937-460f-40cc-abf1-5836328baeae",
   "metadata": {},
   "outputs": [
    {
     "name": "stdout",
     "output_type": "stream",
     "text": [
      "True\n",
      "False\n",
      "True\n",
      "False\n",
      "True\n",
      "False\n"
     ]
    }
   ],
   "source": [
    "# Relational\n",
    "print(6>5)\n",
    "print(6<5)\n",
    "print(6>=5)\n",
    "print(6<=5)\n",
    "print(6!=5)\n",
    "print(6==5)"
   ]
  },
  {
   "cell_type": "code",
   "execution_count": 7,
   "id": "17076cd7-b940-4f30-8d78-63dfe3ec4403",
   "metadata": {},
   "outputs": [
    {
     "name": "stdout",
     "output_type": "stream",
     "text": [
      "0\n",
      "1\n",
      "True\n"
     ]
    }
   ],
   "source": [
    "# Logical \n",
    "print(1 and 0)\n",
    "print(1 or 0)\n",
    "print(not 0)"
   ]
  },
  {
   "cell_type": "code",
   "execution_count": 9,
   "id": "5d965a45-6d77-4fb4-af6e-6dacd3ce10a2",
   "metadata": {},
   "outputs": [
    {
     "name": "stdout",
     "output_type": "stream",
     "text": [
      "2\n"
     ]
    }
   ],
   "source": [
    "# Bitwise \n",
    "\n",
    "# bitwise and\n",
    "print(2 & 3) # 2\n",
    "\n",
    "# or | \n",
    "print(2 | 3) # 3\n",
    "\n",
    "# xor \n",
    "print(2 ^ 3)"
   ]
  },
  {
   "cell_type": "code",
   "execution_count": 10,
   "id": "9a045357-1c17-485d-9a6c-a50708c5d46f",
   "metadata": {},
   "outputs": [],
   "source": [
    "# Assignment \n",
    "a = 20\n",
    "# a is variable \n",
    "# = assignment operator\n",
    "# 20 is literal"
   ]
  },
  {
   "cell_type": "code",
   "execution_count": 13,
   "id": "c30182a8-9763-4fa5-bcfd-c245346eb0b9",
   "metadata": {},
   "outputs": [
    {
     "name": "stdout",
     "output_type": "stream",
     "text": [
      "True\n"
     ]
    }
   ],
   "source": [
    "# Membership Operators work with in list, tuble, number, and etc.\n",
    "# in / not in\n",
    "\n",
    "str = 'Ravi Pandey'\n",
    "print('R' in str)"
   ]
  },
  {
   "cell_type": "code",
   "execution_count": 14,
   "id": "71bb656f-7861-417a-b693-fc3f7ff319a1",
   "metadata": {},
   "outputs": [
    {
     "name": "stdout",
     "output_type": "stream",
     "text": [
      "True\n"
     ]
    }
   ],
   "source": [
    "print('S' not in str)"
   ]
  },
  {
   "cell_type": "markdown",
   "id": "e8a2febb-06c8-4f1d-a5fa-efcfb66d77c4",
   "metadata": {
    "jp-MarkdownHeadingCollapsed": true
   },
   "source": [
    "### If Else"
   ]
  },
  {
   "cell_type": "code",
   "execution_count": 16,
   "id": "532c99ea-d68f-4227-9da1-95935ca5f13a",
   "metadata": {},
   "outputs": [],
   "source": [
    "# for condition used\n",
    "# if 'statement':\n",
    "#     if condition true execute this\n",
    "# else\n",
    "#     if false then this one"
   ]
  },
  {
   "cell_type": "markdown",
   "id": "c5eefd6b-64f8-4eed-95ba-10236a7d875b",
   "metadata": {
    "jp-MarkdownHeadingCollapsed": true
   },
   "source": [
    "### Module"
   ]
  },
  {
   "cell_type": "code",
   "execution_count": 17,
   "id": "b7393f46-74b1-4b9b-83bf-a9751e94c597",
   "metadata": {},
   "outputs": [
    {
     "data": {
      "text/plain": [
       "120"
      ]
     },
     "execution_count": 17,
     "metadata": {},
     "output_type": "execute_result"
    }
   ],
   "source": [
    "# math\n",
    "import math\n",
    "\n",
    "math.factorial(5)"
   ]
  },
  {
   "cell_type": "code",
   "execution_count": 18,
   "id": "840712a2-b778-4651-a0f5-4ca871905c2f",
   "metadata": {},
   "outputs": [
    {
     "name": "stdout",
     "output_type": "stream",
     "text": [
      "['False', 'None', 'True', 'and', 'as', 'assert', 'async', 'await', 'break', 'class', 'continue', 'def', 'del', 'elif', 'else', 'except', 'finally', 'for', 'from', 'global', 'if', 'import', 'in', 'is', 'lambda', 'nonlocal', 'not', 'or', 'pass', 'raise', 'return', 'try', 'while', 'with', 'yield']\n"
     ]
    }
   ],
   "source": [
    "# keywords\n",
    "import keyword\n",
    "print(keyword.kwlist)"
   ]
  },
  {
   "cell_type": "code",
   "execution_count": 19,
   "id": "e0151108-c5f9-46ee-902e-20562730e2e9",
   "metadata": {},
   "outputs": [
    {
     "data": {
      "text/plain": [
       "3"
      ]
     },
     "execution_count": 19,
     "metadata": {},
     "output_type": "execute_result"
    }
   ],
   "source": [
    "# random\n",
    "import random\n",
    "random.randint(1,20)"
   ]
  },
  {
   "cell_type": "code",
   "execution_count": 20,
   "id": "fe131f4a-ec4e-448d-b877-f69f9d143117",
   "metadata": {},
   "outputs": [
    {
     "data": {
      "text/plain": [
       "datetime.datetime(2024, 10, 8, 15, 58, 52, 463082)"
      ]
     },
     "execution_count": 20,
     "metadata": {},
     "output_type": "execute_result"
    }
   ],
   "source": [
    "# date time\n",
    "import datetime\n",
    "\n",
    "datetime.datetime.now()"
   ]
  },
  {
   "cell_type": "code",
   "execution_count": 21,
   "id": "16d5e6c4-18aa-4e20-8c43-0501b854ac84",
   "metadata": {},
   "outputs": [
    {
     "name": "stdout",
     "output_type": "stream",
     "text": [
      "\n",
      "Please wait a moment while I gather a list of all available modules...\n",
      "\n"
     ]
    },
    {
     "name": "stderr",
     "output_type": "stream",
     "text": [
      "/opt/homebrew/anaconda3/lib/python3.11/site-packages/nltk/twitter/__init__.py:20: UserWarning: The twython library has not been installed. Some functionality from the twitter package will not be available.\n",
      "  warnings.warn(\n",
      "/opt/homebrew/anaconda3/lib/python3.11/pkgutil.py:92: UserWarning: The numpy.array_api submodule is still experimental. See NEP 47.\n",
      "  __import__(info.name)\n",
      "/opt/homebrew/anaconda3/lib/python3.11/site-packages/_distutils_hack/__init__.py:33: UserWarning: Setuptools is replacing distutils.\n",
      "  warnings.warn(\"Setuptools is replacing distutils.\")\n",
      "No QCoreApplication instance found. Application patches not applied. You have to call load_stylesheet function after instantiation of QApplication to take effect. \n"
     ]
    },
    {
     "name": "stdout",
     "output_type": "stream",
     "text": [
      "6c7190bc8b55ffe67f57__mypyc bs4                 jupyter_server_terminals regex\n",
      "AppKit              builtins            jupyterlab          repo_cli\n",
      "Cocoa               bz2                 jupyterlab_plotly   reprlib\n",
      "CoreFoundation      cProfile            jupyterlab_pygments requests\n",
      "CoreServices        cachetools          jupyterlab_server   requests_file\n",
      "FSEvents            calendar            jupyterlab_widgets  requests_toolbelt\n",
      "Foundation          certifi             jwt                 resource\n",
      "IPython             cffi                keyring             rfc3339_validator\n",
      "OpenSSL             cgi                 keyword             rfc3986_validator\n",
      "PIL                 cgitb               kiwisolver          rich\n",
      "PyQt5               chardet             lazy_loader         rlcompleter\n",
      "__future__          charset_normalizer  lazy_object_proxy   rope\n",
      "__hello__           chunk               lckr_jupyterlab_variableinspector rpds\n",
      "__phello__          click               lib2to3             rtree\n",
      "_abc                cloudpickle         libarchive          ruamel_yaml\n",
      "_aix_support        clyent              libfuturize         runpy\n",
      "_argon2_cffi_bindings cmath               libmambapy          s3fs\n",
      "_ast                cmd                 libpasteurize       sched\n",
      "_asyncio            code                lief                scipy\n",
      "_bisect             codecs              linecache           scrapy\n",
      "_black_version      codeop              linkify_it          seaborn\n",
      "_blake2             collections         llvmlite            secrets\n",
      "_bootsubprocess     colorama            lmdb                select\n",
      "_brotli             colorcet            locale              selectors\n",
      "_bz2                colorsys            locket              semver\n",
      "_cffi_backend       comm                logging             send2trash\n",
      "_codecs             compileall          lxml                service_identity\n",
      "_codecs_cn          concurrent          lz4                 setuptools\n",
      "_codecs_hk          conda               lzma                shelve\n",
      "_codecs_iso2022     conda_build         mactypes            shlex\n",
      "_codecs_jp          conda_content_trust mailbox             shutil\n",
      "_codecs_kr          conda_env           mailcap             signal\n",
      "_codecs_tw          conda_index         markdown            sipbuild\n",
      "_collections        conda_libmamba_solver markdown_it         site\n",
      "_collections_abc    conda_pack          markupsafe          six\n",
      "_compat_pickle      conda_package_handling marshal             skimage\n",
      "_compression        conda_package_streaming math                sklearn\n",
      "_contextvars        conda_token         matplotlib          slugify\n",
      "_crypt              conda_verify        matplotlib_inline   smart_open\n",
      "_csv                configparser        mccabe              smmap\n",
      "_ctypes             constantly          mdit_py_plugins     smtpd\n",
      "_ctypes_test        contextlib          mdurl               smtplib\n",
      "_curses             contextvars         menuinst            snappy\n",
      "_curses_panel       contourpy           mimetypes           sndhdr\n",
      "_datetime           cookiecutter        mistune             sniffio\n",
      "_dbm                copy                mmap                snowballstemmer\n",
      "_decimal            copyreg             modulefinder        socket\n",
      "_distutils_hack     cpuinfo             more_itertools      socketserver\n",
      "_elementtree        crypt               mpmath              socks\n",
      "_functools          cryptography        msgpack             sockshandler\n",
      "_hashlib            cssselect           multidict           sortedcontainers\n",
      "_heapq              csv                 multipledispatch    soupsieve\n",
      "_imp                ctypes              multiprocessing     sphinx\n",
      "_io                 curl                munkres             spyder\n",
      "_json               curses              mypy                spyder_kernels\n",
      "_locale             cv2                 mypy_extensions     sqlalchemy\n",
      "_lsprof             cycler              mypyc               sqlite3\n",
      "_lzma               cytoolz             navigator_updater   sre_compile\n",
      "_markupbase         dask                nbclient            sre_constants\n",
      "_md5                dataclasses         nbconvert           sre_parse\n",
      "_multibytecodec     datashader          nbformat            ssl\n",
      "_multiprocessing    datetime            nest_asyncio        stack_data\n",
      "_opcode             dateutil            netrc               stat\n",
      "_operator           dbm                 networkx            statistics\n",
      "_osx_support        debugpy             nis                 statsmodels\n",
      "_pickle             decimal             nltk                streamlit\n",
      "_plotly_future_     decorator           nntplib             string\n",
      "_plotly_utils       defusedxml          notebook            stringprep\n",
      "_posixshmem         diff_match_patch    notebook_shim       struct\n",
      "_posixsubprocess    difflib             ntpath              subprocess\n",
      "_py_abc             dill                nturl2path          sunau\n",
      "_pydecimal          dis                 numba               sympy\n",
      "_pyio               distributed         numbergen           symtable\n",
      "_pytest             distro              numbers             sys\n",
      "_queue              distutils           numexpr             sysconfig\n",
      "_random             docstring_to_markdown numpy               syslog\n",
      "_scproxy            doctest             numpydoc            tables\n",
      "_sha1               docutils            objc                tabnanny\n",
      "_sha256             dotenv              opcode              tabulate\n",
      "_sha3               email               openpyxl            tarfile\n",
      "_sha512             encodings           operator            tblib\n",
      "_signal             ensurepip           optparse            telnetlib\n",
      "_sitebuiltins       entrypoints         os                  tempfile\n",
      "_socket             enum                osax                tenacity\n",
      "_sqlite3            erfa                overrides           terminado\n",
      "_sre                errno               packaging           termios\n",
      "_ssl                et_xmlfile          pandas              test\n",
      "_stat               executing           pandocfilters       test_pycosat\n",
      "_statistics         fastjsonschema      panel               text_unidecode\n",
      "_string             faulthandler        param               textdistance\n",
      "_strptime           fcntl               parsel              textwrap\n",
      "_struct             filecmp             parso               this\n",
      "_symtable           fileinput           partd               threading\n",
      "_sysconfigdata__darwin_darwin filelock            past                threadpoolctl\n",
      "_sysconfigdata_arm64_apple_darwin20_0_0 flake8              pathlib             three_merge\n",
      "_testbuffer         flask               pathspec            tifffile\n",
      "_testcapi           fnmatch             patsy               time\n",
      "_testclinic         fontTools           pdb                 timeit\n",
      "_testimportmultiple fractions           pexpect             tinycss2\n",
      "_testinternalcapi   frozenlist          pickle              tkinter\n",
      "_testmultiphase     fsspec              pickleshare         tldextract\n",
      "_thread             ftplib              pickletools         tlz\n",
      "_threading_local    functools           pip                 token\n",
      "_tkinter            future              pipes               tokenize\n",
      "_tokenize           gc                  pkce                toml\n",
      "_tracemalloc        genericpath         pkg_resources       tomlkit\n",
      "_typing             gensim              pkginfo             tomllib\n",
      "_uuid               getopt              pkgutil             toolz\n",
      "_warnings           getpass             platform            tornado\n",
      "_watchdog_fsevents  gettext             platformdirs        tqdm\n",
      "_weakref            git                 plistlib            trace\n",
      "_weakrefset         gitdb               plotly              traceback\n",
      "_xxsubinterpreters  glob                pluggy              tracemalloc\n",
      "_xxtestfuzz         gmpy2               ply                 traitlets\n",
      "_yaml               graphlib            poplib              truststore\n",
      "_zoneinfo           greenlet            posix               tty\n",
      "abc                 grp                 posixpath           turtle\n",
      "aem                 gzip                pprint              turtledemo\n",
      "aifc                h5py                profile             twisted\n",
      "aiobotocore         hashlib             prometheus_client   types\n",
      "aiohttp             heapdict            prompt_toolkit      typing\n",
      "aioitertools        heapq               protego             typing_extensions\n",
      "aiosignal           hmac                pstats              tzdata\n",
      "alabaster           holoviews           psutil              tzlocal\n",
      "altair              html                pty                 uc_micro\n",
      "anaconda_anon_usage http                ptyprocess          ujson\n",
      "anaconda_catalogs   hvplot              pure_eval           unicodedata\n",
      "anaconda_cloud_auth hyperlink           pwd                 unidecode\n",
      "anaconda_navigator  idlelib             py                  unittest\n",
      "anaconda_project    idna                py_compile          urllib\n",
      "antigravity         imagecodecs         pyarrow             urllib3\n",
      "anyio               imageio             pyasn1              uu\n",
      "appdirs             imagesize           pyasn1_modules      uuid\n",
      "applaunchservices   imaplib             pyclbr              validators\n",
      "appnope             imblearn            pycodestyle         venv\n",
      "appscript           imghdr              pycosat             w3lib\n",
      "archspec            imp                 pycparser           warnings\n",
      "argon2              importlib           pyct                watchdog\n",
      "argparse            importlib_metadata  pycurl              wave\n",
      "array               incremental         pydantic            wcwidth\n",
      "arrow               inflection          pydeck              weakref\n",
      "ast                 iniconfig           pydispatch          webbrowser\n",
      "astroid             inspect             pydoc               webencodings\n",
      "astropy             intake              pydoc_data          websocket\n",
      "asttokens           intervaltree        pydocstyle          werkzeug\n",
      "async_lru           io                  pyexpat             whatthepatch\n",
      "asynchat            ipaddress           pyflakes            wheel\n",
      "asyncio             ipykernel           pygments            widgetsnbextension\n",
      "asyncore            ipykernel_launcher  pylab               wrapt\n",
      "atexit              ipython_genutils    pylint              wsgiref\n",
      "atomicwrites        ipywidgets          pylint_venv         wurlitzer\n",
      "attr                isort               pyls_spyder         xarray\n",
      "attrs               isympy              pylsp               xdrlib\n",
      "audioop             itemadapter         pylsp_black         xlwings\n",
      "automat             itemloaders         pylsp_jsonrpc       xml\n",
      "autopep8            itertools           pyodbc              xmlrpc\n",
      "babel               itsdangerous        pyparsing           xxlimited\n",
      "backports           jedi                pytest              xxlimited_35\n",
      "base64              jellyfish           pythonjsonlogger    xxsubtype\n",
      "bcrypt              jinja2              pytoolconfig        xyzservices\n",
      "bdb                 jmespath            pytz                yaml\n",
      "binaryornot         joblib              pyviz_comms         yapf\n",
      "binascii            json                pywt                yapftests\n",
      "binstar_client      json5               qdarkstyle          yarl\n",
      "bisect              jsonpatch           qstylizer           zict\n",
      "black               jsonpointer         qtawesome           zipapp\n",
      "blackd              jsonschema          qtconsole           zipfile\n",
      "bleach              jsonschema_specifications qtpy                zipimport\n",
      "blib2to3            jupyter             queue               zipp\n",
      "blinker             jupyter_client      queuelib            zlib\n",
      "bokeh               jupyter_console     quopri              zmq\n",
      "boltons             jupyter_core        random              zoneinfo\n",
      "botocore            jupyter_events      re                  zope\n",
      "bottleneck          jupyter_lsp         readline            zstandard\n",
      "brotli              jupyter_server      referencing         \n",
      "\n",
      "Enter any module name to get more help.  Or, type \"modules spam\" to search\n",
      "for modules whose name or summary contain the string \"spam\".\n",
      "\n"
     ]
    }
   ],
   "source": [
    "# help for modules\n",
    "help('modules')"
   ]
  },
  {
   "cell_type": "markdown",
   "id": "006f2c26-5ab4-402f-87d9-d37c96bff0f3",
   "metadata": {},
   "source": [
    "### Loops "
   ]
  },
  {
   "cell_type": "code",
   "execution_count": 1,
   "id": "37247d99-8a18-4e21-a90e-064f08ad16fd",
   "metadata": {},
   "outputs": [
    {
     "name": "stdin",
     "output_type": "stream",
     "text": [
      "Enter the number:  12\n"
     ]
    },
    {
     "name": "stdout",
     "output_type": "stream",
     "text": [
      "12  x  1  =  12\n",
      "12  x  2  =  24\n",
      "12  x  3  =  36\n",
      "12  x  4  =  48\n",
      "12  x  5  =  60\n",
      "12  x  6  =  72\n",
      "12  x  7  =  84\n",
      "12  x  8  =  96\n",
      "12  x  9  =  108\n",
      "12  x  10  =  120\n"
     ]
    }
   ],
   "source": [
    "# print table using while loop\n",
    "num = int(input('Enter the number: '))\n",
    "\n",
    "i = 1\n",
    "while i <= 10:\n",
    "    print(num,' x ',i,' = ',(num*i))\n",
    "    i+=1"
   ]
  },
  {
   "cell_type": "code",
   "execution_count": 6,
   "id": "198ae7b2-f172-4c41-bb32-36526febfc18",
   "metadata": {},
   "outputs": [
    {
     "name": "stdout",
     "output_type": "stream",
     "text": [
      "1\n",
      "2\n",
      "3\n",
      "4\n",
      "Last is 5\n"
     ]
    }
   ],
   "source": [
    "# while with else\n",
    "x = 1\n",
    "while x < 5:\n",
    "    print(x)\n",
    "    x += 1;\n",
    "\n",
    "else:\n",
    "    print('Last is', x)"
   ]
  },
  {
   "cell_type": "code",
   "execution_count": 9,
   "id": "dd82e0cd-ed2d-47ea-b187-d6aa5be229ac",
   "metadata": {},
   "outputs": [
    {
     "name": "stdout",
     "output_type": "stream",
     "text": [
      "2\n",
      "4\n",
      "6\n",
      "8\n",
      "10\n",
      "12\n",
      "14\n",
      "16\n",
      "18\n"
     ]
    }
   ],
   "source": [
    "# for loop\n",
    "\n",
    "# range(start, end, step)\n",
    "\n",
    "for i in range(2, 20, 2):\n",
    "    print(i)"
   ]
  },
  {
   "cell_type": "code",
   "execution_count": 10,
   "id": "35b2afd9-14d3-4fdb-9d33-d5b6765748c1",
   "metadata": {},
   "outputs": [
    {
     "name": "stdout",
     "output_type": "stream",
     "text": [
      "10\n",
      "9\n",
      "8\n",
      "7\n",
      "6\n",
      "5\n",
      "4\n",
      "3\n",
      "2\n",
      "1\n"
     ]
    }
   ],
   "source": [
    "# 10 to 1\n",
    "for i in range(10, 0, -1):\n",
    "    print(i)"
   ]
  },
  {
   "cell_type": "code",
   "execution_count": 11,
   "id": "4333534b-0a86-4cf2-800c-21642788f2aa",
   "metadata": {},
   "outputs": [
    {
     "name": "stdout",
     "output_type": "stream",
     "text": [
      "R\n",
      "a\n",
      "v\n",
      "i\n"
     ]
    }
   ],
   "source": [
    "for char in 'Ravi':\n",
    "    print(char)"
   ]
  },
  {
   "cell_type": "code",
   "execution_count": 23,
   "id": "d6579e33-e2e7-4a62-916b-ff8f4adefcda",
   "metadata": {},
   "outputs": [
    {
     "name": "stdout",
     "output_type": "stream",
     "text": [
      "1 10000\n",
      "2 9090\n",
      "3 8264\n",
      "4 7513\n",
      "5 6830\n",
      "6 6209\n",
      "7 5644\n",
      "8 5131\n",
      "9 4665\n",
      "10 4240\n"
     ]
    }
   ],
   "source": [
    "# population \n",
    "import math \n",
    "\n",
    "curr_pop = 10000\n",
    "\n",
    "for i in range(1,11):\n",
    "    print(i, math.floor(curr_pop))\n",
    "    curr_pop = curr_pop / 1.1"
   ]
  },
  {
   "cell_type": "code",
   "execution_count": 26,
   "id": "6e147a5e-81f5-41a1-8cbc-729a17dd036c",
   "metadata": {},
   "outputs": [
    {
     "name": "stdin",
     "output_type": "stream",
     "text": [
      "Enter the number:  5\n"
     ]
    },
    {
     "name": "stdout",
     "output_type": "stream",
     "text": [
      "2.708333333333333\n"
     ]
    }
   ],
   "source": [
    "# Sequence sum \n",
    "# 1/1! + 2/2! + 3/3! + ...\n",
    "\n",
    "n = int(input('Enter the number: '))\n",
    "\n",
    "result = 0\n",
    "fact = 1\n",
    "\n",
    "# logic of code\n",
    "for i in range(1, n+1):\n",
    "    fact = fact * i\n",
    "    result = result + i / fact\n",
    "\n",
    "print(result)"
   ]
  },
  {
   "cell_type": "markdown",
   "id": "67f53221-e8ba-4614-926d-dbed56688e31",
   "metadata": {},
   "source": [
    "### Nested Loop"
   ]
  },
  {
   "cell_type": "code",
   "execution_count": 27,
   "id": "2bd51226-588d-4531-a4fc-d98a06329051",
   "metadata": {},
   "outputs": [
    {
     "name": "stdout",
     "output_type": "stream",
     "text": [
      "1 1\n",
      "2 2\n",
      "3 3\n",
      "4 4\n"
     ]
    }
   ],
   "source": [
    "# unique pair\n",
    "for i in range(1, 5):\n",
    "    for j in range(1, 5):\n",
    "        if i == j:\n",
    "            print(i,j)"
   ]
  },
  {
   "cell_type": "code",
   "execution_count": 31,
   "id": "5965d3e1-a954-4150-ade8-ea20df1fdbcb",
   "metadata": {},
   "outputs": [
    {
     "name": "stdout",
     "output_type": "stream",
     "text": [
      " * \n",
      " *  * \n",
      " *  *  * \n",
      " *  *  *  * \n",
      " *  *  *  *  * \n"
     ]
    }
   ],
   "source": [
    "# patter 1\n",
    "row = 5\n",
    "for i in range(1,row+1):\n",
    "    for j in range(1,i+1):\n",
    "        print(' * ',end='')\n",
    "    print()"
   ]
  },
  {
   "cell_type": "code",
   "execution_count": 37,
   "id": "8ab867e7-cff1-4c73-9e32-1e473495a170",
   "metadata": {},
   "outputs": [
    {
     "name": "stdout",
     "output_type": "stream",
     "text": [
      "1 \n",
      "1 2 1 \n",
      "1 2 3 2 1 \n",
      "1 2 3 4 3 2 1 \n",
      "1 2 3 4 5 4 3 2 1 \n",
      "1 2 3 4 5 6 5 4 3 2 1 \n",
      "1 2 3 4 5 6 7 6 5 4 3 2 1 \n",
      "1 2 3 4 5 6 7 8 7 6 5 4 3 2 1 \n",
      "1 2 3 4 5 6 7 8 9 8 7 6 5 4 3 2 1 \n",
      "1 2 3 4 5 6 7 8 9 10 9 8 7 6 5 4 3 2 1 \n"
     ]
    }
   ],
   "source": [
    "# patter 2\n",
    "row = 10\n",
    "for i in range(1,row+1):\n",
    "    for j in range(1,i+1):\n",
    "        print(j, end=' ')\n",
    "    for k in range(i-1,0,-1):\n",
    "        print(k, end=' ')\n",
    "    print()"
   ]
  },
  {
   "cell_type": "markdown",
   "id": "e2da9128-df54-40d8-97a0-a63bd339a05b",
   "metadata": {},
   "source": [
    "### Loop control "
   ]
  },
  {
   "cell_type": "code",
   "execution_count": 39,
   "id": "03b054e0-fe48-429a-8e8d-1ad946cc06be",
   "metadata": {},
   "outputs": [
    {
     "name": "stdout",
     "output_type": "stream",
     "text": [
      "1\n",
      "2\n",
      "3\n",
      "4\n"
     ]
    }
   ],
   "source": [
    "# break\n",
    "for i in range(1, 10):\n",
    "    if i == 5:\n",
    "        break\n",
    "    print(i)"
   ]
  },
  {
   "cell_type": "code",
   "execution_count": 40,
   "id": "8b67a765-b841-436c-98b3-4cdecc424ccc",
   "metadata": {},
   "outputs": [],
   "source": [
    "# continue\n"
   ]
  },
  {
   "cell_type": "code",
   "execution_count": null,
   "id": "a9a0be63-7cb2-4da2-8f8b-c02b07a9616a",
   "metadata": {},
   "outputs": [],
   "source": [
    "# pass"
   ]
  }
 ],
 "metadata": {
  "kernelspec": {
   "display_name": "Python 3 (ipykernel)",
   "language": "python",
   "name": "python3"
  },
  "language_info": {
   "codemirror_mode": {
    "name": "ipython",
    "version": 3
   },
   "file_extension": ".py",
   "mimetype": "text/x-python",
   "name": "python",
   "nbconvert_exporter": "python",
   "pygments_lexer": "ipython3",
   "version": "3.11.7"
  },
  "widgets": {
   "application/vnd.jupyter.widget-state+json": {
    "state": {},
    "version_major": 2,
    "version_minor": 0
   }
  }
 },
 "nbformat": 4,
 "nbformat_minor": 5
}
