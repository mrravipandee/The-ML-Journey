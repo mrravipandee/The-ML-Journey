{
 "cells": [
  {
   "cell_type": "markdown",
   "id": "23ac2436-4b87-47cb-95a5-19c6f01f170b",
   "metadata": {},
   "source": [
    "### Strings"
   ]
  },
  {
   "cell_type": "code",
   "execution_count": 3,
   "id": "af093fa6-c081-4521-b0d3-f2993676afcb",
   "metadata": {},
   "outputs": [],
   "source": [
    "# In Python specifically, strings are a sequence of Unicode Characters"
   ]
  },
  {
   "cell_type": "code",
   "execution_count": 4,
   "id": "35063763-f49d-40a6-8a56-2e4d258186c7",
   "metadata": {},
   "outputs": [],
   "source": [
    "# creating strings\n",
    "s1 = 'Hello'\n",
    "s2 = \"hii\"\n",
    "# multiline string\n",
    "s3 = \"\"\"For blogs or passage write as you need\"\"\"\n",
    "s4 = '''same for multiline string can store here'''"
   ]
  },
  {
   "cell_type": "code",
   "execution_count": 5,
   "id": "11d932c1-3992-4dae-9b8a-6f7721826115",
   "metadata": {},
   "outputs": [
    {
     "data": {
      "text/plain": [
       "'R'"
      ]
     },
     "execution_count": 5,
     "metadata": {},
     "output_type": "execute_result"
    }
   ],
   "source": [
    "# access - indexing / negative\n",
    "name = 'Ravi' # R - 0, a - 1, v - 2, i - i\n",
    "name[0]\n"
   ]
  },
  {
   "cell_type": "code",
   "execution_count": 6,
   "id": "633b65ad-6674-4f12-b54f-685cb25842c1",
   "metadata": {},
   "outputs": [
    {
     "ename": "IndexError",
     "evalue": "string index out of range",
     "output_type": "error",
     "traceback": [
      "\u001b[0;31m---------------------------------------------------------------------------\u001b[0m",
      "\u001b[0;31mIndexError\u001b[0m                                Traceback (most recent call last)",
      "Cell \u001b[0;32mIn[6], line 2\u001b[0m\n\u001b[1;32m      1\u001b[0m \u001b[38;5;66;03m# we can go outoff the range\u001b[39;00m\n\u001b[0;32m----> 2\u001b[0m name[\u001b[38;5;241m12\u001b[39m]\n",
      "\u001b[0;31mIndexError\u001b[0m: string index out of range"
     ]
    }
   ],
   "source": [
    "# we can go outoff the range\n",
    "name[12]"
   ]
  },
  {
   "cell_type": "code",
   "execution_count": 7,
   "id": "55d36d41-56e4-4bc1-8b0c-784b6314566c",
   "metadata": {},
   "outputs": [
    {
     "data": {
      "text/plain": [
       "'i'"
      ]
     },
     "execution_count": 7,
     "metadata": {},
     "output_type": "execute_result"
    }
   ],
   "source": [
    "# negative\n",
    "name[-1]"
   ]
  },
  {
   "cell_type": "code",
   "execution_count": 8,
   "id": "ea383e63-9b59-4eca-b2c5-9bec9d6005e5",
   "metadata": {},
   "outputs": [
    {
     "data": {
      "text/plain": [
       "'avi'"
      ]
     },
     "execution_count": 8,
     "metadata": {},
     "output_type": "execute_result"
    }
   ],
   "source": [
    "# slicing\n",
    "name[1:]"
   ]
  },
  {
   "cell_type": "code",
   "execution_count": 9,
   "id": "e288c0b5-bd6a-427f-a0fb-a7a4d1c83fa7",
   "metadata": {},
   "outputs": [
    {
     "data": {
      "text/plain": [
       "'avi'"
      ]
     },
     "execution_count": 9,
     "metadata": {},
     "output_type": "execute_result"
    }
   ],
   "source": [
    "full_name = 'Ravi Pandey'\n",
    "full_name[1:4]"
   ]
  },
  {
   "cell_type": "code",
   "execution_count": 10,
   "id": "ab580942-fc43-4bf8-bfe8-6fba76d3e9d2",
   "metadata": {},
   "outputs": [
    {
     "data": {
      "text/plain": [
       "'Ravi '"
      ]
     },
     "execution_count": 10,
     "metadata": {},
     "output_type": "execute_result"
    }
   ],
   "source": [
    "full_name[:5]"
   ]
  },
  {
   "cell_type": "code",
   "execution_count": 11,
   "id": "e93f480f-d536-4965-b330-435d0f4f3c75",
   "metadata": {},
   "outputs": [
    {
     "data": {
      "text/plain": [
       "'Pandey'"
      ]
     },
     "execution_count": 11,
     "metadata": {},
     "output_type": "execute_result"
    }
   ],
   "source": [
    "full_name[5:]"
   ]
  },
  {
   "cell_type": "code",
   "execution_count": 14,
   "id": "be4dfa25-b637-4884-a569-613dcb5736aa",
   "metadata": {},
   "outputs": [
    {
     "data": {
      "text/plain": [
       "'aiP'"
      ]
     },
     "execution_count": 14,
     "metadata": {},
     "output_type": "execute_result"
    }
   ],
   "source": [
    "full_name[1:7:2] #step - 2"
   ]
  },
  {
   "cell_type": "code",
   "execution_count": 18,
   "id": "8cb54538-1fc3-4034-b1d1-f4202608987c",
   "metadata": {},
   "outputs": [
    {
     "data": {
      "text/plain": [
       "'madam'"
      ]
     },
     "execution_count": 18,
     "metadata": {},
     "output_type": "execute_result"
    }
   ],
   "source": [
    "madam = 'madam'\n",
    "madam[::-1]"
   ]
  },
  {
   "cell_type": "code",
   "execution_count": 19,
   "id": "4a55a782-5c48-47b3-b6fe-b61375bd270f",
   "metadata": {},
   "outputs": [
    {
     "data": {
      "text/plain": [
       "'ivaR'"
      ]
     },
     "execution_count": 19,
     "metadata": {},
     "output_type": "execute_result"
    }
   ],
   "source": [
    "name[::-1]"
   ]
  },
  {
   "cell_type": "code",
   "execution_count": 22,
   "id": "9b825538-63e8-44ed-97f9-e324764e43f9",
   "metadata": {},
   "outputs": [
    {
     "data": {
      "text/plain": [
       "'ij madaM olleH'"
      ]
     },
     "execution_count": 22,
     "metadata": {},
     "output_type": "execute_result"
    }
   ],
   "source": [
    "# note: when you apply negative indexing they time 2nd parameter should be bigger as compare to left side one\n",
    "hi = 'Hello Madam ji'\n",
    "hi[-1:-15:-1]"
   ]
  },
  {
   "cell_type": "markdown",
   "id": "bda4b44e-629a-4354-bad6-1652584fd274",
   "metadata": {},
   "source": [
    "### Operation "
   ]
  },
  {
   "cell_type": "code",
   "execution_count": 23,
   "id": "e043c5f3-ea79-4df4-91d6-3c4bab1171d0",
   "metadata": {},
   "outputs": [
    {
     "data": {
      "text/plain": [
       "'Ravi Pandey'"
      ]
     },
     "execution_count": 23,
     "metadata": {},
     "output_type": "execute_result"
    }
   ],
   "source": [
    "# Arithmetic operation\n",
    "name = 'Ravi ' + 'Pandey'\n",
    "name"
   ]
  },
  {
   "cell_type": "code",
   "execution_count": 24,
   "id": "15f02160-b55a-4b70-acd7-bd9d2144d1d9",
   "metadata": {},
   "outputs": [
    {
     "data": {
      "text/plain": [
       "'------------------------------'"
      ]
     },
     "execution_count": 24,
     "metadata": {},
     "output_type": "execute_result"
    }
   ],
   "source": [
    "line = '-'*30\n",
    "line"
   ]
  },
  {
   "cell_type": "code",
   "execution_count": 25,
   "id": "1befaaae-5baa-4e93-93b5-7e1fa3f1cfdb",
   "metadata": {},
   "outputs": [
    {
     "data": {
      "text/plain": [
       "False"
      ]
     },
     "execution_count": 25,
     "metadata": {},
     "output_type": "execute_result"
    }
   ],
   "source": [
    "# Relational \n",
    "'mumbal' == 'nashik'"
   ]
  },
  {
   "cell_type": "code",
   "execution_count": 27,
   "id": "b4cf6505-8c6f-4d4d-9b01-1ed5d414dcdb",
   "metadata": {},
   "outputs": [
    {
     "data": {
      "text/plain": [
       "True"
      ]
     },
     "execution_count": 27,
     "metadata": {},
     "output_type": "execute_result"
    }
   ],
   "source": [
    "'pune' > 'mumbai'"
   ]
  },
  {
   "cell_type": "code",
   "execution_count": 30,
   "id": "d3f08dff-39ee-4354-96dc-400121648f55",
   "metadata": {},
   "outputs": [
    {
     "data": {
      "text/plain": [
       "True"
      ]
     },
     "execution_count": 30,
     "metadata": {},
     "output_type": "execute_result"
    }
   ],
   "source": [
    "'nashik' != 'mumbai'"
   ]
  },
  {
   "cell_type": "code",
   "execution_count": 31,
   "id": "23d2df9a-b78b-4a4a-9f0c-8d627156f42d",
   "metadata": {},
   "outputs": [
    {
     "data": {
      "text/plain": [
       "'world'"
      ]
     },
     "execution_count": 31,
     "metadata": {},
     "output_type": "execute_result"
    }
   ],
   "source": [
    "# Logical\n",
    "# empty string is 0 mean false if present space then treat true \n",
    "'hello' and 'world'"
   ]
  },
  {
   "cell_type": "code",
   "execution_count": 32,
   "id": "14d55d14-3984-4928-a950-6889c84c880a",
   "metadata": {},
   "outputs": [
    {
     "data": {
      "text/plain": [
       "'hello'"
      ]
     },
     "execution_count": 32,
     "metadata": {},
     "output_type": "execute_result"
    }
   ],
   "source": [
    "'hello' or 'world'"
   ]
  },
  {
   "cell_type": "code",
   "execution_count": 33,
   "id": "a070d1e5-d87c-458b-8f89-c7b49726667f",
   "metadata": {},
   "outputs": [
    {
     "data": {
      "text/plain": [
       "False"
      ]
     },
     "execution_count": 33,
     "metadata": {},
     "output_type": "execute_result"
    }
   ],
   "source": [
    "not 'hello'"
   ]
  },
  {
   "cell_type": "code",
   "execution_count": 34,
   "id": "dd2fe591-0885-4f4d-bc66-be0b874ca17a",
   "metadata": {},
   "outputs": [
    {
     "data": {
      "text/plain": [
       "True"
      ]
     },
     "execution_count": 34,
     "metadata": {},
     "output_type": "execute_result"
    }
   ],
   "source": [
    "not ''"
   ]
  },
  {
   "cell_type": "code",
   "execution_count": 36,
   "id": "867fe32c-7164-490d-ab2f-d748552d2421",
   "metadata": {},
   "outputs": [
    {
     "name": "stdout",
     "output_type": "stream",
     "text": [
      "h\n",
      "e\n",
      "l\n",
      "l\n",
      "o\n"
     ]
    }
   ],
   "source": [
    "# Loops - string are in python iterable that why go with loop\n",
    "for i in 'hello':\n",
    "    print(i)"
   ]
  },
  {
   "cell_type": "code",
   "execution_count": 37,
   "id": "877702e9-3f44-4886-86d3-64a9af9b05f4",
   "metadata": {},
   "outputs": [
    {
     "data": {
      "text/plain": [
       "True"
      ]
     },
     "execution_count": 37,
     "metadata": {},
     "output_type": "execute_result"
    }
   ],
   "source": [
    "# membership\n",
    "'R' in 'Ravi'"
   ]
  },
  {
   "cell_type": "code",
   "execution_count": 38,
   "id": "17854176-99ad-444b-9eb4-31a53b99e2c4",
   "metadata": {},
   "outputs": [
    {
     "data": {
      "text/plain": [
       "False"
      ]
     },
     "execution_count": 38,
     "metadata": {},
     "output_type": "execute_result"
    }
   ],
   "source": [
    "'R' not in 'Ravi'"
   ]
  },
  {
   "cell_type": "markdown",
   "id": "2633f622-6704-45f5-abac-0f3e668246df",
   "metadata": {},
   "source": [
    "### Functions"
   ]
  },
  {
   "cell_type": "code",
   "execution_count": 39,
   "id": "989dbfe2-d4e1-44b6-9b86-6666cc02f448",
   "metadata": {},
   "outputs": [],
   "source": [
    "# common for all\n",
    "    # len()\n",
    "    # max\n",
    "    # min\n",
    "    # sorted\n"
   ]
  },
  {
   "cell_type": "code",
   "execution_count": 40,
   "id": "f912918b-780a-419b-be7c-eca0ef146849",
   "metadata": {},
   "outputs": [
    {
     "data": {
      "text/plain": [
       "11"
      ]
     },
     "execution_count": 40,
     "metadata": {},
     "output_type": "execute_result"
    }
   ],
   "source": [
    "len('Ravi Pandey')"
   ]
  },
  {
   "cell_type": "code",
   "execution_count": 41,
   "id": "df242285-76c4-44c0-9e76-2e867e1aabff",
   "metadata": {},
   "outputs": [
    {
     "data": {
      "text/plain": [
       "'c'"
      ]
     },
     "execution_count": 41,
     "metadata": {},
     "output_type": "execute_result"
    }
   ],
   "source": [
    "max('abc')"
   ]
  },
  {
   "cell_type": "code",
   "execution_count": 42,
   "id": "d1b117c1-d234-44e7-a108-34f12b219589",
   "metadata": {},
   "outputs": [
    {
     "data": {
      "text/plain": [
       "'a'"
      ]
     },
     "execution_count": 42,
     "metadata": {},
     "output_type": "execute_result"
    }
   ],
   "source": [
    "min('abc')"
   ]
  },
  {
   "cell_type": "code",
   "execution_count": 43,
   "id": "17cee272-25f0-4a9c-acfd-032533301fe5",
   "metadata": {},
   "outputs": [
    {
     "data": {
      "text/plain": [
       "' '"
      ]
     },
     "execution_count": 43,
     "metadata": {},
     "output_type": "execute_result"
    }
   ],
   "source": [
    "min('a b c')"
   ]
  },
  {
   "cell_type": "code",
   "execution_count": 45,
   "id": "b644e088-73c8-45e3-92ec-f00c6ace1d9f",
   "metadata": {},
   "outputs": [
    {
     "data": {
      "text/plain": [
       "['a', 'b', 'c', 'd']"
      ]
     },
     "execution_count": 45,
     "metadata": {},
     "output_type": "execute_result"
    }
   ],
   "source": [
    "sorted('adbc')"
   ]
  },
  {
   "cell_type": "code",
   "execution_count": 47,
   "id": "ed89d1c3-c715-4be1-ad59-571e998b10da",
   "metadata": {},
   "outputs": [
    {
     "data": {
      "text/plain": [
       "['a', 'b', 'c', 'd', 'e', 'f', 'g']"
      ]
     },
     "execution_count": 47,
     "metadata": {},
     "output_type": "execute_result"
    }
   ],
   "source": [
    "sorted('adbcfeg')"
   ]
  },
  {
   "cell_type": "code",
   "execution_count": 48,
   "id": "3ff7a0bb-f9b1-4099-a0ae-3dd371f58a05",
   "metadata": {},
   "outputs": [
    {
     "data": {
      "text/plain": [
       "['g', 'f', 'e', 'd', 'c', 'b', 'a']"
      ]
     },
     "execution_count": 48,
     "metadata": {},
     "output_type": "execute_result"
    }
   ],
   "source": [
    "sorted('adbcfeg',reverse=True)"
   ]
  },
  {
   "cell_type": "code",
   "execution_count": 49,
   "id": "f4c99c1e-48dc-4ff9-a5f8-b67a7db380ee",
   "metadata": {},
   "outputs": [
    {
     "data": {
      "text/plain": [
       "'Ravi pandey'"
      ]
     },
     "execution_count": 49,
     "metadata": {},
     "output_type": "execute_result"
    }
   ],
   "source": [
    "# string only\n",
    "name = 'ravi pandey'\n",
    "name.capitalize()"
   ]
  },
  {
   "cell_type": "code",
   "execution_count": 50,
   "id": "9294fb97-7187-49c2-aa86-006f16726cac",
   "metadata": {},
   "outputs": [
    {
     "data": {
      "text/plain": [
       "'Ravi Pandey'"
      ]
     },
     "execution_count": 50,
     "metadata": {},
     "output_type": "execute_result"
    }
   ],
   "source": [
    "name.title()"
   ]
  },
  {
   "cell_type": "code",
   "execution_count": 51,
   "id": "0aee4db9-2d38-41c0-838e-3e544ffa4986",
   "metadata": {},
   "outputs": [
    {
     "data": {
      "text/plain": [
       "'RAVI PANDEY'"
      ]
     },
     "execution_count": 51,
     "metadata": {},
     "output_type": "execute_result"
    }
   ],
   "source": [
    "name.upper()"
   ]
  },
  {
   "cell_type": "code",
   "execution_count": 52,
   "id": "58a86b3f-ebff-49ec-b9d6-ec5f3434d59a",
   "metadata": {},
   "outputs": [
    {
     "data": {
      "text/plain": [
       "'ravi pandey'"
      ]
     },
     "execution_count": 52,
     "metadata": {},
     "output_type": "execute_result"
    }
   ],
   "source": [
    "name.lower()"
   ]
  },
  {
   "cell_type": "code",
   "execution_count": 53,
   "id": "ba2308cd-be5d-4865-b1cc-14c5fa0f6d52",
   "metadata": {},
   "outputs": [
    {
     "data": {
      "text/plain": [
       "'Ravi Pandey'"
      ]
     },
     "execution_count": 53,
     "metadata": {},
     "output_type": "execute_result"
    }
   ],
   "source": [
    "'rAVI pANDEY'.swapcase()"
   ]
  },
  {
   "cell_type": "code",
   "execution_count": 54,
   "id": "77be1ca8-eb63-48cd-8f96-d507cabec5a7",
   "metadata": {},
   "outputs": [
    {
     "data": {
      "text/plain": [
       "2"
      ]
     },
     "execution_count": 54,
     "metadata": {},
     "output_type": "execute_result"
    }
   ],
   "source": [
    "# count - substring count frequency\n",
    "name.count('a')"
   ]
  },
  {
   "cell_type": "code",
   "execution_count": 56,
   "id": "4f689e43-7cb6-4b5d-8153-7297a3aba980",
   "metadata": {},
   "outputs": [
    {
     "data": {
      "text/plain": [
       "-1"
      ]
     },
     "execution_count": 56,
     "metadata": {},
     "output_type": "execute_result"
    }
   ],
   "source": [
    "# find\n",
    "name.find('b')"
   ]
  },
  {
   "cell_type": "code",
   "execution_count": 59,
   "id": "2d510b28-db3f-4c1e-b938-aaf3a4066fa9",
   "metadata": {},
   "outputs": [
    {
     "data": {
      "text/plain": [
       "1"
      ]
     },
     "execution_count": 59,
     "metadata": {},
     "output_type": "execute_result"
    }
   ],
   "source": [
    "name.index('a') # if target not present throw error"
   ]
  },
  {
   "cell_type": "code",
   "execution_count": 65,
   "id": "c1416ba6-d1ee-4f2f-8992-d69ae51c8854",
   "metadata": {},
   "outputs": [
    {
     "data": {
      "text/plain": [
       "True"
      ]
     },
     "execution_count": 65,
     "metadata": {},
     "output_type": "execute_result"
    }
   ],
   "source": [
    "name.startswith('ra')"
   ]
  },
  {
   "cell_type": "code",
   "execution_count": 66,
   "id": "39046873-6d1f-4cb4-a690-314115b58b7e",
   "metadata": {},
   "outputs": [
    {
     "data": {
      "text/plain": [
       "True"
      ]
     },
     "execution_count": 66,
     "metadata": {},
     "output_type": "execute_result"
    }
   ],
   "source": [
    "name.endswith('ey')"
   ]
  },
  {
   "cell_type": "code",
   "execution_count": 69,
   "id": "8efb210d-5097-4d3c-b495-e699e28ff253",
   "metadata": {},
   "outputs": [
    {
     "data": {
      "text/plain": [
       "'hi my name is ravi'"
      ]
     },
     "execution_count": 69,
     "metadata": {},
     "output_type": "execute_result"
    }
   ],
   "source": [
    "# format\n",
    "name = 'ravi'\n",
    "'hi my name is {}'.format(name)"
   ]
  },
  {
   "cell_type": "code",
   "execution_count": 72,
   "id": "d6614516-c669-406a-8596-65c1a4be554c",
   "metadata": {},
   "outputs": [
    {
     "data": {
      "text/plain": [
       "True"
      ]
     },
     "execution_count": 72,
     "metadata": {},
     "output_type": "execute_result"
    }
   ],
   "source": [
    "# isalnum\n",
    "'ravi@123'.isalnum()\n",
    "\n",
    "'123'.isalnum()"
   ]
  },
  {
   "cell_type": "code",
   "execution_count": 74,
   "id": "fa592828-4130-49bc-8628-483d52a1a90f",
   "metadata": {},
   "outputs": [
    {
     "data": {
      "text/plain": [
       "True"
      ]
     },
     "execution_count": 74,
     "metadata": {},
     "output_type": "execute_result"
    }
   ],
   "source": [
    "# isalpha\n",
    "'ravi@'.isalpha()\n",
    "\n",
    "'ravi'.isalpha()"
   ]
  },
  {
   "cell_type": "code",
   "execution_count": 76,
   "id": "9f191f3f-8132-4584-891b-9c6aa77b0de2",
   "metadata": {},
   "outputs": [
    {
     "data": {
      "text/plain": [
       "True"
      ]
     },
     "execution_count": 76,
     "metadata": {},
     "output_type": "execute_result"
    }
   ],
   "source": [
    "# isdigit\n",
    "'123'.isdigit()"
   ]
  },
  {
   "cell_type": "code",
   "execution_count": 78,
   "id": "251aa753-4989-4d6c-881f-548453afce6b",
   "metadata": {},
   "outputs": [
    {
     "data": {
      "text/plain": [
       "True"
      ]
     },
     "execution_count": 78,
     "metadata": {},
     "output_type": "execute_result"
    }
   ],
   "source": [
    "'_1_name'.isidentifier()"
   ]
  },
  {
   "cell_type": "code",
   "execution_count": 79,
   "id": "062862c0-3bce-424d-b4ed-a4449ef8e667",
   "metadata": {},
   "outputs": [
    {
     "data": {
      "text/plain": [
       "['ravi']"
      ]
     },
     "execution_count": 79,
     "metadata": {},
     "output_type": "execute_result"
    }
   ],
   "source": [
    "# split / join\n",
    "name.split()"
   ]
  },
  {
   "cell_type": "code",
   "execution_count": 80,
   "id": "4f26b22e-7437-447f-8bc6-37ca4d3b32ed",
   "metadata": {},
   "outputs": [
    {
     "data": {
      "text/plain": [
       "['ravi', 'pandey']"
      ]
     },
     "execution_count": 80,
     "metadata": {},
     "output_type": "execute_result"
    }
   ],
   "source": [
    "name = 'ravi+pandey'\n",
    "name.split('+')"
   ]
  },
  {
   "cell_type": "code",
   "execution_count": 81,
   "id": "527ef6dd-3471-4d74-960b-b1f79631a2c2",
   "metadata": {},
   "outputs": [
    {
     "data": {
      "text/plain": [
       "'ravi+pandey'"
      ]
     },
     "execution_count": 81,
     "metadata": {},
     "output_type": "execute_result"
    }
   ],
   "source": [
    "\"+\".join(['ravi', 'pandey'])"
   ]
  },
  {
   "cell_type": "code",
   "execution_count": 82,
   "id": "e9891f8d-3bd5-432f-b425-831a8f8ad2c3",
   "metadata": {},
   "outputs": [
    {
     "data": {
      "text/plain": [
       "'Radhe pandey'"
      ]
     },
     "execution_count": 82,
     "metadata": {},
     "output_type": "execute_result"
    }
   ],
   "source": [
    "# replace\n",
    "'Ravi pandey'.replace('Ravi', 'Radhe')"
   ]
  },
  {
   "cell_type": "code",
   "execution_count": 84,
   "id": "6d3e0b3d-a540-48bb-99a7-8876d09d3e0d",
   "metadata": {},
   "outputs": [
    {
     "data": {
      "text/plain": [
       "'space remove'"
      ]
     },
     "execution_count": 84,
     "metadata": {},
     "output_type": "execute_result"
    }
   ],
   "source": [
    "# strip\n",
    "'   space remove         '.strip()"
   ]
  },
  {
   "cell_type": "code",
   "execution_count": null,
   "id": "f9317861-8823-45f8-b6b3-439c76ea9009",
   "metadata": {},
   "outputs": [],
   "source": []
  }
 ],
 "metadata": {
  "kernelspec": {
   "display_name": "Python 3 (ipykernel)",
   "language": "python",
   "name": "python3"
  },
  "language_info": {
   "codemirror_mode": {
    "name": "ipython",
    "version": 3
   },
   "file_extension": ".py",
   "mimetype": "text/x-python",
   "name": "python",
   "nbconvert_exporter": "python",
   "pygments_lexer": "ipython3",
   "version": "3.11.7"
  },
  "widgets": {
   "application/vnd.jupyter.widget-state+json": {
    "state": {},
    "version_major": 2,
    "version_minor": 0
   }
  }
 },
 "nbformat": 4,
 "nbformat_minor": 5
}
