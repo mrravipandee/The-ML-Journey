{
 "cells": [
  {
   "cell_type": "markdown",
   "id": "3e9ffd3b-bcb1-47bb-b3eb-021c7e2cbe5d",
   "metadata": {},
   "source": [
    "### input / output"
   ]
  },
  {
   "cell_type": "code",
   "execution_count": 1,
   "id": "c696d7eb-948d-4023-86ae-6b84d2c64ac5",
   "metadata": {},
   "outputs": [
    {
     "name": "stdout",
     "output_type": "stream",
     "text": [
      "hello\n"
     ]
    }
   ],
   "source": [
    "# input output\n",
    "print('hello')"
   ]
  },
  {
   "cell_type": "markdown",
   "id": "1133ace8-d3f2-4e0e-a8c3-6886f4a7777e",
   "metadata": {},
   "source": [
    "### Data types"
   ]
  },
  {
   "cell_type": "code",
   "execution_count": 2,
   "id": "4d9ecaf9-2e22-4d71-95e4-6be9f1a3b8fd",
   "metadata": {},
   "outputs": [
    {
     "name": "stdout",
     "output_type": "stream",
     "text": [
      "1.7e+308\n"
     ]
    }
   ],
   "source": [
    "# 1. integer\n",
    "age = 10\n",
    "big_num = 1.7e308\n",
    "print(big_num)"
   ]
  },
  {
   "cell_type": "code",
   "execution_count": 3,
   "id": "59849e78-117c-4080-9294-5277c356efa1",
   "metadata": {},
   "outputs": [
    {
     "name": "stdout",
     "output_type": "stream",
     "text": [
      "8.22\n"
     ]
    }
   ],
   "source": [
    "# decimal\n",
    "print(8.22)"
   ]
  },
  {
   "cell_type": "code",
   "execution_count": 4,
   "id": "87c3a46c-7ce1-41f3-b569-64e7cce280ec",
   "metadata": {},
   "outputs": [],
   "source": [
    "# boolean\n",
    "shop = True\n",
    "if shop > 10:\n",
    "    shop = False"
   ]
  },
  {
   "cell_type": "code",
   "execution_count": 5,
   "id": "cee34494-430f-4b2f-aedd-38ca39382954",
   "metadata": {},
   "outputs": [
    {
     "name": "stdout",
     "output_type": "stream",
     "text": [
      "(5+2j)\n"
     ]
    }
   ],
   "source": [
    "# complex\n",
    "print(5+2j)"
   ]
  },
  {
   "cell_type": "code",
   "execution_count": 6,
   "id": "2175cfc1-00af-4d01-bb84-db07f0cd92af",
   "metadata": {},
   "outputs": [
    {
     "name": "stdout",
     "output_type": "stream",
     "text": [
      "ravi pandey\n"
     ]
    }
   ],
   "source": [
    "# string\n",
    "name = 'ravi pandey'\n",
    "print(name)"
   ]
  },
  {
   "cell_type": "code",
   "execution_count": 7,
   "id": "0c6b36ea-e29e-4700-9faf-b1acb3e90976",
   "metadata": {},
   "outputs": [],
   "source": [
    "# list \n",
    "lst = [1,2,3]"
   ]
  },
  {
   "cell_type": "code",
   "execution_count": 8,
   "id": "c90b60ec-19f2-44df-86bc-2ec37a31ddd6",
   "metadata": {},
   "outputs": [],
   "source": [
    "# tuple\n",
    "tub = (1,2,3)"
   ]
  },
  {
   "cell_type": "code",
   "execution_count": 10,
   "id": "590b7623-415d-4a37-b3e8-6bc8ee4ed44d",
   "metadata": {},
   "outputs": [],
   "source": [
    "# sets\n",
    "set = {1,2,3,3,4,5}\n"
   ]
  },
  {
   "cell_type": "code",
   "execution_count": 14,
   "id": "9adee160-8fe0-4e27-9e24-852273a8992d",
   "metadata": {},
   "outputs": [
    {
     "data": {
      "text/plain": [
       "21"
      ]
     },
     "execution_count": 14,
     "metadata": {},
     "output_type": "execute_result"
    }
   ],
   "source": [
    "# dictionay\n",
    "info = {'name': 'Ravii', 'age': 21}\n",
    "age = info['age']\n",
    "age"
   ]
  },
  {
   "cell_type": "code",
   "execution_count": 15,
   "id": "557e3979-9d36-404f-be29-af48a66a2ed2",
   "metadata": {},
   "outputs": [
    {
     "data": {
      "text/plain": [
       "complex"
      ]
     },
     "execution_count": 15,
     "metadata": {},
     "output_type": "execute_result"
    }
   ],
   "source": [
    "# type method\n",
    "type(5+6j)"
   ]
  },
  {
   "cell_type": "markdown",
   "id": "22032919-365e-4268-8919-906f3c73618f",
   "metadata": {},
   "source": [
    "### Variables"
   ]
  },
  {
   "cell_type": "code",
   "execution_count": 16,
   "id": "c0a2c18d-0a14-4a3c-8705-56762a9f4347",
   "metadata": {},
   "outputs": [],
   "source": [
    "# in python dont meanthon data type"
   ]
  },
  {
   "cell_type": "code",
   "execution_count": 18,
   "id": "4f9eb333-03fa-4cc8-a17c-190f58eeda6e",
   "metadata": {},
   "outputs": [],
   "source": [
    "# dynamic typing\n",
    "# where you do not tell the data type of variable its call dynamic language or this python freely used"
   ]
  },
  {
   "cell_type": "code",
   "execution_count": 20,
   "id": "ebc799f7-ecc7-4974-b557-4190fabf50c2",
   "metadata": {},
   "outputs": [],
   "source": [
    "# dynamic binding\n",
    "# can't fix the data variable after assign value, every time can chnage"
   ]
  },
  {
   "cell_type": "code",
   "execution_count": 21,
   "id": "37178274-05d6-4094-bdc3-c356d0e720f3",
   "metadata": {},
   "outputs": [
    {
     "name": "stdout",
     "output_type": "stream",
     "text": [
      "5 5 5\n"
     ]
    }
   ],
   "source": [
    "# multi assgin values\n",
    "a = b = c = 5\n",
    "print(a, b, c)"
   ]
  },
  {
   "cell_type": "markdown",
   "id": "f1986294-348f-40be-a706-cff6cac51882",
   "metadata": {},
   "source": [
    "### keywords & Identifiers"
   ]
  },
  {
   "cell_type": "code",
   "execution_count": null,
   "id": "97dc5382-7f1b-4a22-8cd8-7cd26375d19d",
   "metadata": {},
   "outputs": [],
   "source": [
    "# Reserved words in Python with special meaning that cannot be used as identifiers (e.g., if, else, for, while).\n",
    "# Names created by programmers to identify variables, functions, classes, etc., following specific rules (e.g., my_variable, age)."
   ]
  }
 ],
 "metadata": {
  "kernelspec": {
   "display_name": "Python 3 (ipykernel)",
   "language": "python",
   "name": "python3"
  },
  "language_info": {
   "codemirror_mode": {
    "name": "ipython",
    "version": 3
   },
   "file_extension": ".py",
   "mimetype": "text/x-python",
   "name": "python",
   "nbconvert_exporter": "python",
   "pygments_lexer": "ipython3",
   "version": "3.11.7"
  },
  "widgets": {
   "application/vnd.jupyter.widget-state+json": {
    "state": {},
    "version_major": 2,
    "version_minor": 0
   }
  }
 },
 "nbformat": 4,
 "nbformat_minor": 5
}
