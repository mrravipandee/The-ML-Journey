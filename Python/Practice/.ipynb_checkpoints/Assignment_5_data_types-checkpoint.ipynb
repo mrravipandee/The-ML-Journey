{
 "cells": [
  {
   "cell_type": "code",
   "execution_count": 1,
   "id": "99d1b2de-3b92-4603-9c72-eee5d70bfc33",
   "metadata": {},
   "outputs": [
    {
     "data": {
      "text/plain": [
       "[1, 2, 4, 5, [6, 7], [], 8, 9]"
      ]
     },
     "execution_count": 1,
     "metadata": {},
     "output_type": "execute_result"
    }
   ],
   "source": [
    "# remove empty list from list\n",
    "lst = [1,2,4,5,[6,7],[],8,9]\n",
    "lst"
   ]
  },
  {
   "cell_type": "code",
   "execution_count": 4,
   "id": "51f78db7-d3df-44e9-9ae2-5437f873e3a7",
   "metadata": {},
   "outputs": [
    {
     "data": {
      "text/plain": [
       "[1, 2, 4, 5, [6, 7], 8, 9]"
      ]
     },
     "execution_count": 4,
     "metadata": {},
     "output_type": "execute_result"
    }
   ],
   "source": [
    "list(filter(None, lst))"
   ]
  },
  {
   "cell_type": "code",
   "execution_count": 5,
   "id": "3bd35698-1aca-4897-a0b7-adc936485d64",
   "metadata": {},
   "outputs": [
    {
     "data": {
      "text/plain": [
       "[1, 2, 4, 5, [6, 7], 8, 9]"
      ]
     },
     "execution_count": 5,
     "metadata": {},
     "output_type": "execute_result"
    }
   ],
   "source": [
    "lst = [1,2,4,5,[6,7],[],8,9]\n",
    "lst = [ item for item in lst if item != []]\n",
    "print(lst)"
   ]
  },
  {
   "cell_type": "code",
   "execution_count": 1,
   "id": "182a35d3-8fe9-4693-b5e5-a49ee69f5301",
   "metadata": {},
   "outputs": [],
   "source": [
    "detail = ['Ravi', 21, 'Pandey', 18]\n",
    "keys = ['Names', 'Numbers']\n",
    "\n",
    "dict = {}"
   ]
  },
  {
   "cell_type": "code",
   "execution_count": 12,
   "id": "67a9d18f-8d84-4f9e-83b6-3f5b1bbf7be3",
   "metadata": {},
   "outputs": [
    {
     "name": "stdout",
     "output_type": "stream",
     "text": [
      "<class 'list'>\n",
      "[(1, 2, 4), (4, 5, 6), (7, 8, 9)]\n"
     ]
    }
   ],
   "source": [
    "# list inside tuple change last value\n",
    "l = [(1,2,3), (4,5,4), (7,8,7)]\n",
    "\n",
    "for i in range(len(l)):\n",
    "    l[i] = list(l[i])\n",
    "\n",
    "l[0][-1] = 4\n",
    "l[1][-1] = 6\n",
    "l[2][-1] = 9\n",
    "\n",
    "for i in range(len(l)):\n",
    "    l[i] = tuple(l[i])\n",
    "\n",
    "print(type(l))\n",
    "print(l)"
   ]
  },
  {
   "cell_type": "code",
   "execution_count": null,
   "id": "499b9f69-be87-4abf-8f23-da13918214b0",
   "metadata": {},
   "outputs": [],
   "source": []
  },
  {
   "cell_type": "code",
   "execution_count": null,
   "id": "6fff66d1-cded-47e7-9bda-214e28e4740c",
   "metadata": {},
   "outputs": [],
   "source": []
  }
 ],
 "metadata": {
  "kernelspec": {
   "display_name": "Python 3 (ipykernel)",
   "language": "python",
   "name": "python3"
  },
  "language_info": {
   "codemirror_mode": {
    "name": "ipython",
    "version": 3
   },
   "file_extension": ".py",
   "mimetype": "text/x-python",
   "name": "python",
   "nbconvert_exporter": "python",
   "pygments_lexer": "ipython3",
   "version": "3.11.7"
  },
  "widgets": {
   "application/vnd.jupyter.widget-state+json": {
    "state": {},
    "version_major": 2,
    "version_minor": 0
   }
  }
 },
 "nbformat": 4,
 "nbformat_minor": 5
}
