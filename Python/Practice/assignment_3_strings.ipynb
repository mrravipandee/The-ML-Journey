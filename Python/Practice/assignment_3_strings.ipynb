{
 "cells": [
  {
   "cell_type": "code",
   "execution_count": 1,
   "id": "2af61fc3-e79e-4a97-918a-c09cd4a01a59",
   "metadata": {},
   "outputs": [
    {
     "name": "stdout",
     "output_type": "stream",
     "text": [
      "Ravii Pandey\n"
     ]
    }
   ],
   "source": [
    "# Write a Python program to concatenate two string.\n",
    "f_name = 'Ravii'\n",
    "l_name = 'Pandey'\n",
    "\n",
    "print(f_name, l_name)"
   ]
  },
  {
   "cell_type": "code",
   "execution_count": 3,
   "id": "07fffef1-d2f8-4dd8-b456-553d32e5f313",
   "metadata": {},
   "outputs": [
    {
     "name": "stdout",
     "output_type": "stream",
     "text": [
      "11\n"
     ]
    }
   ],
   "source": [
    "# Write a Python program to find the length of a given string.\n",
    "name = 'Ravi Pandey'\n",
    "length = 0\n",
    "\n",
    "for i in name:\n",
    "    length += 1\n",
    "\n",
    "print(length)"
   ]
  },
  {
   "cell_type": "code",
   "execution_count": 5,
   "id": "8c80f283-0bc1-4667-87ea-4a742de579fa",
   "metadata": {},
   "outputs": [
    {
     "name": "stdout",
     "output_type": "stream",
     "text": [
      "Thi\n",
      "tch\n"
     ]
    }
   ],
   "source": [
    "# Write a Python program to extract the first 3 and last 3 characters from a given string.\n",
    "str = 'This is the learning Ml from scratch'\n",
    "\n",
    "first_three = str[:3]\n",
    "last_three = str[-3:]\n",
    "\n",
    "print(first_three)\n",
    "print(last_three)"
   ]
  },
  {
   "cell_type": "code",
   "execution_count": 7,
   "id": "5ce24490-834b-4f3c-9491-01e5503903d4",
   "metadata": {},
   "outputs": [
    {
     "name": "stdin",
     "output_type": "stream",
     "text": [
      "Enter the string:  ravi pandey\n",
      "1. Uppercase\n",
      "2.Lowercase\n",
      "Enter the number:  1\n"
     ]
    },
    {
     "name": "stdout",
     "output_type": "stream",
     "text": [
      "RAVI PANDEY\n"
     ]
    }
   ],
   "source": [
    "# Write a Python program to convert a string to uppercase and lowercase.\n",
    "str_in = input('Enter the string: ')\n",
    "mode = int(input('1. Uppercase\\n2.Lowercase\\nEnter the number: '))\n",
    "\n",
    "if mode == 1:\n",
    "    print(str_in.upper())\n",
    "elif mode == 2:\n",
    "    print(str_in.lower())\n",
    "else:\n",
    "    print('Enter 1 and 2')\n"
   ]
  },
  {
   "cell_type": "code",
   "execution_count": 8,
   "id": "f48bff83-9ae5-4e97-aecb-ac54ce0960bf",
   "metadata": {},
   "outputs": [
    {
     "data": {
      "text/plain": [
       "True"
      ]
     },
     "execution_count": 8,
     "metadata": {},
     "output_type": "execute_result"
    }
   ],
   "source": [
    "# Write a Python program to check if a substring exists within a given string.\n",
    "str = 'I am Ravi Pandey'\n",
    "\n",
    "'R' in str"
   ]
  },
  {
   "cell_type": "code",
   "execution_count": 9,
   "id": "fa991a5c-3605-4c64-8666-f98d9e69ad21",
   "metadata": {},
   "outputs": [
    {
     "data": {
      "text/plain": [
       "'yednaP ivaR'"
      ]
     },
     "execution_count": 9,
     "metadata": {},
     "output_type": "execute_result"
    }
   ],
   "source": [
    "# Write a Python program to reverse a given string.\n",
    "str = 'Ravi Pandey'\n",
    "str[::-1]"
   ]
  },
  {
   "cell_type": "code",
   "execution_count": 12,
   "id": "a3e0142a-8ba1-4d44-8ec7-8661b3061d21",
   "metadata": {},
   "outputs": [
    {
     "name": "stdout",
     "output_type": "stream",
     "text": [
      "Give string is palindrome\n"
     ]
    }
   ],
   "source": [
    "# Write a Python program to check if a given string is a palindrome.\n",
    "str = 'madam'\n",
    "\n",
    "re_str = str[::-1]\n",
    "if re_str == str:\n",
    "    print('Give string is palindrome')\n",
    "else:\n",
    "    print('Give string is not palindrome')"
   ]
  },
  {
   "cell_type": "code",
   "execution_count": 15,
   "id": "6ae66b1e-a24f-43c4-b11a-1e234315cccf",
   "metadata": {},
   "outputs": [
    {
     "name": "stdout",
     "output_type": "stream",
     "text": [
      "In string vowel present 5 or consonants 16\n"
     ]
    }
   ],
   "source": [
    "# Write a Python program to count the number of vowels and consonants in a given string.\n",
    "\n",
    "str = 'its a string programm'\n",
    "\n",
    "vowels_count = 0\n",
    "cons_count = 0\n",
    "\n",
    "for i in str:\n",
    "    if i in ['a','e','i','o','u']:\n",
    "        vowels_count += 1\n",
    "    else:\n",
    "        cons_count += 1\n",
    "\n",
    "\n",
    "print('In string vowel present {} or consonants {}'.format(vowels_count, cons_count))"
   ]
  },
  {
   "cell_type": "code",
   "execution_count": 2,
   "id": "f04731ab-ce66-4ea9-a4c1-0ca80484c84d",
   "metadata": {},
   "outputs": [
    {
     "name": "stdout",
     "output_type": "stream",
     "text": [
      "imravipanday\n"
     ]
    }
   ],
   "source": [
    "# Extract username from a given email.\n",
    "email = 'imravipanday@gmail.com'\n",
    "\n",
    "username = ''\n",
    "\n",
    "for char in email:\n",
    "    if char == '@':\n",
    "        break;\n",
    "    else:\n",
    "        username += char\n",
    "\n",
    "print(username)\n",
    "    "
   ]
  },
  {
   "cell_type": "code",
   "execution_count": 3,
   "id": "15f02d02-d343-4c89-b58a-045b89729499",
   "metadata": {},
   "outputs": [
    {
     "data": {
      "text/plain": [
       "3"
      ]
     },
     "execution_count": 3,
     "metadata": {},
     "output_type": "execute_result"
    }
   ],
   "source": [
    "# Count the frequency of a particular character in a provided string. \n",
    "str = \"I believe every human has a finite number of heartbeats. I don't intend to waste any of mine.\"\n",
    "\n",
    "def count_frequency(str, char):\n",
    "    return str.count(char)\n",
    "\n",
    "\n",
    "count_frequency(str, 'h')"
   ]
  },
  {
   "cell_type": "code",
   "execution_count": 9,
   "id": "53a61eab-4ce5-421c-9eac-db9cdd801355",
   "metadata": {},
   "outputs": [
    {
     "data": {
      "text/plain": [
       "\" believe every human has a finite number of heartbeats.  don't intend to waste any of mine.\""
      ]
     },
     "execution_count": 9,
     "metadata": {},
     "output_type": "execute_result"
    }
   ],
   "source": [
    "#  Write a program which can remove a particular character from a string.\n",
    "\n",
    "def remove_char(str, char):\n",
    "    new_str = str.replace(char, '')\n",
    "    return new_str\n",
    "\n",
    "remove_char(str, 'I')"
   ]
  },
  {
   "cell_type": "code",
   "execution_count": 36,
   "id": "cc1f31a2-79e0-4d8b-8aa2-27d347600c77",
   "metadata": {},
   "outputs": [
    {
     "data": {
      "text/plain": [
       "\"I Believe Every Human Has A Finite Number Of Heartbeats. I Don't Intend To Waste Any Of Mine.\""
      ]
     },
     "execution_count": 36,
     "metadata": {},
     "output_type": "execute_result"
    }
   ],
   "source": [
    "# Write a python program to convert a string to title case without using the title()\n",
    "\n",
    "def own_title(str):\n",
    "    title_cased_words = []\n",
    "    words = str.split()\n",
    "    for word in words:\n",
    "        title_cased = word[0].upper() + word[1:].lower()\n",
    "        title_cased_words.append(title_cased)\n",
    "        \n",
    "    return ' '.join(title_cased_words)\n",
    "\n",
    "\n",
    "own_title(str)"
   ]
  },
  {
   "cell_type": "code",
   "execution_count": 42,
   "id": "732f22f8-4c2a-4cae-b688-e72abdecfe7e",
   "metadata": {},
   "outputs": [
    {
     "ename": "TypeError",
     "evalue": "isinstance() arg 2 must be a type, a tuple of types, or a union",
     "output_type": "error",
     "traceback": [
      "\u001b[0;31m---------------------------------------------------------------------------\u001b[0m",
      "\u001b[0;31mTypeError\u001b[0m                                 Traceback (most recent call last)",
      "Cell \u001b[0;32mIn[42], line 10\u001b[0m\n\u001b[1;32m      7\u001b[0m     \u001b[38;5;28;01melse\u001b[39;00m:\n\u001b[1;32m      8\u001b[0m         \u001b[38;5;28;01mreturn\u001b[39;00m \u001b[38;5;28mstr\u001b[39m(num)\n\u001b[0;32m---> 10\u001b[0m result \u001b[38;5;241m=\u001b[39m num_str(\u001b[38;5;241m123\u001b[39m)\n\u001b[1;32m     11\u001b[0m \u001b[38;5;28mprint\u001b[39m(result)\n\u001b[1;32m     13\u001b[0m result \u001b[38;5;241m=\u001b[39m num_str(\u001b[38;5;124m'\u001b[39m\u001b[38;5;124m234\u001b[39m\u001b[38;5;124m'\u001b[39m)\n",
      "Cell \u001b[0;32mIn[42], line 5\u001b[0m, in \u001b[0;36mnum_str\u001b[0;34m(num)\u001b[0m\n\u001b[1;32m      3\u001b[0m \u001b[38;5;28;01mdef\u001b[39;00m \u001b[38;5;21mnum_str\u001b[39m(num):\n\u001b[1;32m      4\u001b[0m     \u001b[38;5;66;03m# Check if num is already a string\u001b[39;00m\n\u001b[0;32m----> 5\u001b[0m     \u001b[38;5;28;01mif\u001b[39;00m \u001b[38;5;28misinstance\u001b[39m(num, \u001b[38;5;28mstr\u001b[39m):\n\u001b[1;32m      6\u001b[0m         \u001b[38;5;28;01mreturn\u001b[39;00m \u001b[38;5;124m'\u001b[39m\u001b[38;5;124mAlready String\u001b[39m\u001b[38;5;124m'\u001b[39m\n\u001b[1;32m      7\u001b[0m     \u001b[38;5;28;01melse\u001b[39;00m:\n",
      "\u001b[0;31mTypeError\u001b[0m: isinstance() arg 2 must be a type, a tuple of types, or a union"
     ]
    }
   ],
   "source": [
    "# Write a program that can convert an integer to string.\n",
    "\n",
    "def num_str(num):\n",
    "    # Check if num is already a string\n",
    "    if isinstance(num, str):\n",
    "        return 'Already String'\n",
    "    else:\n",
    "        return str(num)\n",
    "\n",
    "result = num_str(123)\n",
    "print(result)\n",
    "\n",
    "result = num_str('234')\n",
    "print(result) "
   ]
  },
  {
   "cell_type": "code",
   "execution_count": null,
   "id": "fdd5d93b-aaba-4c71-adba-fa92a0a0f9c5",
   "metadata": {},
   "outputs": [],
   "source": []
  }
 ],
 "metadata": {
  "kernelspec": {
   "display_name": "Python 3 (ipykernel)",
   "language": "python",
   "name": "python3"
  },
  "language_info": {
   "codemirror_mode": {
    "name": "ipython",
    "version": 3
   },
   "file_extension": ".py",
   "mimetype": "text/x-python",
   "name": "python",
   "nbconvert_exporter": "python",
   "pygments_lexer": "ipython3",
   "version": "3.11.7"
  },
  "widgets": {
   "application/vnd.jupyter.widget-state+json": {
    "state": {},
    "version_major": 2,
    "version_minor": 0
   }
  }
 },
 "nbformat": 4,
 "nbformat_minor": 5
}
