{
 "cells": [
  {
   "cell_type": "markdown",
   "id": "37d966b7-9141-4b7b-9576-eaa58d05f7ca",
   "metadata": {},
   "source": [
    "## Tuples"
   ]
  },
  {
   "cell_type": "markdown",
   "id": "5c242827-2e14-4fe9-ac00-c4081a9581d4",
   "metadata": {},
   "source": [
    "### Creating tuple"
   ]
  },
  {
   "cell_type": "code",
   "execution_count": 2,
   "id": "595b84e4-bd19-4d6b-8fc3-beb3afbcd78f",
   "metadata": {},
   "outputs": [
    {
     "name": "stdout",
     "output_type": "stream",
     "text": [
      "<class 'tuple'>\n",
      "<class 'tuple'>\n",
      "('h', 'e', 'l', 'l', 'o')\n"
     ]
    }
   ],
   "source": [
    "# empty\n",
    "t1 = ()\n",
    "print(type(t1))\n",
    "\n",
    "# single item note: after the value add comma, because with that they can treat as tuble\n",
    "not_tuple = ('hello')\n",
    "t2 = ('hello',) # correct syntax\n",
    "print(type(t2))\n",
    "\n",
    "# homogenious typle - mean all elements are same\n",
    "t3 = (1,2,3,4,5,6,7)\n",
    "\n",
    "# hetrogenious tuple - different elements data type\n",
    "t4 = (1,2,3,True,(5,6))\n",
    "\n",
    "# type conversion\n",
    "t5 = tuple('hello')\n",
    "print(t5)"
   ]
  },
  {
   "cell_type": "markdown",
   "id": "60bd28c7-f7ba-4836-b316-50229dee6f1f",
   "metadata": {
    "jp-MarkdownHeadingCollapsed": true
   },
   "source": [
    "### Accessing Items"
   ]
  },
  {
   "cell_type": "code",
   "execution_count": 5,
   "id": "420bc21e-8980-410b-9d1f-b4bc658dbd7f",
   "metadata": {},
   "outputs": [
    {
     "name": "stdout",
     "output_type": "stream",
     "text": [
      "1\n",
      "3\n",
      "(3, 4, 5)\n",
      "(8, 7, 6, 5, 4, 3, 2, 1)\n"
     ]
    }
   ],
   "source": [
    "# Indexing\n",
    "tuple = (1,2,3,4,5,6,7,8)\n",
    "print(tuple[0])\n",
    "print(tuple[2])\n",
    "\n",
    "# Slicing\n",
    "print(tuple[2:5])\n",
    "\n",
    "print(tuple[::-1])"
   ]
  },
  {
   "cell_type": "code",
   "execution_count": 6,
   "id": "2c7933c3-9d15-4b18-9eab-5db8e0c73eb4",
   "metadata": {},
   "outputs": [
    {
     "data": {
      "text/plain": [
       "5"
      ]
     },
     "execution_count": 6,
     "metadata": {},
     "output_type": "execute_result"
    }
   ],
   "source": [
    "# 2d tupple access\n",
    "t2d = (1,2,3,(4,5,6))\n",
    "t2d[3][1]"
   ]
  },
  {
   "cell_type": "markdown",
   "id": "89014f0a-e6eb-4ab9-8568-f03556af59bf",
   "metadata": {
    "jp-MarkdownHeadingCollapsed": true
   },
   "source": [
    "### Editing items"
   ]
  },
  {
   "cell_type": "code",
   "execution_count": 7,
   "id": "24bf66e4-08e8-449e-9788-573811809dcf",
   "metadata": {},
   "outputs": [
    {
     "ename": "TypeError",
     "evalue": "'tuple' object does not support item assignment",
     "output_type": "error",
     "traceback": [
      "\u001b[0;31m---------------------------------------------------------------------------\u001b[0m",
      "\u001b[0;31mTypeError\u001b[0m                                 Traceback (most recent call last)",
      "Cell \u001b[0;32mIn[7], line 2\u001b[0m\n\u001b[1;32m      1\u001b[0m \u001b[38;5;66;03m# note: tuple are immutable we can change after creating tuple\u001b[39;00m\n\u001b[0;32m----> 2\u001b[0m t2d[\u001b[38;5;241m3\u001b[39m][\u001b[38;5;241m1\u001b[39m] \u001b[38;5;241m=\u001b[39m \u001b[38;5;241m10\u001b[39m\n",
      "\u001b[0;31mTypeError\u001b[0m: 'tuple' object does not support item assignment"
     ]
    }
   ],
   "source": [
    "# note: tuple are immutable we can change after creating tuple\n",
    "t2d[3][1] = 10"
   ]
  },
  {
   "cell_type": "code",
   "execution_count": 8,
   "id": "4fdf24f4-8e5d-4d5b-9643-bae085031be2",
   "metadata": {},
   "outputs": [
    {
     "name": "stdout",
     "output_type": "stream",
     "text": [
      "(1, 2, 3, 4, 5, 6, 7)\n"
     ]
    }
   ],
   "source": [
    "# Adding items\n",
    "print(t3)\n",
    "# not possible"
   ]
  },
  {
   "cell_type": "markdown",
   "id": "b13e0a25-cf11-4a34-892f-e962efb55d64",
   "metadata": {
    "jp-MarkdownHeadingCollapsed": true
   },
   "source": [
    "### Deleting items"
   ]
  },
  {
   "cell_type": "code",
   "execution_count": 9,
   "id": "f74d2fde-115a-4e31-b951-2d2727e394af",
   "metadata": {},
   "outputs": [],
   "source": [
    "# we cant delete single item from tuple but we can delete hole tuple\n",
    "del t3"
   ]
  },
  {
   "cell_type": "code",
   "execution_count": 10,
   "id": "d242976f-6a07-44fd-bc75-3c34f885467a",
   "metadata": {},
   "outputs": [
    {
     "ename": "TypeError",
     "evalue": "'tuple' object doesn't support item deletion",
     "output_type": "error",
     "traceback": [
      "\u001b[0;31m---------------------------------------------------------------------------\u001b[0m",
      "\u001b[0;31mTypeError\u001b[0m                                 Traceback (most recent call last)",
      "Cell \u001b[0;32mIn[10], line 1\u001b[0m\n\u001b[0;32m----> 1\u001b[0m \u001b[38;5;28;01mdel\u001b[39;00m t2d[\u001b[38;5;241m3\u001b[39m][\u001b[38;5;241m1\u001b[39m]\n",
      "\u001b[0;31mTypeError\u001b[0m: 'tuple' object doesn't support item deletion"
     ]
    }
   ],
   "source": [
    "del t2d[3][1]"
   ]
  },
  {
   "cell_type": "markdown",
   "id": "b9a09aa0-f6a1-4439-93aa-17603581c435",
   "metadata": {
    "jp-MarkdownHeadingCollapsed": true
   },
   "source": [
    "### Operations on Tuples"
   ]
  },
  {
   "cell_type": "code",
   "execution_count": 12,
   "id": "13e6c4cd-823e-43b7-9c05-c8fad02aead5",
   "metadata": {},
   "outputs": [
    {
     "name": "stdout",
     "output_type": "stream",
     "text": [
      "(1, 2, 3, 9, 4, 2)\n",
      "(1, 2, 3, 1, 2, 3)\n",
      "True\n",
      "1\n",
      "2\n",
      "3\n",
      "9\n",
      "4\n",
      "2\n"
     ]
    }
   ],
   "source": [
    "# + and *\n",
    "t1 = (1,2,3)\n",
    "t2 = (9,4,2)\n",
    "\n",
    "t3 = t1 + t2\n",
    "print(t3)\n",
    "\n",
    "print(t1 * 2)\n",
    "\n",
    "# membership\n",
    "print(1 in t1)\n",
    "\n",
    "# iteration\n",
    "for i in t3:\n",
    "    print(i)"
   ]
  },
  {
   "cell_type": "markdown",
   "id": "54a7728d-d43e-4813-bb50-67adf473f1f8",
   "metadata": {},
   "source": [
    "### Functions"
   ]
  },
  {
   "cell_type": "code",
   "execution_count": 13,
   "id": "ee7767dc-02c1-4ee7-9d29-b2a1e843c026",
   "metadata": {},
   "outputs": [
    {
     "data": {
      "text/plain": [
       "[2, 4, 9]"
      ]
     },
     "execution_count": 13,
     "metadata": {},
     "output_type": "execute_result"
    }
   ],
   "source": [
    "# len / sum / min / max / sorted / \n",
    "len(t3)\n",
    "\n",
    "sum(t1)\n",
    "\n",
    "min(t1)\n",
    "\n",
    "max(t2)\n",
    "\n",
    "sorted(t2)"
   ]
  },
  {
   "cell_type": "code",
   "execution_count": 15,
   "id": "d6eb8d11-cb14-4e1d-9a50-887778f05da5",
   "metadata": {},
   "outputs": [
    {
     "data": {
      "text/plain": [
       "2"
      ]
     },
     "execution_count": 15,
     "metadata": {},
     "output_type": "execute_result"
    }
   ],
   "source": [
    "# count\n",
    "t3.count(2)"
   ]
  },
  {
   "cell_type": "code",
   "execution_count": 16,
   "id": "8e071ae1-7ca2-4fa2-b88e-185998b0567f",
   "metadata": {},
   "outputs": [
    {
     "data": {
      "text/plain": [
       "2"
      ]
     },
     "execution_count": 16,
     "metadata": {},
     "output_type": "execute_result"
    }
   ],
   "source": [
    "# index\n",
    "t3.index(3)"
   ]
  },
  {
   "cell_type": "code",
   "execution_count": 19,
   "id": "5b6d7265-c915-4019-8580-434cf373c193",
   "metadata": {},
   "outputs": [
    {
     "name": "stdout",
     "output_type": "stream",
     "text": [
      "1\n",
      "23\n",
      "4\n"
     ]
    }
   ],
   "source": [
    "# special syntax\n",
    "a,b,c = (1,23,4)\n",
    "print(a)\n",
    "print(b)\n",
    "print(c)"
   ]
  },
  {
   "cell_type": "code",
   "execution_count": 20,
   "id": "9edcdf05-fd3e-4d63-97f3-019d94a090d4",
   "metadata": {},
   "outputs": [
    {
     "name": "stdout",
     "output_type": "stream",
     "text": [
      "23 1\n"
     ]
    }
   ],
   "source": [
    "# swap using tuple\n",
    "a,b = b,a\n",
    "print(a, b)"
   ]
  },
  {
   "cell_type": "code",
   "execution_count": 21,
   "id": "3f921b66-2fb9-4b70-bf12-768fdfda37fd",
   "metadata": {},
   "outputs": [
    {
     "name": "stdout",
     "output_type": "stream",
     "text": [
      "1 2\n"
     ]
    }
   ],
   "source": [
    "tuple = (1,2,3,4,5,6,7,8)\n",
    "a,b,*other = tuple\n",
    "print(a, b)"
   ]
  },
  {
   "cell_type": "code",
   "execution_count": 25,
   "id": "e9c69192-7c58-48a5-bfde-6565899df0f4",
   "metadata": {},
   "outputs": [
    {
     "data": {
      "text/plain": [
       "[(1, 10), (2, 20), (3, 30), (4, 40), (5, 50)]"
      ]
     },
     "execution_count": 25,
     "metadata": {},
     "output_type": "execute_result"
    }
   ],
   "source": [
    "# zip \n",
    "a = (1,2,3,4,5)\n",
    "b = (10, 20, 30, 40, 50)\n",
    "\n",
    "list(zip(a,b))"
   ]
  },
  {
   "cell_type": "code",
   "execution_count": 28,
   "id": "40e21b48-a2e6-44be-b9df-41263559b8b2",
   "metadata": {},
   "outputs": [
    {
     "ename": "TypeError",
     "evalue": "'tuple' object is not callable",
     "output_type": "error",
     "traceback": [
      "\u001b[0;31m---------------------------------------------------------------------------\u001b[0m",
      "\u001b[0;31mTypeError\u001b[0m                                 Traceback (most recent call last)",
      "Cell \u001b[0;32mIn[28], line 1\u001b[0m\n\u001b[0;32m----> 1\u001b[0m \u001b[38;5;28mtuple\u001b[39m(\u001b[38;5;28mzip\u001b[39m(a,b))\n",
      "\u001b[0;31mTypeError\u001b[0m: 'tuple' object is not callable"
     ]
    }
   ],
   "source": [
    "tuple(zip(a,b))"
   ]
  },
  {
   "cell_type": "code",
   "execution_count": 27,
   "id": "a5eea708-d991-49df-a597-9b3ae35af6ce",
   "metadata": {},
   "outputs": [],
   "source": [
    "# typle - only read operation can apply no other"
   ]
  },
  {
   "cell_type": "markdown",
   "id": "6cb1e200-08b1-40ca-b16b-eb86c9e0309c",
   "metadata": {},
   "source": [
    "## Sets"
   ]
  },
  {
   "cell_type": "code",
   "execution_count": 29,
   "id": "b9c8abe1-4300-4121-b9f7-1d876bb4d080",
   "metadata": {},
   "outputs": [],
   "source": [
    "# unordered\n",
    "# mutable\n",
    "# no duplicates\n",
    "# cant contain mutable data types"
   ]
  },
  {
   "cell_type": "markdown",
   "id": "19a56ffa-3b5b-4a6b-8e1e-b7cc9b4aec44",
   "metadata": {},
   "source": [
    "### Creating "
   ]
  },
  {
   "cell_type": "code",
   "execution_count": 32,
   "id": "1e2e3698-7865-4579-86b7-4b12b5b9215f",
   "metadata": {},
   "outputs": [
    {
     "ename": "TypeError",
     "evalue": "unhashable type: 'set'",
     "output_type": "error",
     "traceback": [
      "\u001b[0;31m---------------------------------------------------------------------------\u001b[0m",
      "\u001b[0;31mTypeError\u001b[0m                                 Traceback (most recent call last)",
      "Cell \u001b[0;32mIn[32], line 10\u001b[0m\n\u001b[1;32m      7\u001b[0m s \u001b[38;5;241m=\u001b[39m {\u001b[38;5;241m1\u001b[39m,\u001b[38;5;241m2\u001b[39m,\u001b[38;5;241m3\u001b[39m,\u001b[38;5;241m4\u001b[39m,\u001b[38;5;241m5\u001b[39m}\n\u001b[1;32m      9\u001b[0m \u001b[38;5;66;03m# 2d set\u001b[39;00m\n\u001b[0;32m---> 10\u001b[0m s \u001b[38;5;241m=\u001b[39m {\u001b[38;5;241m1\u001b[39m,\u001b[38;5;241m2\u001b[39m,\u001b[38;5;241m3\u001b[39m,{\u001b[38;5;241m4\u001b[39m,\u001b[38;5;241m5\u001b[39m,\u001b[38;5;241m6\u001b[39m}}\n",
      "\u001b[0;31mTypeError\u001b[0m: unhashable type: 'set'"
     ]
    }
   ],
   "source": [
    "# empty\n",
    "# s = {} \n",
    "s = set()\n",
    "type(s)\n",
    "\n",
    "# 1d set homogenious\n",
    "s = {1,2,3,4,5}\n",
    "\n",
    "# 2d set\n",
    "s = {1,2,3,{4,5,6}}"
   ]
  },
  {
   "cell_type": "code",
   "execution_count": 34,
   "id": "e03f568d-00ae-421d-9ad3-0af13094b22c",
   "metadata": {},
   "outputs": [
    {
     "data": {
      "text/plain": [
       "{(5, 4), 1, 2, 3, 4, 'Hello'}"
      ]
     },
     "execution_count": 34,
     "metadata": {},
     "output_type": "execute_result"
    }
   ],
   "source": [
    "s3 = {1,2,3,4,True,'Hello',(5,4)}\n",
    "s3"
   ]
  },
  {
   "cell_type": "code",
   "execution_count": 35,
   "id": "2b16a635-d9ef-4a68-ae8b-2d90e4f86477",
   "metadata": {},
   "outputs": [
    {
     "ename": "TypeError",
     "evalue": "unhashable type: 'list'",
     "output_type": "error",
     "traceback": [
      "\u001b[0;31m---------------------------------------------------------------------------\u001b[0m",
      "\u001b[0;31mTypeError\u001b[0m                                 Traceback (most recent call last)",
      "Cell \u001b[0;32mIn[35], line 2\u001b[0m\n\u001b[1;32m      1\u001b[0m \u001b[38;5;66;03m# cant have mutable items or data type\u001b[39;00m\n\u001b[0;32m----> 2\u001b[0m s4 \u001b[38;5;241m=\u001b[39m {\u001b[38;5;241m1\u001b[39m,\u001b[38;5;241m2\u001b[39m,\u001b[38;5;241m3\u001b[39m,\u001b[38;5;241m4\u001b[39m,[\u001b[38;5;241m8\u001b[39m,\u001b[38;5;241m7\u001b[39m,\u001b[38;5;241m6\u001b[39m], \u001b[38;5;28;01mTrue\u001b[39;00m, \u001b[38;5;124m'\u001b[39m\u001b[38;5;124mRavi\u001b[39m\u001b[38;5;124m'\u001b[39m}\n",
      "\u001b[0;31mTypeError\u001b[0m: unhashable type: 'list'"
     ]
    }
   ],
   "source": [
    "# cant have mutable items or data type\n",
    "s4 = {1,2,3,4,[8,7,6], True, 'Ravi'}"
   ]
  },
  {
   "cell_type": "code",
   "execution_count": 36,
   "id": "7e78aa98-dc1b-40ac-b56e-7a01a2c883f0",
   "metadata": {},
   "outputs": [
    {
     "name": "stdout",
     "output_type": "stream",
     "text": [
      "True\n"
     ]
    }
   ],
   "source": [
    "# unorder\n",
    "s1 = {1,2,3}\n",
    "s2 = {3,2,1}\n",
    "\n",
    "print(s1 == s2)"
   ]
  },
  {
   "cell_type": "markdown",
   "id": "ef469d2e-ff78-4136-b368-d6a1bf80c2c4",
   "metadata": {},
   "source": [
    "### Accessing items"
   ]
  },
  {
   "cell_type": "code",
   "execution_count": 37,
   "id": "3c3255f1-f95f-405c-8308-38f245e6ea87",
   "metadata": {},
   "outputs": [
    {
     "ename": "TypeError",
     "evalue": "'set' object is not subscriptable",
     "output_type": "error",
     "traceback": [
      "\u001b[0;31m---------------------------------------------------------------------------\u001b[0m",
      "\u001b[0;31mTypeError\u001b[0m                                 Traceback (most recent call last)",
      "Cell \u001b[0;32mIn[37], line 2\u001b[0m\n\u001b[1;32m      1\u001b[0m s1 \u001b[38;5;241m=\u001b[39m {\u001b[38;5;241m1\u001b[39m,\u001b[38;5;241m2\u001b[39m,\u001b[38;5;241m3\u001b[39m,\u001b[38;5;241m4\u001b[39m}\n\u001b[0;32m----> 2\u001b[0m s1[\u001b[38;5;241m0\u001b[39m]\n",
      "\u001b[0;31mTypeError\u001b[0m: 'set' object is not subscriptable"
     ]
    }
   ],
   "source": [
    "s1 = {1,2,3,4}\n",
    "s1[0] # cant apply indeing here"
   ]
  },
  {
   "cell_type": "markdown",
   "id": "7eb5512f-21d3-43a4-800a-982273bc6bec",
   "metadata": {},
   "source": [
    "### Edit"
   ]
  },
  {
   "cell_type": "code",
   "execution_count": 38,
   "id": "4214fb3d-4291-4ede-ade0-df5220bba94c",
   "metadata": {},
   "outputs": [
    {
     "ename": "TypeError",
     "evalue": "'set' object does not support item assignment",
     "output_type": "error",
     "traceback": [
      "\u001b[0;31m---------------------------------------------------------------------------\u001b[0m",
      "\u001b[0;31mTypeError\u001b[0m                                 Traceback (most recent call last)",
      "Cell \u001b[0;32mIn[38], line 1\u001b[0m\n\u001b[0;32m----> 1\u001b[0m s1[\u001b[38;5;241m0\u001b[39m] \u001b[38;5;241m=\u001b[39m \u001b[38;5;241m100\u001b[39m\n",
      "\u001b[0;31mTypeError\u001b[0m: 'set' object does not support item assignment"
     ]
    }
   ],
   "source": [
    "s1[0] = 100 # cant apply"
   ]
  },
  {
   "cell_type": "markdown",
   "id": "55e76a1d-876e-476b-80c4-dbc1eaea5adf",
   "metadata": {},
   "source": [
    "### Add"
   ]
  },
  {
   "cell_type": "code",
   "execution_count": 39,
   "id": "14def03a-30c6-4708-80e3-3cdaae276c71",
   "metadata": {},
   "outputs": [
    {
     "name": "stdout",
     "output_type": "stream",
     "text": [
      "{1, 2, 3, 4, 5, 6}\n",
      "{1, 2, 3, 4, 5, 6, 7, 8, 9}\n"
     ]
    }
   ],
   "source": [
    "# add function\n",
    "s1 = {1,2,3,4,5}\n",
    "s1.add(6) # add function add item at a time single\n",
    "print(s1)\n",
    "\n",
    "s1.update([7,8,9]) # add items but in the form of list or multiple can add\n",
    "print(s1)"
   ]
  },
  {
   "cell_type": "markdown",
   "id": "7beaee94-b009-43aa-b778-4e28ae5fa37b",
   "metadata": {},
   "source": [
    "### Delete"
   ]
  },
  {
   "cell_type": "code",
   "execution_count": 40,
   "id": "a9f9c9ce-3865-45d1-9fe7-960daa7d1254",
   "metadata": {},
   "outputs": [],
   "source": [
    "# del only for hole set\n",
    "del s1"
   ]
  },
  {
   "cell_type": "code",
   "execution_count": 44,
   "id": "4e89f41e-ce2d-4506-872d-278efdd5f1f5",
   "metadata": {},
   "outputs": [
    {
     "data": {
      "text/plain": [
       "{1, 2, 3, 4}"
      ]
     },
     "execution_count": 44,
     "metadata": {},
     "output_type": "execute_result"
    }
   ],
   "source": [
    "# discard - del by using value, if value cant present noo through error\n",
    "s1 = {1,2,3,4,5}\n",
    "s1.discard(5)\n",
    "s1"
   ]
  },
  {
   "cell_type": "code",
   "execution_count": 45,
   "id": "12ad8f07-70e7-429b-98d2-a9d7480b6551",
   "metadata": {},
   "outputs": [
    {
     "data": {
      "text/plain": [
       "{1, 3, 4}"
      ]
     },
     "execution_count": 45,
     "metadata": {},
     "output_type": "execute_result"
    }
   ],
   "source": [
    "# remove\n",
    "s1.remove(2)\n",
    "s1"
   ]
  },
  {
   "cell_type": "code",
   "execution_count": 46,
   "id": "6c3fbbdd-212c-4bfb-8695-81a9845d76c9",
   "metadata": {},
   "outputs": [
    {
     "ename": "KeyError",
     "evalue": "5",
     "output_type": "error",
     "traceback": [
      "\u001b[0;31m---------------------------------------------------------------------------\u001b[0m",
      "\u001b[0;31mKeyError\u001b[0m                                  Traceback (most recent call last)",
      "Cell \u001b[0;32mIn[46], line 1\u001b[0m\n\u001b[0;32m----> 1\u001b[0m s1\u001b[38;5;241m.\u001b[39mremove(\u001b[38;5;241m5\u001b[39m)\n",
      "\u001b[0;31mKeyError\u001b[0m: 5"
     ]
    }
   ],
   "source": [
    "s1.remove(5)"
   ]
  },
  {
   "cell_type": "code",
   "execution_count": 47,
   "id": "5dd09b05-8d57-46c2-8de0-264561f4fd4a",
   "metadata": {},
   "outputs": [
    {
     "name": "stdout",
     "output_type": "stream",
     "text": [
      "{1, 3, 4}\n",
      "{3, 4}\n"
     ]
    }
   ],
   "source": [
    "# pop - randomly delete anyone item\n",
    "print(s1)\n",
    "s1.pop()\n",
    "print(s1)"
   ]
  },
  {
   "cell_type": "code",
   "execution_count": 48,
   "id": "5b289baf-55ec-4312-aa63-8305a30d1451",
   "metadata": {},
   "outputs": [
    {
     "data": {
      "text/plain": [
       "set()"
      ]
     },
     "execution_count": 48,
     "metadata": {},
     "output_type": "execute_result"
    }
   ],
   "source": [
    "# clear\n",
    "s1.clear()\n",
    "s1"
   ]
  },
  {
   "cell_type": "markdown",
   "id": "0c72c3b5-e1b1-4918-9c03-0185441ef5a1",
   "metadata": {},
   "source": [
    "### Set Operations"
   ]
  },
  {
   "cell_type": "code",
   "execution_count": 50,
   "id": "9d003ffc-80db-4bb3-984d-a2cf56100914",
   "metadata": {},
   "outputs": [
    {
     "data": {
      "text/plain": [
       "{1, 2, 3, 4, 5, 6, 7, 8}"
      ]
     },
     "execution_count": 50,
     "metadata": {},
     "output_type": "execute_result"
    }
   ],
   "source": [
    "# union |\n",
    "s1 = {1,2,3,4,5}\n",
    "s2 = {4,5,6,7,8}\n",
    "\n",
    "s1 | s2"
   ]
  },
  {
   "cell_type": "code",
   "execution_count": 51,
   "id": "6b764123-5642-4997-a415-cdab449be69a",
   "metadata": {},
   "outputs": [
    {
     "data": {
      "text/plain": [
       "{4, 5}"
      ]
     },
     "execution_count": 51,
     "metadata": {},
     "output_type": "execute_result"
    }
   ],
   "source": [
    "# Intersections &\n",
    "s1 & s2"
   ]
  },
  {
   "cell_type": "code",
   "execution_count": 52,
   "id": "f6ef5ad9-d1a2-4a33-9af2-4f00de6daf35",
   "metadata": {},
   "outputs": [
    {
     "data": {
      "text/plain": [
       "{4, 5}"
      ]
     },
     "execution_count": 52,
     "metadata": {},
     "output_type": "execute_result"
    }
   ],
   "source": [
    "s2 & s1"
   ]
  },
  {
   "cell_type": "code",
   "execution_count": 53,
   "id": "79f16f26-ba2a-49d3-8376-989a02f02f24",
   "metadata": {},
   "outputs": [
    {
     "data": {
      "text/plain": [
       "{1, 2, 3}"
      ]
     },
     "execution_count": 53,
     "metadata": {},
     "output_type": "execute_result"
    }
   ],
   "source": [
    "# Difference - \n",
    "s1 - s2"
   ]
  },
  {
   "cell_type": "code",
   "execution_count": 54,
   "id": "eec05523-0a1e-402f-926a-4299ef0b24d9",
   "metadata": {},
   "outputs": [
    {
     "data": {
      "text/plain": [
       "{6, 7, 8}"
      ]
     },
     "execution_count": 54,
     "metadata": {},
     "output_type": "execute_result"
    }
   ],
   "source": [
    "s2 - s1"
   ]
  },
  {
   "cell_type": "code",
   "execution_count": 55,
   "id": "a0bf8f56-32d0-43ba-adf8-7654de7f7dee",
   "metadata": {},
   "outputs": [
    {
     "data": {
      "text/plain": [
       "{1, 2, 3, 6, 7, 8}"
      ]
     },
     "execution_count": 55,
     "metadata": {},
     "output_type": "execute_result"
    }
   ],
   "source": [
    "# symmetric difference\n",
    "s1 ^ s2"
   ]
  },
  {
   "cell_type": "code",
   "execution_count": 56,
   "id": "11ce806d-12e6-4945-8158-dd988466d020",
   "metadata": {},
   "outputs": [
    {
     "data": {
      "text/plain": [
       "{1, 2, 3, 6, 7, 8}"
      ]
     },
     "execution_count": 56,
     "metadata": {},
     "output_type": "execute_result"
    }
   ],
   "source": [
    "s2 ^ s1"
   ]
  },
  {
   "cell_type": "code",
   "execution_count": 57,
   "id": "7ff0ebf5-678d-43a7-a449-544969bfea9c",
   "metadata": {},
   "outputs": [
    {
     "data": {
      "text/plain": [
       "True"
      ]
     },
     "execution_count": 57,
     "metadata": {},
     "output_type": "execute_result"
    }
   ],
   "source": [
    "# membership\n",
    "1 in s1"
   ]
  },
  {
   "cell_type": "code",
   "execution_count": 58,
   "id": "dff82b9a-0d92-4f34-8a3f-ee9f65cb8245",
   "metadata": {},
   "outputs": [
    {
     "data": {
      "text/plain": [
       "True"
      ]
     },
     "execution_count": 58,
     "metadata": {},
     "output_type": "execute_result"
    }
   ],
   "source": [
    "10 not in s1"
   ]
  },
  {
   "cell_type": "code",
   "execution_count": 59,
   "id": "2c4f70b0-6fc1-47f6-b29d-eff71d1c2e42",
   "metadata": {},
   "outputs": [
    {
     "name": "stdout",
     "output_type": "stream",
     "text": [
      "1\n",
      "2\n",
      "3\n",
      "4\n",
      "5\n"
     ]
    }
   ],
   "source": [
    "# iteration - loops\n",
    "for i in s1:\n",
    "    print(i)"
   ]
  },
  {
   "cell_type": "markdown",
   "id": "bc5913d0-b315-43f9-a0aa-e8b654acfd9f",
   "metadata": {},
   "source": [
    "### Functions"
   ]
  },
  {
   "cell_type": "code",
   "execution_count": 60,
   "id": "4e7fc32a-c608-40bb-8c48-a70eef5b0432",
   "metadata": {},
   "outputs": [
    {
     "data": {
      "text/plain": [
       "5"
      ]
     },
     "execution_count": 60,
     "metadata": {},
     "output_type": "execute_result"
    }
   ],
   "source": [
    "len(s1)"
   ]
  },
  {
   "cell_type": "code",
   "execution_count": 61,
   "id": "09ca2cba-2776-4d0e-9639-b4c8da6a2409",
   "metadata": {},
   "outputs": [
    {
     "data": {
      "text/plain": [
       "15"
      ]
     },
     "execution_count": 61,
     "metadata": {},
     "output_type": "execute_result"
    }
   ],
   "source": [
    "sum(s1)"
   ]
  },
  {
   "cell_type": "code",
   "execution_count": 62,
   "id": "929c3617-1f5f-4999-b817-5d58286b4b33",
   "metadata": {},
   "outputs": [
    {
     "data": {
      "text/plain": [
       "1"
      ]
     },
     "execution_count": 62,
     "metadata": {},
     "output_type": "execute_result"
    }
   ],
   "source": [
    "min(s1)"
   ]
  },
  {
   "cell_type": "code",
   "execution_count": 63,
   "id": "93d9f8ef-8c69-408c-a0cf-418567c1ad2b",
   "metadata": {},
   "outputs": [
    {
     "data": {
      "text/plain": [
       "5"
      ]
     },
     "execution_count": 63,
     "metadata": {},
     "output_type": "execute_result"
    }
   ],
   "source": [
    "max(s1)"
   ]
  },
  {
   "cell_type": "code",
   "execution_count": 66,
   "id": "ae00571d-014d-408d-bf9d-11e028744cd5",
   "metadata": {},
   "outputs": [
    {
     "data": {
      "text/plain": [
       "[1, 2, 3, 4, 5, 6, 7, 8, 9, 10]"
      ]
     },
     "execution_count": 66,
     "metadata": {},
     "output_type": "execute_result"
    }
   ],
   "source": [
    "s = {2,3,1,4,7,8,10,9,5,6}\n",
    "sorted(s)"
   ]
  },
  {
   "cell_type": "code",
   "execution_count": 67,
   "id": "c2dc44f1-daf1-4ff5-a318-d26a0b25ef56",
   "metadata": {},
   "outputs": [
    {
     "data": {
      "text/plain": [
       "{1, 2, 3, 4, 5, 6, 7, 8}"
      ]
     },
     "execution_count": 67,
     "metadata": {},
     "output_type": "execute_result"
    }
   ],
   "source": [
    "# union\n",
    "s1.union(s2)"
   ]
  },
  {
   "cell_type": "code",
   "execution_count": 68,
   "id": "39454216-2f66-45b3-9552-f64904231216",
   "metadata": {},
   "outputs": [
    {
     "name": "stdout",
     "output_type": "stream",
     "text": [
      "{1, 2, 3, 4, 5, 6, 7, 8}\n",
      "{4, 5, 6, 7, 8}\n"
     ]
    }
   ],
   "source": [
    "# union update - mean add value set1 and set2 then set1 \n",
    "s1.update(s2)\n",
    "\n",
    "print(s1)\n",
    "print(s2)\n"
   ]
  },
  {
   "cell_type": "code",
   "execution_count": 69,
   "id": "17ac6999-9529-4af2-8b1c-74b03dbdfdf1",
   "metadata": {},
   "outputs": [
    {
     "data": {
      "text/plain": [
       "{4, 5, 6, 7, 8}"
      ]
     },
     "execution_count": 69,
     "metadata": {},
     "output_type": "execute_result"
    }
   ],
   "source": [
    "# intersection\n",
    "s1.intersection(s2)\n"
   ]
  },
  {
   "cell_type": "code",
   "execution_count": 72,
   "id": "196f3377-74a3-45d4-b509-889ca9664f89",
   "metadata": {},
   "outputs": [
    {
     "data": {
      "text/plain": [
       "{4, 5, 6, 7, 8}"
      ]
     },
     "execution_count": 72,
     "metadata": {},
     "output_type": "execute_result"
    }
   ],
   "source": [
    "s1.intersection_update(s2)\n",
    "s1"
   ]
  },
  {
   "cell_type": "code",
   "execution_count": 74,
   "id": "1775802a-4aef-48e4-bc2b-1e8f3582c974",
   "metadata": {},
   "outputs": [
    {
     "data": {
      "text/plain": [
       "set()"
      ]
     },
     "execution_count": 74,
     "metadata": {},
     "output_type": "execute_result"
    }
   ],
   "source": [
    "s1.difference_update(s2)\n",
    "s1"
   ]
  },
  {
   "cell_type": "code",
   "execution_count": 76,
   "id": "60edcb66-eb6c-4fe0-8689-b6c2cb4d8f99",
   "metadata": {},
   "outputs": [
    {
     "data": {
      "text/plain": [
       "False"
      ]
     },
     "execution_count": 76,
     "metadata": {},
     "output_type": "execute_result"
    }
   ],
   "source": [
    "# isdisjoint / issubset / issuperset\n",
    "s1 = {1,2,3,4,5}\n",
    "s2 = {3,7,4,9,10}\n",
    "\n",
    "s1.isdisjoint(s2) # have same of different"
   ]
  },
  {
   "cell_type": "code",
   "execution_count": 77,
   "id": "222f7e56-b2f9-401a-a076-9a2b4fb684d4",
   "metadata": {},
   "outputs": [
    {
     "data": {
      "text/plain": [
       "False"
      ]
     },
     "execution_count": 77,
     "metadata": {},
     "output_type": "execute_result"
    }
   ],
   "source": [
    "s1.issubset(s2)"
   ]
  },
  {
   "cell_type": "code",
   "execution_count": 78,
   "id": "4976d127-90c5-4e33-bc2f-2bac7daf4213",
   "metadata": {},
   "outputs": [
    {
     "data": {
      "text/plain": [
       "False"
      ]
     },
     "execution_count": 78,
     "metadata": {},
     "output_type": "execute_result"
    }
   ],
   "source": [
    "s1.issuperset(s2)"
   ]
  },
  {
   "cell_type": "code",
   "execution_count": 79,
   "id": "48218687-0447-4a3a-b016-ed926cf7520e",
   "metadata": {},
   "outputs": [
    {
     "name": "stdout",
     "output_type": "stream",
     "text": [
      "4570794912\n",
      "4570796928\n"
     ]
    }
   ],
   "source": [
    "# copy\n",
    "s1  = {1,2,3,4}\n",
    "s2 = s1.copy()\n",
    "\n",
    "print(id(s1))\n",
    "print(id(s2))"
   ]
  },
  {
   "cell_type": "markdown",
   "id": "56b43f8f-2214-416b-a0e4-43aec67703e0",
   "metadata": {},
   "source": [
    "### Set Comprehension"
   ]
  },
  {
   "cell_type": "code",
   "execution_count": 80,
   "id": "2c4f3925-f9b7-4bda-b4be-d06632187b26",
   "metadata": {},
   "outputs": [
    {
     "data": {
      "text/plain": [
       "{6, 7, 8, 9}"
      ]
     },
     "execution_count": 80,
     "metadata": {},
     "output_type": "execute_result"
    }
   ],
   "source": [
    "{i for i in range(1,10) if i > 5}"
   ]
  },
  {
   "cell_type": "code",
   "execution_count": 81,
   "id": "173bf40c-d5ed-491b-a544-ee4a6a22b7a2",
   "metadata": {},
   "outputs": [
    {
     "data": {
      "text/plain": [
       "{12, 14, 16, 18}"
      ]
     },
     "execution_count": 81,
     "metadata": {},
     "output_type": "execute_result"
    }
   ],
   "source": [
    "{i*2 for i in range(1,10) if i > 5}"
   ]
  },
  {
   "cell_type": "markdown",
   "id": "c5ad7d9b-eba4-4d4e-9550-e9f735c10b98",
   "metadata": {},
   "source": [
    "## Dictionary"
   ]
  },
  {
   "cell_type": "markdown",
   "id": "1df597cc-9346-4be6-9151-83dd6fbf317d",
   "metadata": {},
   "source": [
    "### Creating"
   ]
  },
  {
   "cell_type": "code",
   "execution_count": 83,
   "id": "2db0ea06-b87b-4c04-a80e-8b435f7c94a4",
   "metadata": {},
   "outputs": [
    {
     "name": "stdout",
     "output_type": "stream",
     "text": [
      "{'name': 'Ravi Pandey', 'gender': 'male'}\n",
      "{(1, 2, 3): 1, 'two': 'three'}\n",
      "{'name': 'Ravi', 'college': 'Sandip University', 'sem': 5, 'subjects': {'python': 80, 'toc': 70, 'os': 75, 'iwp': 90, 'cne': 80}}\n",
      "{'name': 'ravi', 2: 2, 3: 4}\n"
     ]
    }
   ],
   "source": [
    "# empty\n",
    "d = {}\n",
    "\n",
    "# 1d \n",
    "d1 = {'name': 'Ravi Pandey', 'gender': 'male'}\n",
    "print(d1)\n",
    "\n",
    "# with mix keys\n",
    "d2 = {(1,2,3): 1,'two':'three'}\n",
    "print(d2)\n",
    "\n",
    "# 2d\n",
    "d3 = {\n",
    "    'name': 'Ravi',\n",
    "    'college': 'Sandip University',\n",
    "    'sem': 5,\n",
    "    'subjects': {\n",
    "        'python': 80,\n",
    "        'toc': 70,\n",
    "        'os': 75,\n",
    "        'iwp': 90,\n",
    "        'cne': 80\n",
    "    }\n",
    "}\n",
    "\n",
    "print(d3)\n",
    "\n",
    "# using dict()\n",
    "d4 = dict([(1,1), (2,2), (3,4)])\n",
    "d4 = dict([('name','ravi'), (2,2), (3,4)])\n",
    "print(d4)\n",
    "\n"
   ]
  },
  {
   "cell_type": "code",
   "execution_count": 84,
   "id": "433a2799-dd6c-4bdc-8afa-78b9bc225abe",
   "metadata": {},
   "outputs": [
    {
     "data": {
      "text/plain": [
       "{'name': 'ravi', (1, 2, 3): 2}"
      ]
     },
     "execution_count": 84,
     "metadata": {},
     "output_type": "execute_result"
    }
   ],
   "source": [
    "# mutable items as keys\n",
    "d6 = {'name': 'ravi', (1,2,3):2}\n",
    "d6"
   ]
  },
  {
   "cell_type": "markdown",
   "id": "03ff35d7-25ea-4f1c-bdc3-1187ab74f2a7",
   "metadata": {},
   "source": [
    "### Accessing "
   ]
  },
  {
   "cell_type": "code",
   "execution_count": 90,
   "id": "6987fc24-3f8a-4d7c-bf24-6982e0127ce9",
   "metadata": {},
   "outputs": [
    {
     "data": {
      "text/plain": [
       "'ravi'"
      ]
     },
     "execution_count": 90,
     "metadata": {},
     "output_type": "execute_result"
    }
   ],
   "source": [
    "# pass the key to get value of that\n",
    "d6['name']"
   ]
  },
  {
   "cell_type": "code",
   "execution_count": 91,
   "id": "4a8ea76b-c11e-40f3-93fe-60353f62028d",
   "metadata": {},
   "outputs": [
    {
     "data": {
      "text/plain": [
       "'ravi'"
      ]
     },
     "execution_count": 91,
     "metadata": {},
     "output_type": "execute_result"
    }
   ],
   "source": [
    "# or get()\n",
    "d6.get('name')"
   ]
  },
  {
   "cell_type": "code",
   "execution_count": 99,
   "id": "370f7523-6be6-4213-aade-84cdca918dd6",
   "metadata": {},
   "outputs": [
    {
     "ename": "TypeError",
     "evalue": "'set' object is not subscriptable",
     "output_type": "error",
     "traceback": [
      "\u001b[0;31m---------------------------------------------------------------------------\u001b[0m",
      "\u001b[0;31mTypeError\u001b[0m                                 Traceback (most recent call last)",
      "Cell \u001b[0;32mIn[99], line 2\u001b[0m\n\u001b[1;32m      1\u001b[0m \u001b[38;5;66;03m# 2d\u001b[39;00m\n\u001b[0;32m----> 2\u001b[0m s3[\u001b[38;5;124m'\u001b[39m\u001b[38;5;124msubjects\u001b[39m\u001b[38;5;124m'\u001b[39m][\u001b[38;5;124m'\u001b[39m\u001b[38;5;124mtoc\u001b[39m\u001b[38;5;124m'\u001b[39m]\n",
      "\u001b[0;31mTypeError\u001b[0m: 'set' object is not subscriptable"
     ]
    }
   ],
   "source": [
    "# 2d\n",
    "s3['subjects']['toc']"
   ]
  },
  {
   "cell_type": "markdown",
   "id": "fdb08e93-919f-4cf4-ae73-a41d5fe02573",
   "metadata": {},
   "source": [
    "### Add"
   ]
  },
  {
   "cell_type": "code",
   "execution_count": 92,
   "id": "38d5e209-9a34-4b9b-ac68-9afe45fc3209",
   "metadata": {},
   "outputs": [
    {
     "data": {
      "text/plain": [
       "{'name': 'Ravi',\n",
       " 'college': 'Sandip University',\n",
       " 'sem': 5,\n",
       " 'subjects': {'python': 80, 'toc': 70, 'os': 75, 'iwp': 90, 'cne': 80},\n",
       " 'gender': 'male'}"
      ]
     },
     "execution_count": 92,
     "metadata": {},
     "output_type": "execute_result"
    }
   ],
   "source": [
    "d3['gender'] = 'male'\n",
    "d3"
   ]
  },
  {
   "cell_type": "code",
   "execution_count": 94,
   "id": "ceadd4f9-ee07-43dd-ad5c-7d47dbdfdd7b",
   "metadata": {},
   "outputs": [
    {
     "data": {
      "text/plain": [
       "{'name': 'Ravi',\n",
       " 'college': 'Sandip University',\n",
       " 'sem': 5,\n",
       " 'subjects': {'python': 80, 'toc': 70, 'os': 75, 'iwp': 90, 'cne': 80},\n",
       " 'gender': 'male',\n",
       " 'cast': 'Open'}"
      ]
     },
     "execution_count": 94,
     "metadata": {},
     "output_type": "execute_result"
    }
   ],
   "source": [
    "d3['cast'] = 'Open'\n",
    "d3"
   ]
  },
  {
   "cell_type": "code",
   "execution_count": 100,
   "id": "6d48d1d7-144f-4d31-a678-8379f5248233",
   "metadata": {},
   "outputs": [
    {
     "ename": "KeyError",
     "evalue": "'subjects'",
     "output_type": "error",
     "traceback": [
      "\u001b[0;31m---------------------------------------------------------------------------\u001b[0m",
      "\u001b[0;31mKeyError\u001b[0m                                  Traceback (most recent call last)",
      "Cell \u001b[0;32mIn[100], line 1\u001b[0m\n\u001b[0;32m----> 1\u001b[0m d3[\u001b[38;5;124m'\u001b[39m\u001b[38;5;124msubjects\u001b[39m\u001b[38;5;124m'\u001b[39m][\u001b[38;5;124m'\u001b[39m\u001b[38;5;124mtoc\u001b[39m\u001b[38;5;124m'\u001b[39m] \u001b[38;5;241m=\u001b[39m \u001b[38;5;241m75\u001b[39m\n",
      "\u001b[0;31mKeyError\u001b[0m: 'subjects'"
     ]
    }
   ],
   "source": [
    "d3['subjects']['toc'] = 75"
   ]
  },
  {
   "cell_type": "markdown",
   "id": "708f7385-072d-40b8-bf8d-350241104c2a",
   "metadata": {},
   "source": [
    "### Remove"
   ]
  },
  {
   "cell_type": "code",
   "execution_count": 95,
   "id": "8bd52ce8-09cc-4726-8a7f-d79b26b18278",
   "metadata": {},
   "outputs": [
    {
     "data": {
      "text/plain": [
       "{'name': 'Ravi',\n",
       " 'college': 'Sandip University',\n",
       " 'sem': 5,\n",
       " 'subjects': {'python': 80, 'toc': 70, 'os': 75, 'iwp': 90, 'cne': 80},\n",
       " 'gender': 'male'}"
      ]
     },
     "execution_count": 95,
     "metadata": {},
     "output_type": "execute_result"
    }
   ],
   "source": [
    "# pop - provide the key to remove perticular vlaue from dictionary\n",
    "d3.pop('cast')\n",
    "d3"
   ]
  },
  {
   "cell_type": "code",
   "execution_count": 96,
   "id": "f06b5c68-f2cb-4c43-a922-04da10bffbd1",
   "metadata": {},
   "outputs": [
    {
     "data": {
      "text/plain": [
       "{'name': 'Ravi',\n",
       " 'college': 'Sandip University',\n",
       " 'sem': 5,\n",
       " 'subjects': {'python': 80, 'toc': 70, 'os': 75, 'iwp': 90, 'cne': 80}}"
      ]
     },
     "execution_count": 96,
     "metadata": {},
     "output_type": "execute_result"
    }
   ],
   "source": [
    "# popitem - last key value delete\n",
    "d3.popitem()\n",
    "d3"
   ]
  },
  {
   "cell_type": "code",
   "execution_count": 97,
   "id": "28f3781c-9720-4874-9588-ce7d9b8b844e",
   "metadata": {},
   "outputs": [
    {
     "data": {
      "text/plain": [
       "{'name': 'Ravi',\n",
       " 'sem': 5,\n",
       " 'subjects': {'python': 80, 'toc': 70, 'os': 75, 'iwp': 90, 'cne': 80}}"
      ]
     },
     "execution_count": 97,
     "metadata": {},
     "output_type": "execute_result"
    }
   ],
   "source": [
    "# del\n",
    "del d3['college']\n",
    "d3"
   ]
  },
  {
   "cell_type": "code",
   "execution_count": 98,
   "id": "60c57e13-94be-4898-a6c7-0dc8fac98702",
   "metadata": {},
   "outputs": [
    {
     "data": {
      "text/plain": [
       "{}"
      ]
     },
     "execution_count": 98,
     "metadata": {},
     "output_type": "execute_result"
    }
   ],
   "source": [
    "# clear - to clear all key value from the dictunary\n",
    "d3.clear()\n",
    "d3"
   ]
  },
  {
   "cell_type": "markdown",
   "id": "bd136e69-f068-4d49-83b9-c56f7b5a65e5",
   "metadata": {},
   "source": [
    "### Edit key: values"
   ]
  },
  {
   "cell_type": "code",
   "execution_count": 101,
   "id": "35e8c9e2-e9be-48d2-b371-9e6f50d724ad",
   "metadata": {},
   "outputs": [
    {
     "data": {
      "text/plain": [
       "{'name': 'Ravi',\n",
       " 'college': 'Sandip University',\n",
       " 'sem': 5,\n",
       " 'subjects': {'python': 80, 'toc': 70, 'os': 75, 'iwp': 90, 'cne': 80}}"
      ]
     },
     "execution_count": 101,
     "metadata": {},
     "output_type": "execute_result"
    }
   ],
   "source": [
    "d3 = {\n",
    "    'name': 'Ravi',\n",
    "    'college': 'Sandip University',\n",
    "    'sem': 5,\n",
    "    'subjects': {\n",
    "        'python': 80,\n",
    "        'toc': 70,\n",
    "        'os': 75,\n",
    "        'iwp': 90,\n",
    "        'cne': 80\n",
    "    }\n",
    "}\n",
    "d3"
   ]
  },
  {
   "cell_type": "code",
   "execution_count": 102,
   "id": "635b0707-1d46-45c2-a55b-edf1e284e423",
   "metadata": {},
   "outputs": [
    {
     "data": {
      "text/plain": [
       "{'name': 'Ravi Pandey',\n",
       " 'college': 'Sandip University',\n",
       " 'sem': 5,\n",
       " 'subjects': {'python': 80, 'toc': 70, 'os': 75, 'iwp': 90, 'cne': 80}}"
      ]
     },
     "execution_count": 102,
     "metadata": {},
     "output_type": "execute_result"
    }
   ],
   "source": [
    "d3['name'] = 'Ravi Pandey'\n",
    "d3"
   ]
  },
  {
   "cell_type": "code",
   "execution_count": null,
   "id": "de75d8e4-ea93-4e05-a764-f041a374fc11",
   "metadata": {},
   "outputs": [],
   "source": [
    "d3['subjects']['python'] = 90\n",
    "d3"
   ]
  },
  {
   "cell_type": "code",
   "execution_count": 104,
   "id": "82079ca1-2918-4486-8882-f21e651e0f2e",
   "metadata": {},
   "outputs": [
    {
     "name": "stdout",
     "output_type": "stream",
     "text": [
      "{'college': 'Sandip University', 'sem': 5, 'subjects': {'python': 90, 'toc': 70, 'os': 75, 'iwp': 90, 'cne': 80}}\n"
     ]
    },
    {
     "data": {
      "text/plain": [
       "{'college': 'Sandip University',\n",
       " 'sem': 5,\n",
       " 'subjects': {'python': 90, 'toc': 70, 'os': 75, 'iwp': 90, 'cne': 80},\n",
       " 'full name': 'Ravi Pandey'}"
      ]
     },
     "execution_count": 104,
     "metadata": {},
     "output_type": "execute_result"
    }
   ],
   "source": [
    "# rename key\n",
    "d3.pop('name')\n",
    "print(d3)\n",
    "\n",
    "d3['full name'] = 'Ravi Pandey'\n",
    "d3"
   ]
  },
  {
   "cell_type": "code",
   "execution_count": 105,
   "id": "4930af79-6c16-44aa-bf7c-4d74df9b39cb",
   "metadata": {},
   "outputs": [
    {
     "data": {
      "text/plain": [
       "'Ravi Pandey'"
      ]
     },
     "execution_count": 105,
     "metadata": {},
     "output_type": "execute_result"
    }
   ],
   "source": [
    "d3['full name']"
   ]
  },
  {
   "cell_type": "markdown",
   "id": "e7198d64-505f-42b4-9f78-c7db940a0b8c",
   "metadata": {},
   "source": [
    "### Operations"
   ]
  },
  {
   "cell_type": "code",
   "execution_count": 110,
   "id": "1f8802cd-043d-4e7a-a088-2ad8d7f6ba0a",
   "metadata": {},
   "outputs": [
    {
     "data": {
      "text/plain": [
       "True"
      ]
     },
     "execution_count": 110,
     "metadata": {},
     "output_type": "execute_result"
    }
   ],
   "source": [
    "# membership - work on keys\n",
    "\n",
    "'full name' in d3"
   ]
  },
  {
   "cell_type": "code",
   "execution_count": 111,
   "id": "84e86ed2-befc-4310-8729-b8ff0964080e",
   "metadata": {},
   "outputs": [
    {
     "name": "stdout",
     "output_type": "stream",
     "text": [
      "college\n",
      "sem\n",
      "subjects\n",
      "full name\n"
     ]
    }
   ],
   "source": [
    "# iterations\n",
    "\n",
    "for i in d3:\n",
    "    print(i)"
   ]
  },
  {
   "cell_type": "code",
   "execution_count": 112,
   "id": "4adbf732-10af-41cd-8d07-8a969a6fc3b3",
   "metadata": {},
   "outputs": [
    {
     "name": "stdout",
     "output_type": "stream",
     "text": [
      "Sandip University\n",
      "5\n",
      "{'python': 90, 'toc': 70, 'os': 75, 'iwp': 90, 'cne': 80}\n",
      "Ravi Pandey\n"
     ]
    }
   ],
   "source": [
    "for i in d3:\n",
    "    print(d3[i])"
   ]
  },
  {
   "cell_type": "code",
   "execution_count": 113,
   "id": "9a5b1196-3731-41e8-bda0-6b74287ac31b",
   "metadata": {},
   "outputs": [
    {
     "name": "stdout",
     "output_type": "stream",
     "text": [
      "college Sandip University\n",
      "sem 5\n",
      "subjects {'python': 90, 'toc': 70, 'os': 75, 'iwp': 90, 'cne': 80}\n",
      "full name Ravi Pandey\n"
     ]
    }
   ],
   "source": [
    "for i in d3:\n",
    "    print(i, d3[i])"
   ]
  },
  {
   "cell_type": "markdown",
   "id": "d9baefc5-5962-49f7-a9de-0f9162f5c2b1",
   "metadata": {},
   "source": [
    "### Functions"
   ]
  },
  {
   "cell_type": "code",
   "execution_count": 114,
   "id": "0affeb1f-f986-4d57-b311-d5366c92f663",
   "metadata": {},
   "outputs": [
    {
     "data": {
      "text/plain": [
       "4"
      ]
     },
     "execution_count": 114,
     "metadata": {},
     "output_type": "execute_result"
    }
   ],
   "source": [
    "# len \n",
    "len(d3)"
   ]
  },
  {
   "cell_type": "code",
   "execution_count": 115,
   "id": "0a5c7902-c548-492b-93fa-c561cccdf4d1",
   "metadata": {},
   "outputs": [
    {
     "data": {
      "text/plain": [
       "['college', 'full name', 'sem', 'subjects']"
      ]
     },
     "execution_count": 115,
     "metadata": {},
     "output_type": "execute_result"
    }
   ],
   "source": [
    "# sorted \n",
    "sorted(d3)"
   ]
  },
  {
   "cell_type": "code",
   "execution_count": 117,
   "id": "79594b64-fc12-4222-85cd-c9524b6153b8",
   "metadata": {},
   "outputs": [
    {
     "data": {
      "text/plain": [
       "dict_items([('college', 'Sandip University'), ('sem', 5), ('subjects', {'python': 90, 'toc': 70, 'os': 75, 'iwp': 90, 'cne': 80}), ('full name', 'Ravi Pandey')])"
      ]
     },
     "execution_count": 117,
     "metadata": {},
     "output_type": "execute_result"
    }
   ],
   "source": [
    "# items - shows in tuple format\n",
    "d3.items()"
   ]
  },
  {
   "cell_type": "code",
   "execution_count": 118,
   "id": "fa0936c4-96d9-417b-8bde-56d8be6544f2",
   "metadata": {},
   "outputs": [
    {
     "data": {
      "text/plain": [
       "dict_keys(['college', 'sem', 'subjects', 'full name'])"
      ]
     },
     "execution_count": 118,
     "metadata": {},
     "output_type": "execute_result"
    }
   ],
   "source": [
    "# keys\n",
    "d3.keys()"
   ]
  },
  {
   "cell_type": "code",
   "execution_count": 119,
   "id": "e30f0ed6-0e76-47c8-9677-46926740202f",
   "metadata": {},
   "outputs": [
    {
     "data": {
      "text/plain": [
       "dict_values(['Sandip University', 5, {'python': 90, 'toc': 70, 'os': 75, 'iwp': 90, 'cne': 80}, 'Ravi Pandey'])"
      ]
     },
     "execution_count": 119,
     "metadata": {},
     "output_type": "execute_result"
    }
   ],
   "source": [
    "# values\n",
    "d3.values()"
   ]
  },
  {
   "cell_type": "code",
   "execution_count": 120,
   "id": "d3007464-c200-4907-8c1a-65fc62827214",
   "metadata": {},
   "outputs": [
    {
     "data": {
      "text/plain": [
       "{1: 2, 3: 4, 5: 6, 4: 2, 2: 8}"
      ]
     },
     "execution_count": 120,
     "metadata": {},
     "output_type": "execute_result"
    }
   ],
   "source": [
    "# update\n",
    "d1 = {1:2, 3:4, 5:6}\n",
    "d2 = {4:2, 2:8}\n",
    "\n",
    "d1.update(d2)\n",
    "d1"
   ]
  },
  {
   "cell_type": "code",
   "execution_count": 121,
   "id": "e8a9003e-f5d9-4a90-b25a-17c333286e18",
   "metadata": {},
   "outputs": [],
   "source": [
    "# comprehension\n",
    "# { key: value for vars in iterables }"
   ]
  },
  {
   "cell_type": "code",
   "execution_count": 122,
   "id": "b92a29b8-e280-42e5-b768-b7cb30a4691f",
   "metadata": {},
   "outputs": [
    {
     "data": {
      "text/plain": [
       "{1: 1, 2: 4, 3: 9, 4: 16, 5: 25, 6: 36, 7: 49, 8: 64, 9: 81, 10: 100}"
      ]
     },
     "execution_count": 122,
     "metadata": {},
     "output_type": "execute_result"
    }
   ],
   "source": [
    "{i:i**2 for i in range(1, 11)}"
   ]
  },
  {
   "cell_type": "code",
   "execution_count": 125,
   "id": "5181f1b8-4783-4e45-b967-fe7f82f5b84a",
   "metadata": {},
   "outputs": [
    {
     "data": {
      "text/plain": [
       "{'nashik': 800.0, 'pune': 1100.0, 'nagpur': 900.0, 'mubai': 300.0}"
      ]
     },
     "execution_count": 125,
     "metadata": {},
     "output_type": "execute_result"
    }
   ],
   "source": [
    "travel = {'nashik': 1600, 'pune': 2200, 'nagpur': 1800, 'mubai':600}\n",
    "{place:distance*0.50 for (place, distance) in travel.items()}"
   ]
  },
  {
   "cell_type": "code",
   "execution_count": 129,
   "id": "eb0f2581-3899-414c-b8c3-853e2afe861a",
   "metadata": {},
   "outputs": [
    {
     "data": {
      "text/plain": [
       "{'Sunday': 16,\n",
       " 'Monday': 17,\n",
       " 'Tuesday': 18,\n",
       " 'Wednesday': 19,\n",
       " 'Thursday': 20,\n",
       " 'Friday': 21,\n",
       " 'Saturday': 22}"
      ]
     },
     "execution_count": 129,
     "metadata": {},
     "output_type": "execute_result"
    }
   ],
   "source": [
    "# zip\n",
    "days = ['Sunday', 'Monday', 'Tuesday', 'Wednesday', 'Thursday', 'Friday', 'Saturday']\n",
    "date = [16, 17, 18, 19, 20, 21, 22]\n",
    "\n",
    "dict(zip(days,date))"
   ]
  },
  {
   "cell_type": "code",
   "execution_count": 130,
   "id": "16b042f5-49fd-4fc7-8475-77820d241e63",
   "metadata": {},
   "outputs": [
    {
     "data": {
      "text/plain": [
       "{'Sunday': 16,\n",
       " 'Monday': 17,\n",
       " 'Tuesday': 18,\n",
       " 'Wednesday': 19,\n",
       " 'Thursday': 20,\n",
       " 'Friday': 21,\n",
       " 'Saturday': 22}"
      ]
     },
     "execution_count": 130,
     "metadata": {},
     "output_type": "execute_result"
    }
   ],
   "source": [
    "{i:j for (i,j) in zip(days, date)}"
   ]
  },
  {
   "cell_type": "code",
   "execution_count": null,
   "id": "a7c3cf12-6a3c-4deb-8771-3998042ff37b",
   "metadata": {},
   "outputs": [],
   "source": []
  }
 ],
 "metadata": {
  "kernelspec": {
   "display_name": "Python 3 (ipykernel)",
   "language": "python",
   "name": "python3"
  },
  "language_info": {
   "codemirror_mode": {
    "name": "ipython",
    "version": 3
   },
   "file_extension": ".py",
   "mimetype": "text/x-python",
   "name": "python",
   "nbconvert_exporter": "python",
   "pygments_lexer": "ipython3",
   "version": "3.11.7"
  },
  "widgets": {
   "application/vnd.jupyter.widget-state+json": {
    "state": {},
    "version_major": 2,
    "version_minor": 0
   }
  }
 },
 "nbformat": 4,
 "nbformat_minor": 5
}
