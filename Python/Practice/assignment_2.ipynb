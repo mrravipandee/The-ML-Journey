{
 "cells": [
  {
   "cell_type": "code",
   "execution_count": 6,
   "id": "076851a4-c65a-4ae0-b33a-defa3b8ad2c2",
   "metadata": {},
   "outputs": [
    {
     "name": "stdin",
     "output_type": "stream",
     "text": [
      "Enter the 3 digit:  123\n"
     ]
    },
    {
     "name": "stdout",
     "output_type": "stream",
     "text": [
      "6\n"
     ]
    }
   ],
   "source": [
    "# wap to sum of 3 digit number eg. 123 => 1+2+3 = 6\n",
    "num = int(input('Enter the 3 digit: '))\n",
    "\n",
    "a = num % 10\n",
    "num = num // 10\n",
    "\n",
    "b = num % 10\n",
    "num = num // 10\n",
    "\n",
    "c = num % 10\n",
    "\n",
    "sum = (a + b + c)\n",
    "print(sum)"
   ]
  },
  {
   "cell_type": "code",
   "execution_count": 7,
   "id": "6a27db45-f9b3-42c9-9b60-90810496ebf2",
   "metadata": {},
   "outputs": [
    {
     "name": "stdin",
     "output_type": "stream",
     "text": [
      "Enter the email:  imravipa\n",
      "Password please:  Ravi@123\n"
     ]
    },
    {
     "name": "stdout",
     "output_type": "stream",
     "text": [
      "Invalid credancial...\n"
     ]
    }
   ],
   "source": [
    "# login system\n",
    "email = input('Enter the email: ')\n",
    "password = input('Password please: ')\n",
    "\n",
    "# correct email and password\n",
    "correct_email = 'imravipanday@gmail.com'\n",
    "correct_password = 'Ravi@123'\n",
    "\n",
    "# logic of program\n",
    "if email == correct_email and password == correct_password:\n",
    "    print('Welcome')\n",
    "elif email == correct_email and password != correct_password:\n",
    "    print('Password incorrect')\n",
    "    password = input('Enter again password: ')\n",
    "    if password == correct_password:\n",
    "        print('Welcome')\n",
    "    else:\n",
    "        print('Try after some time...')\n",
    "else:\n",
    "    print('Invalid credancial...')"
   ]
  },
  {
   "cell_type": "code",
   "execution_count": null,
   "id": "8a0e0a18-da8a-4156-9e92-64a32c06963f",
   "metadata": {},
   "outputs": [],
   "source": [
    "# game guess correct number\n",
    "\n",
    "# librabry for random number\n",
    "import random\n",
    "\n",
    "jack_num = random.randint(1, 100)\n",
    "\n",
    "user = int(input('Guess the number: '))\n",
    "\n",
    "count = 1\n",
    "\n",
    "while jack_num != user:\n",
    "    if jack_num < user:\n",
    "        print('Guess lower')\n",
    "    else:\n",
    "        print('Guess higher')\n",
    "\n",
    "    user = int(input('Guess the number: '))\n",
    "    count += 1\n",
    "\n",
    "else:\n",
    "    print('correct guess')\n",
    "    print('attempts', count)"
   ]
  }
 ],
 "metadata": {
  "kernelspec": {
   "display_name": "Python 3 (ipykernel)",
   "language": "python",
   "name": "python3"
  },
  "language_info": {
   "codemirror_mode": {
    "name": "ipython",
    "version": 3
   },
   "file_extension": ".py",
   "mimetype": "text/x-python",
   "name": "python",
   "nbconvert_exporter": "python",
   "pygments_lexer": "ipython3",
   "version": "3.11.7"
  },
  "widgets": {
   "application/vnd.jupyter.widget-state+json": {
    "state": {},
    "version_major": 2,
    "version_minor": 0
   }
  }
 },
 "nbformat": 4,
 "nbformat_minor": 5
}
