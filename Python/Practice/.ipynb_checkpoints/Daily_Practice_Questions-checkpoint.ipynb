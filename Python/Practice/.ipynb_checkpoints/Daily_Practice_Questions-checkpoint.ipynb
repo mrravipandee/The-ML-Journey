{
 "cells": [
  {
   "cell_type": "code",
   "execution_count": 1,
   "id": "db7d58f1-5fab-4d47-aa8e-aafd330a6916",
   "metadata": {},
   "outputs": [
    {
     "name": "stdout",
     "output_type": "stream",
     "text": [
      "Number is Positive\n"
     ]
    }
   ],
   "source": [
    "# Write a Python program that checks if a given number is positive, negative, or zero.\n",
    "num = 10\n",
    "\n",
    "if num > 0:\n",
    "    print('Number is Positive')\n",
    "else:\n",
    "    print('Number is Negative')"
   ]
  },
  {
   "cell_type": "code",
   "execution_count": 12,
   "id": "8b470270-1575-448a-89c6-64c27039ec18",
   "metadata": {},
   "outputs": [
    {
     "name": "stdin",
     "output_type": "stream",
     "text": [
      "Enter the 3 numbers:  12 33 1\n"
     ]
    },
    {
     "name": "stdout",
     "output_type": "stream",
     "text": [
      "Larger number is 33\n"
     ]
    }
   ],
   "source": [
    "# Write a program to find the largest of three numbers entered by the user.\n",
    "num1, num2, num3 = map(int, input('Enter the 3 numbers: ').split())\n",
    "\n",
    "if num1 >= num2 and num1 >= num3:\n",
    "    print('Larger number is {}'.format(num1))\n",
    "elif num2 >= num3:\n",
    "    print('Larger number is {}'.format(num2))\n",
    "else:\n",
    "    print('Larger number is {}'.format(num3))"
   ]
  },
  {
   "cell_type": "code",
   "execution_count": 15,
   "id": "02bc5b57-3bec-452d-90d9-a8a751aaf3b9",
   "metadata": {},
   "outputs": [
    {
     "name": "stdin",
     "output_type": "stream",
     "text": [
      "Enter you total amount:  1210\n"
     ]
    },
    {
     "name": "stdout",
     "output_type": "stream",
     "text": [
      "You can pay 1089.0 only\n"
     ]
    }
   ],
   "source": [
    "# A shop gives a discount of 10% if the total purchase amount exceeds 1000. Write a program that takes the purchase amount as input and prints the final amount after discount (if applicable).\n",
    "\n",
    "amount = int(input('Enter you total amount: '))\n",
    "pay = 0\n",
    "if amount > 1000:\n",
    "    dis_amount = amount * (10 / 100)\n",
    "    pay =  amount - dis_amount\n",
    "else:\n",
    "    pay = amount\n",
    "\n",
    "print('You can pay {} only'.format(pay))"
   ]
  },
  {
   "cell_type": "code",
   "execution_count": 19,
   "id": "a440d26b-9a26-4d08-be24-4cb0fad08413",
   "metadata": {},
   "outputs": [
    {
     "name": "stdin",
     "output_type": "stream",
     "text": [
      "Enter the year:  2005\n"
     ]
    },
    {
     "name": "stdout",
     "output_type": "stream",
     "text": [
      "This not leapyear\n"
     ]
    }
   ],
   "source": [
    "# Write a Python program to check if a year is a leap year.\n",
    "year = int(input('Enter the year: '))\n",
    "\n",
    "is_leap_year = False\n",
    "\n",
    "# check year\n",
    "if year % 2000 == 0:\n",
    "    is_leap_year = True\n",
    "elif year % 400 == 0:\n",
    "    is_leap_year = True\n",
    "elif year % 4 == 0:\n",
    "    is_leap_year = True\n",
    "\n",
    "\n",
    "if is_leap_year:\n",
    "    print('This is leapyear')\n",
    "else:\n",
    "    print('This not leapyear')"
   ]
  },
  {
   "cell_type": "code",
   "execution_count": 25,
   "id": "b72b3a15-2402-48b1-8577-692a930fbf70",
   "metadata": {},
   "outputs": [
    {
     "name": "stdout",
     "output_type": "stream",
     "text": [
      "2550\n"
     ]
    }
   ],
   "source": [
    "# Write a program that prints the sum of all even numbers from 1 to 100.\n",
    "\n",
    "sum = 0\n",
    "\n",
    "for i in range(0, 101):\n",
    "    if i % 2 == 0:\n",
    "        sum += i\n",
    "\n",
    "print(sum)"
   ]
  },
  {
   "cell_type": "code",
   "execution_count": 26,
   "id": "2df8e2df-c28c-4f85-8bc7-ffffc628b5dd",
   "metadata": {},
   "outputs": [
    {
     "name": "stdout",
     "output_type": "stream",
     "text": [
      "2550\n"
     ]
    }
   ],
   "source": [
    "sum = 0\n",
    "\n",
    "for i in range(0, 101, 2):\n",
    "    sum += i\n",
    "\n",
    "\n",
    "print(sum)"
   ]
  },
  {
   "cell_type": "code",
   "execution_count": 28,
   "id": "f0ba3bda-f6f5-4606-98b8-59f4969e7acd",
   "metadata": {},
   "outputs": [
    {
     "name": "stdout",
     "output_type": "stream",
     "text": [
      "1\n",
      "2\n",
      "3\n",
      "4\n",
      "5\n",
      "6\n",
      "7\n",
      "8\n",
      "9\n",
      "10\n"
     ]
    }
   ],
   "source": [
    "# Write a Python program to display numbers from 1 to 10 using a while loop.\n",
    "i = 1\n",
    "while i < 11:\n",
    "    print(i)\n",
    "    i += 1"
   ]
  },
  {
   "cell_type": "code",
   "execution_count": 35,
   "id": "346da0f4-63db-413d-958b-10a17380c1ae",
   "metadata": {},
   "outputs": [
    {
     "name": "stdin",
     "output_type": "stream",
     "text": [
      "Enter the number:  0\n"
     ]
    },
    {
     "name": "stdout",
     "output_type": "stream",
     "text": [
      "1\n"
     ]
    }
   ],
   "source": [
    "# Write a Python program to find the factorial of a given number using a loop.\n",
    "num = int(input('Enter the number: '))\n",
    "\n",
    "fact = 1\n",
    "\n",
    "if num == 0:\n",
    "    fact = 1\n",
    "elif num < 0:\n",
    "    print('Please enter valid number...')\n",
    "else:\n",
    "    for i in range(1, num+1):\n",
    "        fact = i * fact\n",
    "\n",
    "\n",
    "print(fact)"
   ]
  },
  {
   "cell_type": "code",
   "execution_count": null,
   "id": "7c96d9b6-99e4-46fa-90d0-bca585c8f950",
   "metadata": {},
   "outputs": [],
   "source": [
    "# Write a Python program to print all prime numbers between 1 and 50.\n"
   ]
  }
 ],
 "metadata": {
  "kernelspec": {
   "display_name": "Python 3 (ipykernel)",
   "language": "python",
   "name": "python3"
  },
  "language_info": {
   "codemirror_mode": {
    "name": "ipython",
    "version": 3
   },
   "file_extension": ".py",
   "mimetype": "text/x-python",
   "name": "python",
   "nbconvert_exporter": "python",
   "pygments_lexer": "ipython3",
   "version": "3.11.7"
  },
  "widgets": {
   "application/vnd.jupyter.widget-state+json": {
    "state": {},
    "version_major": 2,
    "version_minor": 0
   }
  }
 },
 "nbformat": 4,
 "nbformat_minor": 5
}
