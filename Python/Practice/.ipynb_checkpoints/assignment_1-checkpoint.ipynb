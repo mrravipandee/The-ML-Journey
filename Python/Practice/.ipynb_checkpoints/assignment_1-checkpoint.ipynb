{
 "cells": [
  {
   "cell_type": "code",
   "execution_count": 2,
   "id": "efc35007-f75d-4d3e-95c5-9afd7b81e5f4",
   "metadata": {},
   "outputs": [
    {
     "name": "stdin",
     "output_type": "stream",
     "text": [
      "Enter your name:  Ravi\n",
      "Enter your age:  21\n"
     ]
    },
    {
     "name": "stdout",
     "output_type": "stream",
     "text": [
      "Hello I am Ravi, or I am 21 years old\n"
     ]
    }
   ],
   "source": [
    " # Input/Output and Variables\n",
    "name = input('Enter your name: ')\n",
    "age = int(input('Enter your age: '))\n",
    "\n",
    "print(f'Hello I am {name}, or I am {age} years old')"
   ]
  },
  {
   "cell_type": "code",
   "execution_count": 3,
   "id": "d4003ca8-30b8-46ff-aa4b-383f0ef25026",
   "metadata": {},
   "outputs": [
    {
     "name": "stdin",
     "output_type": "stream",
     "text": [
      "Enter number:  12\n",
      "Enter number:  10\n"
     ]
    },
    {
     "name": "stdout",
     "output_type": "stream",
     "text": [
      "Sum: 22, Difference is 2\n"
     ]
    }
   ],
   "source": [
    "#  Data Types and Variables\n",
    "n1 = int(input('Enter number: '))\n",
    "n2 = int(input('Enter number: '))\n",
    "\n",
    "print(f'Sum: {(n1+n2)}, Difference is {n1-n2}')"
   ]
  },
  {
   "cell_type": "code",
   "execution_count": 6,
   "id": "2cf574e0-8228-418e-aa6a-051ad4963176",
   "metadata": {},
   "outputs": [
    {
     "name": "stdin",
     "output_type": "stream",
     "text": [
      "Enter Celsius:  28\n"
     ]
    },
    {
     "name": "stdout",
     "output_type": "stream",
     "text": [
      "82.4\n"
     ]
    }
   ],
   "source": [
    "# Type Conversion\n",
    "# Write a program that takes a user's input in Celsius and converts it to Fahrenheit.\n",
    "Celsius = int(input('Enter Celsius: '))\n",
    "fahren = (9 / 5) * Celsius + 32\n",
    "print(fahren)"
   ]
  },
  {
   "cell_type": "code",
   "execution_count": 8,
   "id": "dd005ca3-9859-4e86-97ac-c9a8e04c5caf",
   "metadata": {},
   "outputs": [
    {
     "name": "stdin",
     "output_type": "stream",
     "text": [
      "Enter you variable name:  for\n"
     ]
    },
    {
     "name": "stdout",
     "output_type": "stream",
     "text": [
      "for  its a python keyword\n"
     ]
    }
   ],
   "source": [
    "import keyword\n",
    "\n",
    "word = input('Enter you variable name: ')\n",
    "\n",
    "if keyword.iskeyword(word):\n",
    "    print(word,' its a python keyword')\n",
    "else:\n",
    "    print(word,' its a variable use in program')"
   ]
  },
  {
   "cell_type": "code",
   "execution_count": 10,
   "id": "b07a6175-4d17-4b82-9b43-2b0d5f692d2d",
   "metadata": {},
   "outputs": [
    {
     "name": "stdin",
     "output_type": "stream",
     "text": [
      "Enter the 1st Number:  23\n",
      "Enter the 2nd Number:  2\n",
      "Enter operator (+, -, *, /): [\n"
     ]
    },
    {
     "name": "stdout",
     "output_type": "stream",
     "text": [
      "Select correct operator...\n"
     ]
    }
   ],
   "source": [
    "# Simple Calculator\n",
    "n1 = int(input('Enter the 1st Number: '))\n",
    "n2 = int(input('Enter the 2nd Number: '))\n",
    "operator = input('Enter operator (+, -, *, /):')\n",
    "\n",
    "result = None\n",
    "\n",
    "if operator == '+':\n",
    "    result = n1 + n2\n",
    "elif operator == '-':\n",
    "    result = n1 - n2\n",
    "elif operator == '*':\n",
    "    result = n1 * n2\n",
    "elif operator == '/':\n",
    "    result = n1 / n2\n",
    "else:\n",
    "    result = 'Select correct operator...'\n",
    "\n",
    "\n",
    "print(result)\n",
    "    "
   ]
  },
  {
   "cell_type": "code",
   "execution_count": 11,
   "id": "c03f611a-8088-45dc-9973-af427e436c49",
   "metadata": {},
   "outputs": [
    {
     "name": "stdout",
     "output_type": "stream",
     "text": [
      "a =  10 b =  20\n",
      "a =  20 b =  10\n"
     ]
    }
   ],
   "source": [
    "# Swapping Two Variables\n",
    "a = 10 \n",
    "b = 20\n",
    "print('a = ',a,'b = ', b)\n",
    "\n",
    "a = a + b\n",
    "b = a - b\n",
    "a = a - b\n",
    "\n",
    "print('a = ',a,'b = ', b)"
   ]
  },
  {
   "cell_type": "code",
   "execution_count": 13,
   "id": "911926f6-fce8-4d36-a0a0-87d3cf544d3c",
   "metadata": {},
   "outputs": [
    {
     "name": "stdout",
     "output_type": "stream",
     "text": [
      "The largest number is: 15\n"
     ]
    }
   ],
   "source": [
    "# Largest number in 3\n",
    "n1, n2, n3 = 10, 5, 15\n",
    "\n",
    "# program logic\n",
    "if n1 > n2 and n1 > n3:\n",
    "    result = n1\n",
    "elif n2 > n3:\n",
    "    result = n2\n",
    "else:\n",
    "    result = n3\n",
    "\n",
    "print(f\"The largest number is: {result}\")\n"
   ]
  },
  {
   "cell_type": "code",
   "execution_count": 14,
   "id": "a968b777-3358-4952-8087-d187adde1406",
   "metadata": {},
   "outputs": [
    {
     "name": "stdin",
     "output_type": "stream",
     "text": [
      "Enter the number: 12\n"
     ]
    },
    {
     "name": "stdout",
     "output_type": "stream",
     "text": [
      "Binary 0b1100\n",
      "Octal 0o14\n",
      "Hexadecimal 0xc\n"
     ]
    }
   ],
   "source": [
    "# type conversion\n",
    "num = int(input('Enter the number:'))\n",
    "\n",
    "print(f'Binary {bin(num)}')\n",
    "print(f'Octal {oct(num)}')\n",
    "print(f'Hexadecimal {hex(num)}')"
   ]
  },
  {
   "cell_type": "code",
   "execution_count": 15,
   "id": "049b5e60-8e1b-4b3e-89cc-1f71d714bf5e",
   "metadata": {},
   "outputs": [
    {
     "name": "stdin",
     "output_type": "stream",
     "text": [
      "Enter the number:  15\n"
     ]
    },
    {
     "name": "stdout",
     "output_type": "stream",
     "text": [
      "Odd number\n"
     ]
    }
   ],
   "source": [
    "# even or odd\n",
    "\n",
    "num = int(input('Enter the number: '))\n",
    "if num % 2 == 0:\n",
    "    print('Even number')\n",
    "else:\n",
    "    print('Odd number')"
   ]
  },
  {
   "cell_type": "code",
   "execution_count": null,
   "id": "bd79486e-bd9a-4664-9db1-61a301f45165",
   "metadata": {},
   "outputs": [],
   "source": []
  }
 ],
 "metadata": {
  "kernelspec": {
   "display_name": "Python 3 (ipykernel)",
   "language": "python",
   "name": "python3"
  },
  "language_info": {
   "codemirror_mode": {
    "name": "ipython",
    "version": 3
   },
   "file_extension": ".py",
   "mimetype": "text/x-python",
   "name": "python",
   "nbconvert_exporter": "python",
   "pygments_lexer": "ipython3",
   "version": "3.11.7"
  },
  "widgets": {
   "application/vnd.jupyter.widget-state+json": {
    "state": {},
    "version_major": 2,
    "version_minor": 0
   }
  }
 },
 "nbformat": 4,
 "nbformat_minor": 5
}
