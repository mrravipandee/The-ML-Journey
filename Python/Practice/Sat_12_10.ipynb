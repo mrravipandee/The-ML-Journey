{
 "cells": [
  {
   "cell_type": "code",
   "execution_count": 6,
   "id": "9461ec3a-421d-4253-9a89-db3d05bfd0e7",
   "metadata": {},
   "outputs": [
    {
     "name": "stdin",
     "output_type": "stream",
     "text": [
      "Kuch bhi daldo bhai:  12.4\n"
     ]
    },
    {
     "name": "stdout",
     "output_type": "stream",
     "text": [
      "Float\n"
     ]
    }
   ],
   "source": [
    "# Write a Python program to check if a given number is an integer or a float.\n",
    "input_user = input('Kuch bhi daldo bhai: ')\n",
    "\n",
    "try:\n",
    "    if '.' in input_user:\n",
    "        input_value = float(input_user)\n",
    "        print('Float')\n",
    "    else:\n",
    "        input_value = int(input_user)\n",
    "        print('Integer')\n",
    "except ValueError:\n",
    "    print('String')"
   ]
  },
  {
   "cell_type": "code",
   "execution_count": 7,
   "id": "57056c4d-c6ba-47fe-96d3-5aa43b9ac200",
   "metadata": {},
   "outputs": [
    {
     "name": "stdin",
     "output_type": "stream",
     "text": [
      "Enter the string:  ravi\n"
     ]
    },
    {
     "name": "stdout",
     "output_type": "stream",
     "text": [
      "ivar\n"
     ]
    }
   ],
   "source": [
    "# Write a program to reverse a string in Python.\n",
    "input_user = input('Enter the string: ')\n",
    "\n",
    "reverse = input_user[::-1]\n",
    "\n",
    "print(reverse)"
   ]
  },
  {
   "cell_type": "code",
   "execution_count": 9,
   "id": "829d20f1-38a1-4b2a-b7fd-d40f6ea5002c",
   "metadata": {},
   "outputs": [
    {
     "data": {
      "text/plain": [
       "7"
      ]
     },
     "execution_count": 9,
     "metadata": {},
     "output_type": "execute_result"
    }
   ],
   "source": [
    "# Find the length of a list without using len()\n",
    "def find_len(lst):\n",
    "    len = 0\n",
    "    for i in lst:\n",
    "        len  = len + 1\n",
    "    return len\n",
    "\n",
    "\n",
    "l = [1,2,3,4,5,6,7]\n",
    "find_len(l)"
   ]
  },
  {
   "cell_type": "code",
   "execution_count": 10,
   "id": "27b53c3d-9beb-407f-89f1-dcc6ef04e0c4",
   "metadata": {},
   "outputs": [
    {
     "data": {
      "text/plain": [
       "[9, 7, 8, 5, 6, 4, 3, 2]"
      ]
     },
     "execution_count": 10,
     "metadata": {},
     "output_type": "execute_result"
    }
   ],
   "source": [
    "#  Reverse a list using slicing.\n",
    "l = [2,3,4,6,5,8,7,9]\n",
    "l[::-1]"
   ]
  },
  {
   "cell_type": "code",
   "execution_count": 11,
   "id": "85b9eb05-1729-4edb-b49e-cbe7fc7a25c8",
   "metadata": {},
   "outputs": [
    {
     "data": {
      "text/plain": [
       "['ravi', 'radhe', 'veer', 'shweta']"
      ]
     },
     "execution_count": 11,
     "metadata": {},
     "output_type": "execute_result"
    }
   ],
   "source": [
    "# . Append elements to a list\n",
    "name = ['ravi', 'radhe', 'veer']\n",
    "name.append('shweta')\n",
    "name"
   ]
  },
  {
   "cell_type": "code",
   "execution_count": 13,
   "id": "bebecc10-a8f9-4d51-a6c3-0136263e7b28",
   "metadata": {},
   "outputs": [
    {
     "data": {
      "text/plain": [
       "{1, 2, 3, 4, 5, 6, 7, 8, 9}"
      ]
     },
     "execution_count": 13,
     "metadata": {},
     "output_type": "execute_result"
    }
   ],
   "source": [
    "#  Remove duplicates from a list\n",
    "l = [1,2,1,3,4,5,6,7,3,4,5,8,9]\n",
    "\n",
    "l = set(l)\n",
    "\n",
    "l"
   ]
  },
  {
   "cell_type": "code",
   "execution_count": 15,
   "id": "14a35e55-7b2a-41fe-930d-763babe68811",
   "metadata": {},
   "outputs": [
    {
     "data": {
      "text/plain": [
       "[1, 2, 3, 4, 5, 6]"
      ]
     },
     "execution_count": 15,
     "metadata": {},
     "output_type": "execute_result"
    }
   ],
   "source": [
    "l = [1,2,3,4,2,1,5,6]\n",
    "res = []\n",
    "\n",
    "l = [res.append(item) for item in l if item not in res]\n",
    "res"
   ]
  },
  {
   "cell_type": "code",
   "execution_count": 18,
   "id": "37c1ebec-f0ab-4d15-a9ca-af05add1393d",
   "metadata": {},
   "outputs": [
    {
     "data": {
      "text/plain": [
       "[1, 2, 3, 4, 5]"
      ]
     },
     "execution_count": 18,
     "metadata": {},
     "output_type": "execute_result"
    }
   ],
   "source": [
    "# Sort a list in ascending order.\n",
    "list = [5,4,3,2,1]\n",
    "list.sort()\n",
    "list"
   ]
  },
  {
   "cell_type": "code",
   "execution_count": 24,
   "id": "0ab9f5f6-2fdf-4491-a3c6-4c671cbc39ac",
   "metadata": {},
   "outputs": [
    {
     "name": "stdout",
     "output_type": "stream",
     "text": [
      "8\n"
     ]
    }
   ],
   "source": [
    "#  Find the largest element in a list using a loop.\n",
    "l = [1,2,5,4,8,7,3,6]\n",
    "\n",
    "largest = l[0]\n",
    "\n",
    "for i in range(1, len(l)):\n",
    "    \n",
    "    # program for largest number\n",
    "    if l[i] > largest:\n",
    "        largest = l[i]\n",
    "\n",
    "print(largest)"
   ]
  },
  {
   "cell_type": "code",
   "execution_count": 25,
   "id": "fcbd39c2-2824-477f-8664-c4d079ceb377",
   "metadata": {},
   "outputs": [
    {
     "data": {
      "text/plain": [
       "[1, 2, 5, 4, 8, 7, 3]"
      ]
     },
     "execution_count": 25,
     "metadata": {},
     "output_type": "execute_result"
    }
   ],
   "source": [
    "# Remove an element from a list using index.\n",
    "l = [1,2,5,4,8,7,3,6]\n",
    "del l[-1]\n",
    "l"
   ]
  },
  {
   "cell_type": "code",
   "execution_count": 26,
   "id": "55679f39-e494-48bb-a855-02b668e3d020",
   "metadata": {},
   "outputs": [
    {
     "data": {
      "text/plain": [
       "[2, 5, 4, 8, 7, 3]"
      ]
     },
     "execution_count": 26,
     "metadata": {},
     "output_type": "execute_result"
    }
   ],
   "source": [
    "l.pop(0)\n",
    "l"
   ]
  },
  {
   "cell_type": "code",
   "execution_count": 28,
   "id": "f21e884c-d85e-4919-b9af-8b043ac58794",
   "metadata": {},
   "outputs": [
    {
     "name": "stdout",
     "output_type": "stream",
     "text": [
      "1 5 10\n"
     ]
    }
   ],
   "source": [
    "# Unpack a tuple into variables.\n",
    "x, y, z = (1,5,10)\n",
    "print(x,y,z)"
   ]
  },
  {
   "cell_type": "code",
   "execution_count": 29,
   "id": "535a3b25-375c-4ac0-a25e-24bccde17b4a",
   "metadata": {},
   "outputs": [
    {
     "name": "stdout",
     "output_type": "stream",
     "text": [
      "1\n",
      "[2, 3, 4, 5]\n"
     ]
    }
   ],
   "source": [
    "x, *z = (1,2,3,4,5)\n",
    "print(x)\n",
    "print(z)"
   ]
  },
  {
   "cell_type": "code",
   "execution_count": 30,
   "id": "042d9d22-3bda-4093-8f8d-e3d9acffea65",
   "metadata": {},
   "outputs": [
    {
     "data": {
      "text/plain": [
       "4"
      ]
     },
     "execution_count": 30,
     "metadata": {},
     "output_type": "execute_result"
    }
   ],
   "source": [
    "len(z)"
   ]
  },
  {
   "cell_type": "code",
   "execution_count": 31,
   "id": "4ee90420-88fd-4de6-a853-b6cc66d106ca",
   "metadata": {},
   "outputs": [
    {
     "data": {
      "text/plain": [
       "True"
      ]
     },
     "execution_count": 31,
     "metadata": {},
     "output_type": "execute_result"
    }
   ],
   "source": [
    "# Check if an element exists in a tuple \n",
    "4 in z"
   ]
  },
  {
   "cell_type": "code",
   "execution_count": 37,
   "id": "8fd191e8-0c42-4e13-a224-a72bc8d58efc",
   "metadata": {},
   "outputs": [
    {
     "data": {
      "text/plain": [
       "types.GenericAlias"
      ]
     },
     "execution_count": 37,
     "metadata": {},
     "output_type": "execute_result"
    }
   ],
   "source": [
    "# Slice a tuple to get a portion of it\n",
    "tup = tuple[1,2,3,4,5,6,7,8]\n",
    "type(tup)"
   ]
  },
  {
   "cell_type": "code",
   "execution_count": 40,
   "id": "584f767a-7534-4fa8-9f9b-f226baf90ad0",
   "metadata": {},
   "outputs": [
    {
     "data": {
      "text/plain": [
       "(3, 4, 5)"
      ]
     },
     "execution_count": 40,
     "metadata": {},
     "output_type": "execute_result"
    }
   ],
   "source": [
    "tup = (1,2,3,4,5,6,7,8)\n",
    "tup[2:5:]"
   ]
  },
  {
   "cell_type": "code",
   "execution_count": 41,
   "id": "cb3811ff-75be-4fc7-8afd-6914c9316048",
   "metadata": {},
   "outputs": [
    {
     "data": {
      "text/plain": [
       "1"
      ]
     },
     "execution_count": 41,
     "metadata": {},
     "output_type": "execute_result"
    }
   ],
   "source": [
    "# Find the index of an element in a tuple.\n",
    "tup.index(2)"
   ]
  },
  {
   "cell_type": "code",
   "execution_count": 42,
   "id": "8a2360e2-07d9-4f74-8d65-c1683afd6ac2",
   "metadata": {},
   "outputs": [
    {
     "data": {
      "text/plain": [
       "{1, 2, 3, 4, 5}"
      ]
     },
     "execution_count": 42,
     "metadata": {},
     "output_type": "execute_result"
    }
   ],
   "source": [
    "#  Add an element to a set\n",
    "s1 = {1,2,3,4}\n",
    "s1.add(5)\n",
    "s1"
   ]
  },
  {
   "cell_type": "code",
   "execution_count": 43,
   "id": "4ec0866b-4bc3-42ab-a243-bc04dc43ec61",
   "metadata": {},
   "outputs": [
    {
     "data": {
      "text/plain": [
       "{1, 2, 3, 4, 5, 6, 7, 8}"
      ]
     },
     "execution_count": 43,
     "metadata": {},
     "output_type": "execute_result"
    }
   ],
   "source": [
    "s1.update([6,7,8])\n",
    "s1"
   ]
  },
  {
   "cell_type": "code",
   "execution_count": 44,
   "id": "b3c37a0e-d04b-457b-ad9c-63bda084af0a",
   "metadata": {},
   "outputs": [
    {
     "data": {
      "text/plain": [
       "{1, 3, 4, 5, 6, 7, 8}"
      ]
     },
     "execution_count": 44,
     "metadata": {},
     "output_type": "execute_result"
    }
   ],
   "source": [
    "#  Remove an element from a set.\n",
    "s1.remove(2)\n",
    "s1"
   ]
  },
  {
   "cell_type": "code",
   "execution_count": 48,
   "id": "8014dbd5-4b0e-47a1-9433-84d9956a6b62",
   "metadata": {},
   "outputs": [
    {
     "data": {
      "text/plain": [
       "{1, 2, 3, 4, 5}"
      ]
     },
     "execution_count": 48,
     "metadata": {},
     "output_type": "execute_result"
    }
   ],
   "source": [
    "# Find the union of two sets\n",
    "s1 = {1,2,3}\n",
    "s2 = {3,4,5}\n",
    "s1.union(s2)"
   ]
  },
  {
   "cell_type": "code",
   "execution_count": 46,
   "id": "9e1d53fc-80cf-4b82-b872-85f11973b7c6",
   "metadata": {},
   "outputs": [
    {
     "data": {
      "text/plain": [
       "{3, 4, 5}"
      ]
     },
     "execution_count": 46,
     "metadata": {},
     "output_type": "execute_result"
    }
   ],
   "source": [
    "s2"
   ]
  },
  {
   "cell_type": "code",
   "execution_count": 47,
   "id": "a7a113ed-7810-436f-b56c-af6e6cc9c17d",
   "metadata": {},
   "outputs": [
    {
     "data": {
      "text/plain": [
       "{1, 2, 3, 4, 5}"
      ]
     },
     "execution_count": 47,
     "metadata": {},
     "output_type": "execute_result"
    }
   ],
   "source": [
    "s1 | s2"
   ]
  },
  {
   "cell_type": "code",
   "execution_count": 49,
   "id": "0fee45f4-5424-401a-8cfc-300332c75f05",
   "metadata": {},
   "outputs": [
    {
     "data": {
      "text/plain": [
       "{3}"
      ]
     },
     "execution_count": 49,
     "metadata": {},
     "output_type": "execute_result"
    }
   ],
   "source": [
    "#  Find the intersection of two sets.\n",
    "s1.intersection(s2)"
   ]
  },
  {
   "cell_type": "code",
   "execution_count": 51,
   "id": "f8f08fd9-1a2e-4aff-9e68-a8dd60c99cf8",
   "metadata": {},
   "outputs": [
    {
     "data": {
      "text/plain": [
       "{1, 2, 3}"
      ]
     },
     "execution_count": 51,
     "metadata": {},
     "output_type": "execute_result"
    }
   ],
   "source": [
    "# Remove duplicates from a list using a set.\n",
    "l1 = [1,2,3,3,2,1]\n",
    "l1 = set(l1)\n",
    "l1"
   ]
  },
  {
   "cell_type": "code",
   "execution_count": 52,
   "id": "1e86780d-cb9f-42ee-858a-211ef99ca5c1",
   "metadata": {},
   "outputs": [
    {
     "data": {
      "text/plain": [
       "set()"
      ]
     },
     "execution_count": 52,
     "metadata": {},
     "output_type": "execute_result"
    }
   ],
   "source": [
    "# Clear all elements from a set\n",
    "s = {1,2,3}\n",
    "s.clear()\n",
    "s"
   ]
  },
  {
   "cell_type": "code",
   "execution_count": 53,
   "id": "5aa81834-ee90-4bcd-937d-427ff1f4621b",
   "metadata": {},
   "outputs": [
    {
     "data": {
      "text/plain": [
       "'Ravi'"
      ]
     },
     "execution_count": 53,
     "metadata": {},
     "output_type": "execute_result"
    }
   ],
   "source": [
    "#  Access the value associated with a key.\n",
    "dict = {\n",
    "    'name': 'Ravi',\n",
    "    'gender': 'Male',\n",
    "    'age': 21,\n",
    "    'DOB': '18 April 2004'\n",
    "}\n",
    "\n",
    "dict['name']"
   ]
  },
  {
   "cell_type": "code",
   "execution_count": 54,
   "id": "db989b4b-5944-47eb-9140-dce81b00f391",
   "metadata": {},
   "outputs": [
    {
     "data": {
      "text/plain": [
       "{'name': 'Ravi',\n",
       " 'gender': 'Male',\n",
       " 'age': 21,\n",
       " 'DOB': '18 April 2004',\n",
       " 'Location': 'Nashik - 422010'}"
      ]
     },
     "execution_count": 54,
     "metadata": {},
     "output_type": "execute_result"
    }
   ],
   "source": [
    "dict['Location'] = 'Nashik - 422010'\n",
    "dict"
   ]
  },
  {
   "cell_type": "code",
   "execution_count": 55,
   "id": "bc22edcc-a11f-4d24-b470-dc12f31a282c",
   "metadata": {},
   "outputs": [
    {
     "data": {
      "text/plain": [
       "{'name': 'Ravi',\n",
       " 'gender': 'Male',\n",
       " 'DOB': '18 April 2004',\n",
       " 'Location': 'Nashik - 422010'}"
      ]
     },
     "execution_count": 55,
     "metadata": {},
     "output_type": "execute_result"
    }
   ],
   "source": [
    "# Remove a key-value pair from a dictionary\n",
    "del dict['age']\n",
    "dict"
   ]
  },
  {
   "cell_type": "code",
   "execution_count": 56,
   "id": "58472f8e-fc1b-4153-bbf6-11e8c50e2e4f",
   "metadata": {},
   "outputs": [
    {
     "ename": "AttributeError",
     "evalue": "'dict' object has no attribute 'remove'",
     "output_type": "error",
     "traceback": [
      "\u001b[0;31m---------------------------------------------------------------------------\u001b[0m",
      "\u001b[0;31mAttributeError\u001b[0m                            Traceback (most recent call last)",
      "Cell \u001b[0;32mIn[56], line 1\u001b[0m\n\u001b[0;32m----> 1\u001b[0m \u001b[38;5;28mdict\u001b[39m\u001b[38;5;241m.\u001b[39mremove(\u001b[38;5;124m'\u001b[39m\u001b[38;5;124mLocation\u001b[39m\u001b[38;5;124m'\u001b[39m)\n\u001b[1;32m      2\u001b[0m \u001b[38;5;28mdict\u001b[39m\n",
      "\u001b[0;31mAttributeError\u001b[0m: 'dict' object has no attribute 'remove'"
     ]
    }
   ],
   "source": [
    "dict.remove('Location')\n",
    "dict"
   ]
  },
  {
   "cell_type": "code",
   "execution_count": 57,
   "id": "c7091e51-32de-450a-9010-a1da96c4957f",
   "metadata": {},
   "outputs": [
    {
     "data": {
      "text/plain": [
       "{'name': 'Ravi', 'gender': 'Male', 'DOB': '18 April 2004'}"
      ]
     },
     "execution_count": 57,
     "metadata": {},
     "output_type": "execute_result"
    }
   ],
   "source": [
    "dict.pop('Location')\n",
    "dict"
   ]
  },
  {
   "cell_type": "code",
   "execution_count": 58,
   "id": "3e3e54d0-c437-43b7-a87f-dbcfdf014737",
   "metadata": {},
   "outputs": [
    {
     "data": {
      "text/plain": [
       "True"
      ]
     },
     "execution_count": 58,
     "metadata": {},
     "output_type": "execute_result"
    }
   ],
   "source": [
    "# Check if a key exists in a dictionary\n",
    "'gender' in dict"
   ]
  },
  {
   "cell_type": "code",
   "execution_count": 60,
   "id": "d5be2dd9-2c31-4e60-8632-1460098e63d9",
   "metadata": {},
   "outputs": [],
   "source": [
    "# Merge two dictionaries into one\n",
    "dict1 = {\n",
    "    'name': 'Ravii',\n",
    "    'gender': 'Male'\n",
    "}\n",
    "\n",
    "dict2 = {\n",
    "    'age': 22,\n",
    "    'dob': '18 April 2004'\n",
    "}\n",
    "\n",
    "dict1.update(dict2)"
   ]
  },
  {
   "cell_type": "code",
   "execution_count": 61,
   "id": "df1f31d6-ecd5-46a6-bb88-95c936840c25",
   "metadata": {},
   "outputs": [
    {
     "data": {
      "text/plain": [
       "{'name': 'Ravii', 'gender': 'Male', 'age': 22, 'dob': '18 April 2004'}"
      ]
     },
     "execution_count": 61,
     "metadata": {},
     "output_type": "execute_result"
    }
   ],
   "source": [
    "dict1"
   ]
  },
  {
   "cell_type": "code",
   "execution_count": 62,
   "id": "c0b65538-0f9d-4556-bf3a-9af26f7daaea",
   "metadata": {},
   "outputs": [
    {
     "data": {
      "text/plain": [
       "dict_keys(['name', 'gender', 'age', 'dob'])"
      ]
     },
     "execution_count": 62,
     "metadata": {},
     "output_type": "execute_result"
    }
   ],
   "source": [
    "dict1.keys()"
   ]
  },
  {
   "cell_type": "code",
   "execution_count": 63,
   "id": "128d0784-be27-4ee1-933d-b19ce8494cb1",
   "metadata": {},
   "outputs": [
    {
     "data": {
      "text/plain": [
       "dict_values(['Ravii', 'Male', 22, '18 April 2004'])"
      ]
     },
     "execution_count": 63,
     "metadata": {},
     "output_type": "execute_result"
    }
   ],
   "source": [
    "dict1.values()"
   ]
  },
  {
   "cell_type": "code",
   "execution_count": 64,
   "id": "13d96948-ede9-4d7d-a609-e69bd1434f62",
   "metadata": {},
   "outputs": [
    {
     "data": {
      "text/plain": [
       "4"
      ]
     },
     "execution_count": 64,
     "metadata": {},
     "output_type": "execute_result"
    }
   ],
   "source": [
    "len(dict1)"
   ]
  },
  {
   "cell_type": "code",
   "execution_count": null,
   "id": "b5315dce-4ec4-4b23-9c69-db19ecdeff6d",
   "metadata": {},
   "outputs": [],
   "source": []
  }
 ],
 "metadata": {
  "kernelspec": {
   "display_name": "Python 3 (ipykernel)",
   "language": "python",
   "name": "python3"
  },
  "language_info": {
   "codemirror_mode": {
    "name": "ipython",
    "version": 3
   },
   "file_extension": ".py",
   "mimetype": "text/x-python",
   "name": "python",
   "nbconvert_exporter": "python",
   "pygments_lexer": "ipython3",
   "version": "3.11.7"
  },
  "widgets": {
   "application/vnd.jupyter.widget-state+json": {
    "state": {},
    "version_major": 2,
    "version_minor": 0
   }
  }
 },
 "nbformat": 4,
 "nbformat_minor": 5
}
